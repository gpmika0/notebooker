{
 "cells": [
  {
   "cell_type": "markdown",
   "id": "trained-hartford",
   "metadata": {},
   "source": [
    "## **Create New BQ Dataset**"
   ]
  },
  {
   "cell_type": "code",
   "execution_count": 1,
   "id": "extensive-aurora",
   "metadata": {},
   "outputs": [],
   "source": [
    "dataset_id = \"datamart\""
   ]
  },
  {
   "cell_type": "code",
   "execution_count": 2,
   "id": "ranking-happiness",
   "metadata": {},
   "outputs": [
    {
     "name": "stdout",
     "output_type": "stream",
     "text": [
      "Dataset 'authentic-light-303018:datamart' successfully created.\n"
     ]
    }
   ],
   "source": [
    "!bq --location=US mk --dataset {dataset_id}"
   ]
  },
  {
   "cell_type": "markdown",
   "id": "endless-thousand",
   "metadata": {},
   "source": [
    "## **Create Modeled Tables and Convert Data Types**"
   ]
  },
  {
   "cell_type": "markdown",
   "id": "tough-pocket",
   "metadata": {},
   "source": [
    "#### Create NameBasics table and convert the birthYear and deathYear fields to INT64"
   ]
  },
  {
   "cell_type": "code",
   "execution_count": 35,
   "id": "marked-catering",
   "metadata": {},
   "outputs": [
    {
     "data": {
      "text/html": [
       "<div>\n",
       "<style scoped>\n",
       "    .dataframe tbody tr th:only-of-type {\n",
       "        vertical-align: middle;\n",
       "    }\n",
       "\n",
       "    .dataframe tbody tr th {\n",
       "        vertical-align: top;\n",
       "    }\n",
       "\n",
       "    .dataframe thead th {\n",
       "        text-align: right;\n",
       "    }\n",
       "</style>\n",
       "<table border=\"1\" class=\"dataframe\">\n",
       "  <thead>\n",
       "    <tr style=\"text-align: right;\">\n",
       "      <th></th>\n",
       "    </tr>\n",
       "  </thead>\n",
       "  <tbody>\n",
       "  </tbody>\n",
       "</table>\n",
       "</div>"
      ],
      "text/plain": [
       "Empty DataFrame\n",
       "Columns: []\n",
       "Index: []"
      ]
     },
     "execution_count": 35,
     "metadata": {},
     "output_type": "execute_result"
    }
   ],
   "source": [
    "%%bigquery\n",
    "CREATE TABLE datamart.NameBasics AS \n",
    "SELECT nconst, primaryName, CAST(birthYear as INT64) as birthYear, CAST(deathYear as INT64) as deathYear, primaryProfession, knownForTitles FROM imdb_staging.NameBasics WHERE birthYear != \"\\\\N\" AND deathYear != \"\\\\N\"\n",
    "UNION DISTINCT\n",
    "SELECT nconst, primaryName, NULL, NULL, primaryProfession, knownForTitles FROM imdb_staging.NameBasics WHERE birthYear = \"\\\\N\" and deathYear = \"\\\\N\"\n",
    "UNION DISTINCT\n",
    "SELECT nconst, primaryName, CAST(birthYear as INT64) as birthYear, NULL, primaryProfession, knownForTitles FROM imdb_staging.NameBasics WHERE birthYear != \"\\\\N\" AND deathYear = \"\\\\N\"\n",
    "UNION DISTINCT\n",
    "SELECT nconst, primaryName, NULL, CAST(deathYear as INT64) as deathYear, primaryProfession, knownForTitles FROM imdb_staging.NameBasics WHERE birthYear = \"\\\\N\" AND deathYear != \"\\\\N\""
   ]
  },
  {
   "cell_type": "markdown",
   "id": "czech-anthony",
   "metadata": {},
   "source": [
    "**Check to see if everything was added correctly**"
   ]
  },
  {
   "cell_type": "code",
   "execution_count": 39,
   "id": "spare-jungle",
   "metadata": {},
   "outputs": [
    {
     "data": {
      "text/html": [
       "<div>\n",
       "<style scoped>\n",
       "    .dataframe tbody tr th:only-of-type {\n",
       "        vertical-align: middle;\n",
       "    }\n",
       "\n",
       "    .dataframe tbody tr th {\n",
       "        vertical-align: top;\n",
       "    }\n",
       "\n",
       "    .dataframe thead th {\n",
       "        text-align: right;\n",
       "    }\n",
       "</style>\n",
       "<table border=\"1\" class=\"dataframe\">\n",
       "  <thead>\n",
       "    <tr style=\"text-align: right;\">\n",
       "      <th></th>\n",
       "      <th>nconst</th>\n",
       "      <th>primaryName</th>\n",
       "      <th>birthYear</th>\n",
       "      <th>deathYear</th>\n",
       "      <th>primaryProfession</th>\n",
       "      <th>knownForTitles</th>\n",
       "    </tr>\n",
       "  </thead>\n",
       "  <tbody>\n",
       "    <tr>\n",
       "      <th>0</th>\n",
       "      <td>nm12396807</td>\n",
       "      <td>Sigmund Jones</td>\n",
       "      <td>NaN</td>\n",
       "      <td>NaN</td>\n",
       "      <td>stunts</td>\n",
       "      <td>tt0228690</td>\n",
       "    </tr>\n",
       "    <tr>\n",
       "      <th>1</th>\n",
       "      <td>nm9903591</td>\n",
       "      <td>Mark Howard</td>\n",
       "      <td>NaN</td>\n",
       "      <td>NaN</td>\n",
       "      <td>cinematographer,editor</td>\n",
       "      <td>tt8501648</td>\n",
       "    </tr>\n",
       "    <tr>\n",
       "      <th>2</th>\n",
       "      <td>nm1704605</td>\n",
       "      <td>V. Gorelova</td>\n",
       "      <td>NaN</td>\n",
       "      <td>NaN</td>\n",
       "      <td>editorial_department,set_decorator</td>\n",
       "      <td>tt0270784,tt0106049</td>\n",
       "    </tr>\n",
       "    <tr>\n",
       "      <th>3</th>\n",
       "      <td>nm1880314</td>\n",
       "      <td>Martín Wain</td>\n",
       "      <td>NaN</td>\n",
       "      <td>NaN</td>\n",
       "      <td>director,writer,producer</td>\n",
       "      <td>tt0781391,tt0830800,tt0780014,tt0437444</td>\n",
       "    </tr>\n",
       "    <tr>\n",
       "      <th>4</th>\n",
       "      <td>nm1881958</td>\n",
       "      <td>Pamela Mattioli</td>\n",
       "      <td>NaN</td>\n",
       "      <td>NaN</td>\n",
       "      <td>actress,casting_department</td>\n",
       "      <td>tt1213825,tt0942886,tt1512273,tt0454846</td>\n",
       "    </tr>\n",
       "  </tbody>\n",
       "</table>\n",
       "</div>"
      ],
      "text/plain": [
       "       nconst      primaryName  birthYear  deathYear  \\\n",
       "0  nm12396807    Sigmund Jones        NaN        NaN   \n",
       "1   nm9903591      Mark Howard        NaN        NaN   \n",
       "2   nm1704605      V. Gorelova        NaN        NaN   \n",
       "3   nm1880314      Martín Wain        NaN        NaN   \n",
       "4   nm1881958  Pamela Mattioli        NaN        NaN   \n",
       "\n",
       "                    primaryProfession                           knownForTitles  \n",
       "0                              stunts                                tt0228690  \n",
       "1              cinematographer,editor                                tt8501648  \n",
       "2  editorial_department,set_decorator                      tt0270784,tt0106049  \n",
       "3            director,writer,producer  tt0781391,tt0830800,tt0780014,tt0437444  \n",
       "4          actress,casting_department  tt1213825,tt0942886,tt1512273,tt0454846  "
      ]
     },
     "execution_count": 39,
     "metadata": {},
     "output_type": "execute_result"
    }
   ],
   "source": [
    "%%bigquery\n",
    "SELECT * FROM datamart.NameBasics LIMIT 5"
   ]
  },
  {
   "cell_type": "code",
   "execution_count": 43,
   "id": "contained-tomato",
   "metadata": {},
   "outputs": [
    {
     "data": {
      "text/html": [
       "<div>\n",
       "<style scoped>\n",
       "    .dataframe tbody tr th:only-of-type {\n",
       "        vertical-align: middle;\n",
       "    }\n",
       "\n",
       "    .dataframe tbody tr th {\n",
       "        vertical-align: top;\n",
       "    }\n",
       "\n",
       "    .dataframe thead th {\n",
       "        text-align: right;\n",
       "    }\n",
       "</style>\n",
       "<table border=\"1\" class=\"dataframe\">\n",
       "  <thead>\n",
       "    <tr style=\"text-align: right;\">\n",
       "      <th></th>\n",
       "      <th>nconst</th>\n",
       "      <th>primaryName</th>\n",
       "      <th>birthYear</th>\n",
       "      <th>deathYear</th>\n",
       "      <th>primaryProfession</th>\n",
       "      <th>knownForTitles</th>\n",
       "    </tr>\n",
       "  </thead>\n",
       "  <tbody>\n",
       "    <tr>\n",
       "      <th>0</th>\n",
       "      <td>nm0122839</td>\n",
       "      <td>R.J. Burns</td>\n",
       "      <td>1950</td>\n",
       "      <td>NaN</td>\n",
       "      <td>actor,camera_department,casting_department</td>\n",
       "      <td>tt0120786,tt0118928,tt0145971,tt0383478</td>\n",
       "    </tr>\n",
       "    <tr>\n",
       "      <th>1</th>\n",
       "      <td>nm0005891</td>\n",
       "      <td>Tim Suhrstedt</td>\n",
       "      <td>1948</td>\n",
       "      <td>NaN</td>\n",
       "      <td>cinematographer,camera_department</td>\n",
       "      <td>tt0090887,tt0096928,tt0095690,tt0387808</td>\n",
       "    </tr>\n",
       "    <tr>\n",
       "      <th>2</th>\n",
       "      <td>nm1456336</td>\n",
       "      <td>Gudrun Ziegler</td>\n",
       "      <td>1942</td>\n",
       "      <td>NaN</td>\n",
       "      <td>producer,director,writer</td>\n",
       "      <td>tt0893502,tt0382491,tt2143588,tt0326706</td>\n",
       "    </tr>\n",
       "    <tr>\n",
       "      <th>3</th>\n",
       "      <td>nm0374287</td>\n",
       "      <td>Milan Hein</td>\n",
       "      <td>1946</td>\n",
       "      <td>NaN</td>\n",
       "      <td>actor,writer</td>\n",
       "      <td>tt0905992,tt0395962,tt0078054,tt0074846</td>\n",
       "    </tr>\n",
       "    <tr>\n",
       "      <th>4</th>\n",
       "      <td>nm1538239</td>\n",
       "      <td>Brea Bee</td>\n",
       "      <td>1975</td>\n",
       "      <td>NaN</td>\n",
       "      <td>actress,producer</td>\n",
       "      <td>tt1045658,tt0413573,tt0056758,tt8619822</td>\n",
       "    </tr>\n",
       "  </tbody>\n",
       "</table>\n",
       "</div>"
      ],
      "text/plain": [
       "      nconst     primaryName  birthYear  deathYear  \\\n",
       "0  nm0122839      R.J. Burns       1950        NaN   \n",
       "1  nm0005891   Tim Suhrstedt       1948        NaN   \n",
       "2  nm1456336  Gudrun Ziegler       1942        NaN   \n",
       "3  nm0374287      Milan Hein       1946        NaN   \n",
       "4  nm1538239        Brea Bee       1975        NaN   \n",
       "\n",
       "                            primaryProfession  \\\n",
       "0  actor,camera_department,casting_department   \n",
       "1           cinematographer,camera_department   \n",
       "2                    producer,director,writer   \n",
       "3                                actor,writer   \n",
       "4                            actress,producer   \n",
       "\n",
       "                            knownForTitles  \n",
       "0  tt0120786,tt0118928,tt0145971,tt0383478  \n",
       "1  tt0090887,tt0096928,tt0095690,tt0387808  \n",
       "2  tt0893502,tt0382491,tt2143588,tt0326706  \n",
       "3  tt0905992,tt0395962,tt0078054,tt0074846  \n",
       "4  tt1045658,tt0413573,tt0056758,tt8619822  "
      ]
     },
     "execution_count": 43,
     "metadata": {},
     "output_type": "execute_result"
    }
   ],
   "source": [
    "%%bigquery \n",
    "SELECT * FROM datamart.NameBasics WHERE birthYear IS NOT null AND deathYear IS null LIMIT 5"
   ]
  },
  {
   "cell_type": "code",
   "execution_count": 44,
   "id": "unlimited-freedom",
   "metadata": {},
   "outputs": [
    {
     "data": {
      "text/html": [
       "<div>\n",
       "<style scoped>\n",
       "    .dataframe tbody tr th:only-of-type {\n",
       "        vertical-align: middle;\n",
       "    }\n",
       "\n",
       "    .dataframe tbody tr th {\n",
       "        vertical-align: top;\n",
       "    }\n",
       "\n",
       "    .dataframe thead th {\n",
       "        text-align: right;\n",
       "    }\n",
       "</style>\n",
       "<table border=\"1\" class=\"dataframe\">\n",
       "  <thead>\n",
       "    <tr style=\"text-align: right;\">\n",
       "      <th></th>\n",
       "      <th>nconst</th>\n",
       "      <th>primaryName</th>\n",
       "      <th>birthYear</th>\n",
       "      <th>deathYear</th>\n",
       "      <th>primaryProfession</th>\n",
       "      <th>knownForTitles</th>\n",
       "    </tr>\n",
       "  </thead>\n",
       "  <tbody>\n",
       "    <tr>\n",
       "      <th>0</th>\n",
       "      <td>nm7888790</td>\n",
       "      <td>Nikolai Obukhovich</td>\n",
       "      <td>NaN</td>\n",
       "      <td>2016</td>\n",
       "      <td>director,writer,cinematographer</td>\n",
       "      <td>tt10006182,tt5419750</td>\n",
       "    </tr>\n",
       "    <tr>\n",
       "      <th>1</th>\n",
       "      <td>nm0662561</td>\n",
       "      <td>Ray Parker</td>\n",
       "      <td>NaN</td>\n",
       "      <td>2014</td>\n",
       "      <td>miscellaneous,writer,script_department</td>\n",
       "      <td>tt0169492,tt0147747,tt0078581,tt0072499</td>\n",
       "    </tr>\n",
       "    <tr>\n",
       "      <th>2</th>\n",
       "      <td>nm8468956</td>\n",
       "      <td>Saeed Karimian</td>\n",
       "      <td>NaN</td>\n",
       "      <td>2017</td>\n",
       "      <td>producer,director</td>\n",
       "      <td>tt6127364,tt6875506,tt7666988,tt6126284</td>\n",
       "    </tr>\n",
       "    <tr>\n",
       "      <th>3</th>\n",
       "      <td>nm0761099</td>\n",
       "      <td>Emilio Sancho</td>\n",
       "      <td>NaN</td>\n",
       "      <td>1967</td>\n",
       "      <td>miscellaneous,actor</td>\n",
       "      <td>tt0055310,tt0048066,tt0045896,tt0058943</td>\n",
       "    </tr>\n",
       "    <tr>\n",
       "      <th>4</th>\n",
       "      <td>nm0913750</td>\n",
       "      <td>Julian Wastall</td>\n",
       "      <td>NaN</td>\n",
       "      <td>1994</td>\n",
       "      <td>composer,soundtrack,music_department</td>\n",
       "      <td>tt0100024,tt0105977,tt0096343,tt1963768</td>\n",
       "    </tr>\n",
       "  </tbody>\n",
       "</table>\n",
       "</div>"
      ],
      "text/plain": [
       "      nconst         primaryName  birthYear  deathYear  \\\n",
       "0  nm7888790  Nikolai Obukhovich        NaN       2016   \n",
       "1  nm0662561          Ray Parker        NaN       2014   \n",
       "2  nm8468956      Saeed Karimian        NaN       2017   \n",
       "3  nm0761099       Emilio Sancho        NaN       1967   \n",
       "4  nm0913750      Julian Wastall        NaN       1994   \n",
       "\n",
       "                        primaryProfession  \\\n",
       "0         director,writer,cinematographer   \n",
       "1  miscellaneous,writer,script_department   \n",
       "2                       producer,director   \n",
       "3                     miscellaneous,actor   \n",
       "4    composer,soundtrack,music_department   \n",
       "\n",
       "                            knownForTitles  \n",
       "0                     tt10006182,tt5419750  \n",
       "1  tt0169492,tt0147747,tt0078581,tt0072499  \n",
       "2  tt6127364,tt6875506,tt7666988,tt6126284  \n",
       "3  tt0055310,tt0048066,tt0045896,tt0058943  \n",
       "4  tt0100024,tt0105977,tt0096343,tt1963768  "
      ]
     },
     "execution_count": 44,
     "metadata": {},
     "output_type": "execute_result"
    }
   ],
   "source": [
    "%%bigquery \n",
    "SELECT * FROM datamart.NameBasics WHERE birthYear IS null AND deathYear IS NOT null LIMIT 5"
   ]
  },
  {
   "cell_type": "markdown",
   "id": "adopted-jungle",
   "metadata": {},
   "source": [
    "#### **The primary key for this table is nconst. check for any records with the same primary key**"
   ]
  },
  {
   "cell_type": "code",
   "execution_count": 33,
   "id": "likely-opinion",
   "metadata": {},
   "outputs": [
    {
     "data": {
      "text/html": [
       "<div>\n",
       "<style scoped>\n",
       "    .dataframe tbody tr th:only-of-type {\n",
       "        vertical-align: middle;\n",
       "    }\n",
       "\n",
       "    .dataframe tbody tr th {\n",
       "        vertical-align: top;\n",
       "    }\n",
       "\n",
       "    .dataframe thead th {\n",
       "        text-align: right;\n",
       "    }\n",
       "</style>\n",
       "<table border=\"1\" class=\"dataframe\">\n",
       "  <thead>\n",
       "    <tr style=\"text-align: right;\">\n",
       "      <th></th>\n",
       "      <th>record_count</th>\n",
       "    </tr>\n",
       "  </thead>\n",
       "  <tbody>\n",
       "  </tbody>\n",
       "</table>\n",
       "</div>"
      ],
      "text/plain": [
       "Empty DataFrame\n",
       "Columns: [record_count]\n",
       "Index: []"
      ]
     },
     "execution_count": 33,
     "metadata": {},
     "output_type": "execute_result"
    }
   ],
   "source": [
    "%%bigquery\n",
    "SELECT count(*) as record_count FROM datamart.NameBasics GROUP BY nconst HAVING count(*) > 1"
   ]
  },
  {
   "cell_type": "markdown",
   "id": "recent-michigan",
   "metadata": {},
   "source": [
    "#### **CREATE TitleBasics table by joining imdb_staging.TitleBasics with imdb_staging.TitleRatings**"
   ]
  },
  {
   "cell_type": "markdown",
   "id": "running-recorder",
   "metadata": {},
   "source": [
    "**We need to create a temporary table because we will have to later convert the data types of this table**"
   ]
  },
  {
   "cell_type": "code",
   "execution_count": 79,
   "id": "senior-peace",
   "metadata": {},
   "outputs": [
    {
     "data": {
      "text/html": [
       "<div>\n",
       "<style scoped>\n",
       "    .dataframe tbody tr th:only-of-type {\n",
       "        vertical-align: middle;\n",
       "    }\n",
       "\n",
       "    .dataframe tbody tr th {\n",
       "        vertical-align: top;\n",
       "    }\n",
       "\n",
       "    .dataframe thead th {\n",
       "        text-align: right;\n",
       "    }\n",
       "</style>\n",
       "<table border=\"1\" class=\"dataframe\">\n",
       "  <thead>\n",
       "    <tr style=\"text-align: right;\">\n",
       "      <th></th>\n",
       "    </tr>\n",
       "  </thead>\n",
       "  <tbody>\n",
       "  </tbody>\n",
       "</table>\n",
       "</div>"
      ],
      "text/plain": [
       "Empty DataFrame\n",
       "Columns: []\n",
       "Index: []"
      ]
     },
     "execution_count": 79,
     "metadata": {},
     "output_type": "execute_result"
    }
   ],
   "source": [
    "%%bigquery\n",
    "CREATE TABLE datamart.temp AS\n",
    "SELECT t.tconst, t.titleType, t.primaryTitle, t.originalTitle, t.isAdult, t.startYear, t.endYear, t.runtimeMinutes, t.genres, r.averageRating, r.numVotes\n",
    "FROM imdb_staging.TitleBasics as t LEFT JOIN imdb_staging.TitleRatings as r ON t.tconst = r.tconst"
   ]
  },
  {
   "cell_type": "markdown",
   "id": "dressed-reasoning",
   "metadata": {},
   "source": [
    "#### **Convert isAdult to BOOL, startYear to INT, endYear to INT, and runtimeMinutes to INT**"
   ]
  },
  {
   "cell_type": "markdown",
   "id": "disabled-placement",
   "metadata": {},
   "source": [
    "**Check if isAdult, startYear, endYear, and runtimeMinutes have any null values**"
   ]
  },
  {
   "cell_type": "code",
   "execution_count": 52,
   "id": "aggressive-gilbert",
   "metadata": {},
   "outputs": [
    {
     "data": {
      "text/html": [
       "<div>\n",
       "<style scoped>\n",
       "    .dataframe tbody tr th:only-of-type {\n",
       "        vertical-align: middle;\n",
       "    }\n",
       "\n",
       "    .dataframe tbody tr th {\n",
       "        vertical-align: top;\n",
       "    }\n",
       "\n",
       "    .dataframe thead th {\n",
       "        text-align: right;\n",
       "    }\n",
       "</style>\n",
       "<table border=\"1\" class=\"dataframe\">\n",
       "  <thead>\n",
       "    <tr style=\"text-align: right;\">\n",
       "      <th></th>\n",
       "      <th>tconst</th>\n",
       "      <th>titleType</th>\n",
       "      <th>primaryTitle</th>\n",
       "      <th>originalTitle</th>\n",
       "      <th>isAdult</th>\n",
       "      <th>startYear</th>\n",
       "      <th>endYear</th>\n",
       "      <th>runtimeMinutes</th>\n",
       "      <th>genres</th>\n",
       "    </tr>\n",
       "  </thead>\n",
       "  <tbody>\n",
       "  </tbody>\n",
       "</table>\n",
       "</div>"
      ],
      "text/plain": [
       "Empty DataFrame\n",
       "Columns: [tconst, titleType, primaryTitle, originalTitle, isAdult, startYear, endYear, runtimeMinutes, genres]\n",
       "Index: []"
      ]
     },
     "execution_count": 52,
     "metadata": {},
     "output_type": "execute_result"
    }
   ],
   "source": [
    "%%bigquery\n",
    "SELECT * from imdb_staging.TitleBasics where isAdult = \"\\\\N\""
   ]
  },
  {
   "cell_type": "code",
   "execution_count": 54,
   "id": "powerful-spread",
   "metadata": {},
   "outputs": [
    {
     "data": {
      "text/html": [
       "<div>\n",
       "<style scoped>\n",
       "    .dataframe tbody tr th:only-of-type {\n",
       "        vertical-align: middle;\n",
       "    }\n",
       "\n",
       "    .dataframe tbody tr th {\n",
       "        vertical-align: top;\n",
       "    }\n",
       "\n",
       "    .dataframe thead th {\n",
       "        text-align: right;\n",
       "    }\n",
       "</style>\n",
       "<table border=\"1\" class=\"dataframe\">\n",
       "  <thead>\n",
       "    <tr style=\"text-align: right;\">\n",
       "      <th></th>\n",
       "      <th>tconst</th>\n",
       "      <th>titleType</th>\n",
       "      <th>primaryTitle</th>\n",
       "      <th>originalTitle</th>\n",
       "      <th>isAdult</th>\n",
       "      <th>startYear</th>\n",
       "      <th>endYear</th>\n",
       "      <th>runtimeMinutes</th>\n",
       "      <th>genres</th>\n",
       "    </tr>\n",
       "  </thead>\n",
       "  <tbody>\n",
       "    <tr>\n",
       "      <th>0</th>\n",
       "      <td>tt4271080</td>\n",
       "      <td>tvEpisode</td>\n",
       "      <td>Episode #1.84</td>\n",
       "      <td>Episode #1.84</td>\n",
       "      <td>0</td>\n",
       "      <td>\\N</td>\n",
       "      <td>\\N</td>\n",
       "      <td>\\N</td>\n",
       "      <td>Crime,Drama,Horror</td>\n",
       "    </tr>\n",
       "    <tr>\n",
       "      <th>1</th>\n",
       "      <td>tt4282008</td>\n",
       "      <td>tvEpisode</td>\n",
       "      <td>Episode #1.41</td>\n",
       "      <td>Episode #1.41</td>\n",
       "      <td>0</td>\n",
       "      <td>\\N</td>\n",
       "      <td>\\N</td>\n",
       "      <td>\\N</td>\n",
       "      <td>Comedy,Family</td>\n",
       "    </tr>\n",
       "    <tr>\n",
       "      <th>2</th>\n",
       "      <td>tt4301058</td>\n",
       "      <td>tvEpisode</td>\n",
       "      <td>Seres de Luz</td>\n",
       "      <td>Seres de Luz</td>\n",
       "      <td>0</td>\n",
       "      <td>\\N</td>\n",
       "      <td>\\N</td>\n",
       "      <td>\\N</td>\n",
       "      <td>Comedy,Music,Romance</td>\n",
       "    </tr>\n",
       "    <tr>\n",
       "      <th>3</th>\n",
       "      <td>tt4302178</td>\n",
       "      <td>tvEpisode</td>\n",
       "      <td>Episode #1.5</td>\n",
       "      <td>Episode #1.5</td>\n",
       "      <td>0</td>\n",
       "      <td>\\N</td>\n",
       "      <td>\\N</td>\n",
       "      <td>\\N</td>\n",
       "      <td>Crime,Mystery</td>\n",
       "    </tr>\n",
       "    <tr>\n",
       "      <th>4</th>\n",
       "      <td>tt4315112</td>\n",
       "      <td>movie</td>\n",
       "      <td>Esperanza Rising</td>\n",
       "      <td>Esperanza Rising</td>\n",
       "      <td>0</td>\n",
       "      <td>\\N</td>\n",
       "      <td>\\N</td>\n",
       "      <td>\\N</td>\n",
       "      <td>Musical</td>\n",
       "    </tr>\n",
       "    <tr>\n",
       "      <th>5</th>\n",
       "      <td>tt4315848</td>\n",
       "      <td>tvEpisode</td>\n",
       "      <td>Episode #3.16</td>\n",
       "      <td>Episode #3.16</td>\n",
       "      <td>0</td>\n",
       "      <td>\\N</td>\n",
       "      <td>\\N</td>\n",
       "      <td>\\N</td>\n",
       "      <td>Action,Crime,Drama</td>\n",
       "    </tr>\n",
       "    <tr>\n",
       "      <th>6</th>\n",
       "      <td>tt4318276</td>\n",
       "      <td>tvEpisode</td>\n",
       "      <td>Episode #1.3</td>\n",
       "      <td>Episode #1.3</td>\n",
       "      <td>0</td>\n",
       "      <td>\\N</td>\n",
       "      <td>\\N</td>\n",
       "      <td>\\N</td>\n",
       "      <td>Biography,Drama</td>\n",
       "    </tr>\n",
       "    <tr>\n",
       "      <th>7</th>\n",
       "      <td>tt4348848</td>\n",
       "      <td>tvEpisode</td>\n",
       "      <td>Episode #1.3</td>\n",
       "      <td>Episode #1.3</td>\n",
       "      <td>0</td>\n",
       "      <td>\\N</td>\n",
       "      <td>\\N</td>\n",
       "      <td>\\N</td>\n",
       "      <td>Drama,Romance,War</td>\n",
       "    </tr>\n",
       "    <tr>\n",
       "      <th>8</th>\n",
       "      <td>tt4353748</td>\n",
       "      <td>tvEpisode</td>\n",
       "      <td>Episode #1.3</td>\n",
       "      <td>Episode #1.3</td>\n",
       "      <td>0</td>\n",
       "      <td>\\N</td>\n",
       "      <td>\\N</td>\n",
       "      <td>\\N</td>\n",
       "      <td>Action</td>\n",
       "    </tr>\n",
       "    <tr>\n",
       "      <th>9</th>\n",
       "      <td>tt4373124</td>\n",
       "      <td>tvEpisode</td>\n",
       "      <td>Episode #5.22</td>\n",
       "      <td>Episode #5.22</td>\n",
       "      <td>0</td>\n",
       "      <td>\\N</td>\n",
       "      <td>\\N</td>\n",
       "      <td>46</td>\n",
       "      <td>Crime,Mystery</td>\n",
       "    </tr>\n",
       "  </tbody>\n",
       "</table>\n",
       "</div>"
      ],
      "text/plain": [
       "      tconst  titleType      primaryTitle     originalTitle isAdult startYear  \\\n",
       "0  tt4271080  tvEpisode     Episode #1.84     Episode #1.84       0        \\N   \n",
       "1  tt4282008  tvEpisode     Episode #1.41     Episode #1.41       0        \\N   \n",
       "2  tt4301058  tvEpisode      Seres de Luz      Seres de Luz       0        \\N   \n",
       "3  tt4302178  tvEpisode      Episode #1.5      Episode #1.5       0        \\N   \n",
       "4  tt4315112      movie  Esperanza Rising  Esperanza Rising       0        \\N   \n",
       "5  tt4315848  tvEpisode     Episode #3.16     Episode #3.16       0        \\N   \n",
       "6  tt4318276  tvEpisode      Episode #1.3      Episode #1.3       0        \\N   \n",
       "7  tt4348848  tvEpisode      Episode #1.3      Episode #1.3       0        \\N   \n",
       "8  tt4353748  tvEpisode      Episode #1.3      Episode #1.3       0        \\N   \n",
       "9  tt4373124  tvEpisode     Episode #5.22     Episode #5.22       0        \\N   \n",
       "\n",
       "  endYear runtimeMinutes                genres  \n",
       "0      \\N             \\N    Crime,Drama,Horror  \n",
       "1      \\N             \\N         Comedy,Family  \n",
       "2      \\N             \\N  Comedy,Music,Romance  \n",
       "3      \\N             \\N         Crime,Mystery  \n",
       "4      \\N             \\N               Musical  \n",
       "5      \\N             \\N    Action,Crime,Drama  \n",
       "6      \\N             \\N       Biography,Drama  \n",
       "7      \\N             \\N     Drama,Romance,War  \n",
       "8      \\N             \\N                Action  \n",
       "9      \\N             46         Crime,Mystery  "
      ]
     },
     "execution_count": 54,
     "metadata": {},
     "output_type": "execute_result"
    }
   ],
   "source": [
    "%%bigquery\n",
    "SELECT * from imdb_staging.TitleBasics where startYear = \"\\\\N\" LIMIT 10"
   ]
  },
  {
   "cell_type": "markdown",
   "id": "working-actress",
   "metadata": {},
   "source": [
    "**Based on this query, startYear, endYear, and runtimeMinutes all have NULL values**"
   ]
  },
  {
   "cell_type": "code",
   "execution_count": 109,
   "id": "improving-canyon",
   "metadata": {},
   "outputs": [
    {
     "data": {
      "text/html": [
       "<div>\n",
       "<style scoped>\n",
       "    .dataframe tbody tr th:only-of-type {\n",
       "        vertical-align: middle;\n",
       "    }\n",
       "\n",
       "    .dataframe tbody tr th {\n",
       "        vertical-align: top;\n",
       "    }\n",
       "\n",
       "    .dataframe thead th {\n",
       "        text-align: right;\n",
       "    }\n",
       "</style>\n",
       "<table border=\"1\" class=\"dataframe\">\n",
       "  <thead>\n",
       "    <tr style=\"text-align: right;\">\n",
       "      <th></th>\n",
       "    </tr>\n",
       "  </thead>\n",
       "  <tbody>\n",
       "  </tbody>\n",
       "</table>\n",
       "</div>"
      ],
      "text/plain": [
       "Empty DataFrame\n",
       "Columns: []\n",
       "Index: []"
      ]
     },
     "execution_count": 109,
     "metadata": {},
     "output_type": "execute_result"
    }
   ],
   "source": [
    "%%bigquery\n",
    "CREATE TABLE datamart.TitleBasics AS\n",
    "SELECT tconst, titleType, primaryTitle, originalTitle, FALSE as isAdult, CAST(startYear as INT64) as startYear, CAST(endYear as INT64) as endYear, CAST(runtimeMinutes as INT64) as runtimeMinutes, genres, averageRating, numVotes\n",
    "FROM datamart.temp\n",
    "WHERE startYear != \"\\\\N\" AND endYear != \"\\\\N\" AND runtimeMinutes != \"\\\\N\" AND isAdult = \"0\""
   ]
  },
  {
   "cell_type": "code",
   "execution_count": 110,
   "id": "opponent-optics",
   "metadata": {},
   "outputs": [
    {
     "data": {
      "text/html": [
       "<div>\n",
       "<style scoped>\n",
       "    .dataframe tbody tr th:only-of-type {\n",
       "        vertical-align: middle;\n",
       "    }\n",
       "\n",
       "    .dataframe tbody tr th {\n",
       "        vertical-align: top;\n",
       "    }\n",
       "\n",
       "    .dataframe thead th {\n",
       "        text-align: right;\n",
       "    }\n",
       "</style>\n",
       "<table border=\"1\" class=\"dataframe\">\n",
       "  <thead>\n",
       "    <tr style=\"text-align: right;\">\n",
       "      <th></th>\n",
       "    </tr>\n",
       "  </thead>\n",
       "  <tbody>\n",
       "  </tbody>\n",
       "</table>\n",
       "</div>"
      ],
      "text/plain": [
       "Empty DataFrame\n",
       "Columns: []\n",
       "Index: []"
      ]
     },
     "execution_count": 110,
     "metadata": {},
     "output_type": "execute_result"
    }
   ],
   "source": [
    "%%bigquery\n",
    "INSERT INTO datamart.TitleBasics\n",
    "SELECT tconst, titleType, primaryTitle, originalTitle, TRUE as isAdult, CAST(startYear as INT64) as startYear, CAST(endYear as INT64) as endYear, CAST(runtimeMinutes as INT64) as runtimeMinutes, genres, averageRating, numVotes\n",
    "FROM datamart.temp\n",
    "WHERE startYear != \"\\\\N\" AND endYear != \"\\\\N\" AND runtimeMinutes != \"\\\\N\" AND isAdult = \"1\""
   ]
  },
  {
   "cell_type": "code",
   "execution_count": 111,
   "id": "responsible-interference",
   "metadata": {},
   "outputs": [
    {
     "data": {
      "text/html": [
       "<div>\n",
       "<style scoped>\n",
       "    .dataframe tbody tr th:only-of-type {\n",
       "        vertical-align: middle;\n",
       "    }\n",
       "\n",
       "    .dataframe tbody tr th {\n",
       "        vertical-align: top;\n",
       "    }\n",
       "\n",
       "    .dataframe thead th {\n",
       "        text-align: right;\n",
       "    }\n",
       "</style>\n",
       "<table border=\"1\" class=\"dataframe\">\n",
       "  <thead>\n",
       "    <tr style=\"text-align: right;\">\n",
       "      <th></th>\n",
       "    </tr>\n",
       "  </thead>\n",
       "  <tbody>\n",
       "  </tbody>\n",
       "</table>\n",
       "</div>"
      ],
      "text/plain": [
       "Empty DataFrame\n",
       "Columns: []\n",
       "Index: []"
      ]
     },
     "execution_count": 111,
     "metadata": {},
     "output_type": "execute_result"
    }
   ],
   "source": [
    "%%bigquery\n",
    "INSERT INTO datamart.TitleBasics\n",
    "SELECT tconst, titleType, primaryTitle, originalTitle, FALSE as isAdult, NULL as startYear, CAST(endYear as INT64) as endYear, CAST(runtimeMinutes as INT64) as runtimeMinutes, genres, averageRating, numVotes\n",
    "FROM datamart.temp\n",
    "WHERE startYear = \"\\\\N\" AND endYear != \"\\\\N\" AND runtimeMinutes != \"\\\\N\" AND isAdult = \"0\""
   ]
  },
  {
   "cell_type": "code",
   "execution_count": 112,
   "id": "rocky-apollo",
   "metadata": {},
   "outputs": [
    {
     "data": {
      "text/html": [
       "<div>\n",
       "<style scoped>\n",
       "    .dataframe tbody tr th:only-of-type {\n",
       "        vertical-align: middle;\n",
       "    }\n",
       "\n",
       "    .dataframe tbody tr th {\n",
       "        vertical-align: top;\n",
       "    }\n",
       "\n",
       "    .dataframe thead th {\n",
       "        text-align: right;\n",
       "    }\n",
       "</style>\n",
       "<table border=\"1\" class=\"dataframe\">\n",
       "  <thead>\n",
       "    <tr style=\"text-align: right;\">\n",
       "      <th></th>\n",
       "    </tr>\n",
       "  </thead>\n",
       "  <tbody>\n",
       "  </tbody>\n",
       "</table>\n",
       "</div>"
      ],
      "text/plain": [
       "Empty DataFrame\n",
       "Columns: []\n",
       "Index: []"
      ]
     },
     "execution_count": 112,
     "metadata": {},
     "output_type": "execute_result"
    }
   ],
   "source": [
    "%%bigquery\n",
    "INSERT INTO datamart.TitleBasics\n",
    "SELECT tconst, titleType, primaryTitle, originalTitle, TRUE as isAdult, NULL as startYear, CAST(endYear as INT64) as endYear, CAST(runtimeMinutes as INT64) as runtimeMinutes, genres, averageRating, numVotes\n",
    "FROM datamart.temp\n",
    "WHERE startYear = \"\\\\N\" AND endYear != \"\\\\N\" AND runtimeMinutes != \"\\\\N\" AND isAdult = \"1\""
   ]
  },
  {
   "cell_type": "code",
   "execution_count": 113,
   "id": "living-decrease",
   "metadata": {},
   "outputs": [
    {
     "data": {
      "text/html": [
       "<div>\n",
       "<style scoped>\n",
       "    .dataframe tbody tr th:only-of-type {\n",
       "        vertical-align: middle;\n",
       "    }\n",
       "\n",
       "    .dataframe tbody tr th {\n",
       "        vertical-align: top;\n",
       "    }\n",
       "\n",
       "    .dataframe thead th {\n",
       "        text-align: right;\n",
       "    }\n",
       "</style>\n",
       "<table border=\"1\" class=\"dataframe\">\n",
       "  <thead>\n",
       "    <tr style=\"text-align: right;\">\n",
       "      <th></th>\n",
       "    </tr>\n",
       "  </thead>\n",
       "  <tbody>\n",
       "  </tbody>\n",
       "</table>\n",
       "</div>"
      ],
      "text/plain": [
       "Empty DataFrame\n",
       "Columns: []\n",
       "Index: []"
      ]
     },
     "execution_count": 113,
     "metadata": {},
     "output_type": "execute_result"
    }
   ],
   "source": [
    "%%bigquery\n",
    "INSERT INTO datamart.TitleBasics\n",
    "SELECT tconst, titleType, primaryTitle, originalTitle, FALSE as isAdult, CAST(startYear as INT64) as startYear, NULL as endYear, CAST(runtimeMinutes as INT64) as runtimeMinutes, genres, averageRating, numVotes\n",
    "FROM datamart.temp\n",
    "WHERE startYear != \"\\\\N\" AND endYear = \"\\\\N\" AND runtimeMinutes != \"\\\\N\" AND isAdult = \"0\""
   ]
  },
  {
   "cell_type": "code",
   "execution_count": 114,
   "id": "monthly-performer",
   "metadata": {},
   "outputs": [
    {
     "data": {
      "text/html": [
       "<div>\n",
       "<style scoped>\n",
       "    .dataframe tbody tr th:only-of-type {\n",
       "        vertical-align: middle;\n",
       "    }\n",
       "\n",
       "    .dataframe tbody tr th {\n",
       "        vertical-align: top;\n",
       "    }\n",
       "\n",
       "    .dataframe thead th {\n",
       "        text-align: right;\n",
       "    }\n",
       "</style>\n",
       "<table border=\"1\" class=\"dataframe\">\n",
       "  <thead>\n",
       "    <tr style=\"text-align: right;\">\n",
       "      <th></th>\n",
       "    </tr>\n",
       "  </thead>\n",
       "  <tbody>\n",
       "  </tbody>\n",
       "</table>\n",
       "</div>"
      ],
      "text/plain": [
       "Empty DataFrame\n",
       "Columns: []\n",
       "Index: []"
      ]
     },
     "execution_count": 114,
     "metadata": {},
     "output_type": "execute_result"
    }
   ],
   "source": [
    "%%bigquery\n",
    "INSERT INTO datamart.TitleBasics\n",
    "SELECT tconst, titleType, primaryTitle, originalTitle, TRUE as isAdult, CAST(startYear as INT64) as startYear, NULL as endYear, CAST(runtimeMinutes as INT64) as runtimeMinutes, genres, averageRating, numVotes\n",
    "FROM datamart.temp\n",
    "WHERE startYear != \"\\\\N\" AND endYear = \"\\\\N\" AND runtimeMinutes != \"\\\\N\" AND isAdult = \"1\""
   ]
  },
  {
   "cell_type": "code",
   "execution_count": 115,
   "id": "noble-estate",
   "metadata": {},
   "outputs": [
    {
     "data": {
      "text/html": [
       "<div>\n",
       "<style scoped>\n",
       "    .dataframe tbody tr th:only-of-type {\n",
       "        vertical-align: middle;\n",
       "    }\n",
       "\n",
       "    .dataframe tbody tr th {\n",
       "        vertical-align: top;\n",
       "    }\n",
       "\n",
       "    .dataframe thead th {\n",
       "        text-align: right;\n",
       "    }\n",
       "</style>\n",
       "<table border=\"1\" class=\"dataframe\">\n",
       "  <thead>\n",
       "    <tr style=\"text-align: right;\">\n",
       "      <th></th>\n",
       "    </tr>\n",
       "  </thead>\n",
       "  <tbody>\n",
       "  </tbody>\n",
       "</table>\n",
       "</div>"
      ],
      "text/plain": [
       "Empty DataFrame\n",
       "Columns: []\n",
       "Index: []"
      ]
     },
     "execution_count": 115,
     "metadata": {},
     "output_type": "execute_result"
    }
   ],
   "source": [
    "%%bigquery\n",
    "INSERT INTO datamart.TitleBasics\n",
    "SELECT tconst, titleType, primaryTitle, originalTitle, FALSE as isAdult, CAST(startYear as INT64) as startYear, CAST(endYear as INT64) as endYear, NULL as runtimeMinutes, genres, averageRating, numVotes\n",
    "FROM datamart.temp\n",
    "WHERE startYear != \"\\\\N\" AND endYear != \"\\\\N\" AND runtimeMinutes = \"\\\\N\" AND isAdult = \"0\""
   ]
  },
  {
   "cell_type": "code",
   "execution_count": 116,
   "id": "general-weekly",
   "metadata": {},
   "outputs": [
    {
     "data": {
      "text/html": [
       "<div>\n",
       "<style scoped>\n",
       "    .dataframe tbody tr th:only-of-type {\n",
       "        vertical-align: middle;\n",
       "    }\n",
       "\n",
       "    .dataframe tbody tr th {\n",
       "        vertical-align: top;\n",
       "    }\n",
       "\n",
       "    .dataframe thead th {\n",
       "        text-align: right;\n",
       "    }\n",
       "</style>\n",
       "<table border=\"1\" class=\"dataframe\">\n",
       "  <thead>\n",
       "    <tr style=\"text-align: right;\">\n",
       "      <th></th>\n",
       "    </tr>\n",
       "  </thead>\n",
       "  <tbody>\n",
       "  </tbody>\n",
       "</table>\n",
       "</div>"
      ],
      "text/plain": [
       "Empty DataFrame\n",
       "Columns: []\n",
       "Index: []"
      ]
     },
     "execution_count": 116,
     "metadata": {},
     "output_type": "execute_result"
    }
   ],
   "source": [
    "%%bigquery\n",
    "INSERT INTO datamart.TitleBasics\n",
    "SELECT tconst, titleType, primaryTitle, originalTitle,TRUE as isAdult, CAST(startYear as INT64) as startYear, CAST(endYear as INT64) as endYear, NULL as runtimeMinutes, genres, averageRating, numVotes\n",
    "FROM datamart.temp\n",
    "WHERE startYear != \"\\\\N\" AND endYear != \"\\\\N\" AND runtimeMinutes = \"\\\\N\" AND isAdult = \"1\""
   ]
  },
  {
   "cell_type": "code",
   "execution_count": 117,
   "id": "theoretical-welding",
   "metadata": {},
   "outputs": [
    {
     "data": {
      "text/html": [
       "<div>\n",
       "<style scoped>\n",
       "    .dataframe tbody tr th:only-of-type {\n",
       "        vertical-align: middle;\n",
       "    }\n",
       "\n",
       "    .dataframe tbody tr th {\n",
       "        vertical-align: top;\n",
       "    }\n",
       "\n",
       "    .dataframe thead th {\n",
       "        text-align: right;\n",
       "    }\n",
       "</style>\n",
       "<table border=\"1\" class=\"dataframe\">\n",
       "  <thead>\n",
       "    <tr style=\"text-align: right;\">\n",
       "      <th></th>\n",
       "    </tr>\n",
       "  </thead>\n",
       "  <tbody>\n",
       "  </tbody>\n",
       "</table>\n",
       "</div>"
      ],
      "text/plain": [
       "Empty DataFrame\n",
       "Columns: []\n",
       "Index: []"
      ]
     },
     "execution_count": 117,
     "metadata": {},
     "output_type": "execute_result"
    }
   ],
   "source": [
    "%%bigquery\n",
    "INSERT INTO datamart.TitleBasics\n",
    "SELECT tconst, titleType, primaryTitle, originalTitle, FALSE as isAdult, NULL as startYear, NULL as endYear, CAST(runtimeMinutes as INT64) as runtimeMinutes, genres, averageRating, numVotes\n",
    "FROM datamart.temp\n",
    "WHERE startYear = \"\\\\N\" AND endYear = \"\\\\N\" AND runtimeMinutes != \"\\\\N\" AND isAdult = \"0\""
   ]
  },
  {
   "cell_type": "code",
   "execution_count": 118,
   "id": "bottom-practitioner",
   "metadata": {},
   "outputs": [
    {
     "data": {
      "text/html": [
       "<div>\n",
       "<style scoped>\n",
       "    .dataframe tbody tr th:only-of-type {\n",
       "        vertical-align: middle;\n",
       "    }\n",
       "\n",
       "    .dataframe tbody tr th {\n",
       "        vertical-align: top;\n",
       "    }\n",
       "\n",
       "    .dataframe thead th {\n",
       "        text-align: right;\n",
       "    }\n",
       "</style>\n",
       "<table border=\"1\" class=\"dataframe\">\n",
       "  <thead>\n",
       "    <tr style=\"text-align: right;\">\n",
       "      <th></th>\n",
       "    </tr>\n",
       "  </thead>\n",
       "  <tbody>\n",
       "  </tbody>\n",
       "</table>\n",
       "</div>"
      ],
      "text/plain": [
       "Empty DataFrame\n",
       "Columns: []\n",
       "Index: []"
      ]
     },
     "execution_count": 118,
     "metadata": {},
     "output_type": "execute_result"
    }
   ],
   "source": [
    "%%bigquery\n",
    "INSERT INTO datamart.TitleBasics\n",
    "SELECT tconst, titleType, primaryTitle, originalTitle, TRUE as isAdult, NULL as startYear, NULL as endYear, CAST(runtimeMinutes as INT64) as runtimeMinutes, genres, averageRating, numVotes\n",
    "FROM datamart.temp\n",
    "WHERE startYear = \"\\\\N\" AND endYear = \"\\\\N\" AND runtimeMinutes != \"\\\\N\" AND isAdult = \"1\""
   ]
  },
  {
   "cell_type": "code",
   "execution_count": 119,
   "id": "interpreted-fundamental",
   "metadata": {},
   "outputs": [
    {
     "data": {
      "text/html": [
       "<div>\n",
       "<style scoped>\n",
       "    .dataframe tbody tr th:only-of-type {\n",
       "        vertical-align: middle;\n",
       "    }\n",
       "\n",
       "    .dataframe tbody tr th {\n",
       "        vertical-align: top;\n",
       "    }\n",
       "\n",
       "    .dataframe thead th {\n",
       "        text-align: right;\n",
       "    }\n",
       "</style>\n",
       "<table border=\"1\" class=\"dataframe\">\n",
       "  <thead>\n",
       "    <tr style=\"text-align: right;\">\n",
       "      <th></th>\n",
       "    </tr>\n",
       "  </thead>\n",
       "  <tbody>\n",
       "  </tbody>\n",
       "</table>\n",
       "</div>"
      ],
      "text/plain": [
       "Empty DataFrame\n",
       "Columns: []\n",
       "Index: []"
      ]
     },
     "execution_count": 119,
     "metadata": {},
     "output_type": "execute_result"
    }
   ],
   "source": [
    "%%bigquery\n",
    "INSERT INTO datamart.TitleBasics\n",
    "SELECT tconst, titleType, primaryTitle, originalTitle, FALSE as isAdult, NULL as startYear, CAST(endYear as INT64) as endYear, NULL as runtimeMinutes, genres, averageRating, numVotes\n",
    "FROM datamart.temp\n",
    "WHERE startYear = \"\\\\N\" AND endYear != \"\\\\N\" AND runtimeMinutes = \"\\\\N\" AND isAdult = \"0\""
   ]
  },
  {
   "cell_type": "code",
   "execution_count": 120,
   "id": "portable-rings",
   "metadata": {},
   "outputs": [
    {
     "data": {
      "text/html": [
       "<div>\n",
       "<style scoped>\n",
       "    .dataframe tbody tr th:only-of-type {\n",
       "        vertical-align: middle;\n",
       "    }\n",
       "\n",
       "    .dataframe tbody tr th {\n",
       "        vertical-align: top;\n",
       "    }\n",
       "\n",
       "    .dataframe thead th {\n",
       "        text-align: right;\n",
       "    }\n",
       "</style>\n",
       "<table border=\"1\" class=\"dataframe\">\n",
       "  <thead>\n",
       "    <tr style=\"text-align: right;\">\n",
       "      <th></th>\n",
       "    </tr>\n",
       "  </thead>\n",
       "  <tbody>\n",
       "  </tbody>\n",
       "</table>\n",
       "</div>"
      ],
      "text/plain": [
       "Empty DataFrame\n",
       "Columns: []\n",
       "Index: []"
      ]
     },
     "execution_count": 120,
     "metadata": {},
     "output_type": "execute_result"
    }
   ],
   "source": [
    "%%bigquery\n",
    "INSERT INTO datamart.TitleBasics\n",
    "SELECT tconst, titleType, primaryTitle, originalTitle, TRUE as isAdult, NULL as startYear, CAST(endYear as INT64) as endYear, NULL as runtimeMinutes, genres, averageRating, numVotes\n",
    "FROM datamart.temp\n",
    "WHERE startYear = \"\\\\N\" AND endYear != \"\\\\N\" AND runtimeMinutes = \"\\\\N\" AND isAdult = \"1\""
   ]
  },
  {
   "cell_type": "code",
   "execution_count": 121,
   "id": "available-relief",
   "metadata": {},
   "outputs": [
    {
     "data": {
      "text/html": [
       "<div>\n",
       "<style scoped>\n",
       "    .dataframe tbody tr th:only-of-type {\n",
       "        vertical-align: middle;\n",
       "    }\n",
       "\n",
       "    .dataframe tbody tr th {\n",
       "        vertical-align: top;\n",
       "    }\n",
       "\n",
       "    .dataframe thead th {\n",
       "        text-align: right;\n",
       "    }\n",
       "</style>\n",
       "<table border=\"1\" class=\"dataframe\">\n",
       "  <thead>\n",
       "    <tr style=\"text-align: right;\">\n",
       "      <th></th>\n",
       "    </tr>\n",
       "  </thead>\n",
       "  <tbody>\n",
       "  </tbody>\n",
       "</table>\n",
       "</div>"
      ],
      "text/plain": [
       "Empty DataFrame\n",
       "Columns: []\n",
       "Index: []"
      ]
     },
     "execution_count": 121,
     "metadata": {},
     "output_type": "execute_result"
    }
   ],
   "source": [
    "%%bigquery\n",
    "INSERT INTO datamart.TitleBasics\n",
    "SELECT tconst, titleType, primaryTitle, originalTitle, FALSE as isAdult, CAST(startYear as INT64) as startYear, NULL as endYear, NULL as runtimeMinutes, genres, averageRating, numVotes\n",
    "FROM datamart.temp\n",
    "WHERE startYear != \"\\\\N\" AND endYear = \"\\\\N\" AND runtimeMinutes = \"\\\\N\" AND isAdult = \"0\""
   ]
  },
  {
   "cell_type": "code",
   "execution_count": 122,
   "id": "exciting-booth",
   "metadata": {},
   "outputs": [
    {
     "data": {
      "text/html": [
       "<div>\n",
       "<style scoped>\n",
       "    .dataframe tbody tr th:only-of-type {\n",
       "        vertical-align: middle;\n",
       "    }\n",
       "\n",
       "    .dataframe tbody tr th {\n",
       "        vertical-align: top;\n",
       "    }\n",
       "\n",
       "    .dataframe thead th {\n",
       "        text-align: right;\n",
       "    }\n",
       "</style>\n",
       "<table border=\"1\" class=\"dataframe\">\n",
       "  <thead>\n",
       "    <tr style=\"text-align: right;\">\n",
       "      <th></th>\n",
       "    </tr>\n",
       "  </thead>\n",
       "  <tbody>\n",
       "  </tbody>\n",
       "</table>\n",
       "</div>"
      ],
      "text/plain": [
       "Empty DataFrame\n",
       "Columns: []\n",
       "Index: []"
      ]
     },
     "execution_count": 122,
     "metadata": {},
     "output_type": "execute_result"
    }
   ],
   "source": [
    "%%bigquery\n",
    "INSERT INTO datamart.TitleBasics\n",
    "SELECT tconst, titleType, primaryTitle, originalTitle, TRUE as isAdult, CAST(startYear as INT64) as startYear, NULL as endYear, NULL as runtimeMinutes, genres, averageRating, numVotes\n",
    "FROM datamart.temp\n",
    "WHERE startYear != \"\\\\N\" AND endYear = \"\\\\N\" AND runtimeMinutes = \"\\\\N\" AND isAdult = \"1\""
   ]
  },
  {
   "cell_type": "code",
   "execution_count": 123,
   "id": "nonprofit-necklace",
   "metadata": {},
   "outputs": [
    {
     "data": {
      "text/html": [
       "<div>\n",
       "<style scoped>\n",
       "    .dataframe tbody tr th:only-of-type {\n",
       "        vertical-align: middle;\n",
       "    }\n",
       "\n",
       "    .dataframe tbody tr th {\n",
       "        vertical-align: top;\n",
       "    }\n",
       "\n",
       "    .dataframe thead th {\n",
       "        text-align: right;\n",
       "    }\n",
       "</style>\n",
       "<table border=\"1\" class=\"dataframe\">\n",
       "  <thead>\n",
       "    <tr style=\"text-align: right;\">\n",
       "      <th></th>\n",
       "    </tr>\n",
       "  </thead>\n",
       "  <tbody>\n",
       "  </tbody>\n",
       "</table>\n",
       "</div>"
      ],
      "text/plain": [
       "Empty DataFrame\n",
       "Columns: []\n",
       "Index: []"
      ]
     },
     "execution_count": 123,
     "metadata": {},
     "output_type": "execute_result"
    }
   ],
   "source": [
    "%%bigquery\n",
    "INSERT INTO datamart.TitleBasics\n",
    "SELECT tconst, titleType, primaryTitle, originalTitle, FALSE as isAdult, NULL as startYear, NULL as endYear, NULL as runtimeMinutes, genres, averageRating, numVotes\n",
    "FROM datamart.temp\n",
    "WHERE startYear = \"\\\\N\" AND endYear = \"\\\\N\" AND runtimeMinutes = \"\\\\N\" AND isAdult = \"0\""
   ]
  },
  {
   "cell_type": "code",
   "execution_count": 124,
   "id": "italic-procedure",
   "metadata": {},
   "outputs": [
    {
     "data": {
      "text/html": [
       "<div>\n",
       "<style scoped>\n",
       "    .dataframe tbody tr th:only-of-type {\n",
       "        vertical-align: middle;\n",
       "    }\n",
       "\n",
       "    .dataframe tbody tr th {\n",
       "        vertical-align: top;\n",
       "    }\n",
       "\n",
       "    .dataframe thead th {\n",
       "        text-align: right;\n",
       "    }\n",
       "</style>\n",
       "<table border=\"1\" class=\"dataframe\">\n",
       "  <thead>\n",
       "    <tr style=\"text-align: right;\">\n",
       "      <th></th>\n",
       "    </tr>\n",
       "  </thead>\n",
       "  <tbody>\n",
       "  </tbody>\n",
       "</table>\n",
       "</div>"
      ],
      "text/plain": [
       "Empty DataFrame\n",
       "Columns: []\n",
       "Index: []"
      ]
     },
     "execution_count": 124,
     "metadata": {},
     "output_type": "execute_result"
    }
   ],
   "source": [
    "%%bigquery\n",
    "INSERT INTO datamart.TitleBasics\n",
    "SELECT tconst, titleType, primaryTitle, originalTitle, TRUE as isAdult, NULL as startYear, NULL as endYear, NULL as runtimeMinutes, genres, averageRating, numVotes\n",
    "FROM datamart.temp\n",
    "WHERE startYear = \"\\\\N\" AND endYear = \"\\\\N\" AND runtimeMinutes = \"\\\\N\" AND isAdult = \"1\""
   ]
  },
  {
   "cell_type": "markdown",
   "id": "acceptable-fifteen",
   "metadata": {},
   "source": [
    "**Check if everything loaded correctly**"
   ]
  },
  {
   "cell_type": "code",
   "execution_count": 129,
   "id": "indie-province",
   "metadata": {},
   "outputs": [
    {
     "data": {
      "text/html": [
       "<div>\n",
       "<style scoped>\n",
       "    .dataframe tbody tr th:only-of-type {\n",
       "        vertical-align: middle;\n",
       "    }\n",
       "\n",
       "    .dataframe tbody tr th {\n",
       "        vertical-align: top;\n",
       "    }\n",
       "\n",
       "    .dataframe thead th {\n",
       "        text-align: right;\n",
       "    }\n",
       "</style>\n",
       "<table border=\"1\" class=\"dataframe\">\n",
       "  <thead>\n",
       "    <tr style=\"text-align: right;\">\n",
       "      <th></th>\n",
       "      <th>tconst</th>\n",
       "      <th>titleType</th>\n",
       "      <th>primaryTitle</th>\n",
       "      <th>originalTitle</th>\n",
       "      <th>isAdult</th>\n",
       "      <th>startYear</th>\n",
       "      <th>endYear</th>\n",
       "      <th>runtimeMinutes</th>\n",
       "      <th>genres</th>\n",
       "      <th>averageRating</th>\n",
       "      <th>numVotes</th>\n",
       "    </tr>\n",
       "  </thead>\n",
       "  <tbody>\n",
       "    <tr>\n",
       "      <th>0</th>\n",
       "      <td>tt0262957</td>\n",
       "      <td>tvMiniSeries</td>\n",
       "      <td>The Face of Tutankhamun</td>\n",
       "      <td>The Face of Tutankhamun</td>\n",
       "      <td>False</td>\n",
       "      <td>1992</td>\n",
       "      <td>NaN</td>\n",
       "      <td>197</td>\n",
       "      <td>Documentary,History</td>\n",
       "      <td>8.2</td>\n",
       "      <td>27</td>\n",
       "    </tr>\n",
       "    <tr>\n",
       "      <th>1</th>\n",
       "      <td>tt3995480</td>\n",
       "      <td>tvMiniSeries</td>\n",
       "      <td>Intrusion</td>\n",
       "      <td>Intrusion</td>\n",
       "      <td>False</td>\n",
       "      <td>2015</td>\n",
       "      <td>NaN</td>\n",
       "      <td>140</td>\n",
       "      <td>Drama,Mystery,Thriller</td>\n",
       "      <td>7.0</td>\n",
       "      <td>60</td>\n",
       "    </tr>\n",
       "    <tr>\n",
       "      <th>2</th>\n",
       "      <td>tt5904812</td>\n",
       "      <td>tvMiniSeries</td>\n",
       "      <td>The Indian Wars: A Change of Worlds</td>\n",
       "      <td>The Indian Wars: A Change of Worlds</td>\n",
       "      <td>False</td>\n",
       "      <td>2016</td>\n",
       "      <td>NaN</td>\n",
       "      <td>357</td>\n",
       "      <td>Biography,Documentary,History</td>\n",
       "      <td>5.1</td>\n",
       "      <td>36</td>\n",
       "    </tr>\n",
       "    <tr>\n",
       "      <th>3</th>\n",
       "      <td>tt11361808</td>\n",
       "      <td>tvSpecial</td>\n",
       "      <td>Royal Rumble</td>\n",
       "      <td>Royal Rumble</td>\n",
       "      <td>False</td>\n",
       "      <td>2020</td>\n",
       "      <td>NaN</td>\n",
       "      <td>252</td>\n",
       "      <td>Action,Sport</td>\n",
       "      <td>7.5</td>\n",
       "      <td>357</td>\n",
       "    </tr>\n",
       "    <tr>\n",
       "      <th>4</th>\n",
       "      <td>tt0196055</td>\n",
       "      <td>tvSpecial</td>\n",
       "      <td>Robin Williams: An Evening at the Met</td>\n",
       "      <td>Robin Williams: Live at the Met</td>\n",
       "      <td>False</td>\n",
       "      <td>1986</td>\n",
       "      <td>NaN</td>\n",
       "      <td>65</td>\n",
       "      <td>Comedy,Documentary</td>\n",
       "      <td>8.4</td>\n",
       "      <td>1357</td>\n",
       "    </tr>\n",
       "  </tbody>\n",
       "</table>\n",
       "</div>"
      ],
      "text/plain": [
       "       tconst     titleType                           primaryTitle  \\\n",
       "0   tt0262957  tvMiniSeries                The Face of Tutankhamun   \n",
       "1   tt3995480  tvMiniSeries                              Intrusion   \n",
       "2   tt5904812  tvMiniSeries    The Indian Wars: A Change of Worlds   \n",
       "3  tt11361808     tvSpecial                           Royal Rumble   \n",
       "4   tt0196055     tvSpecial  Robin Williams: An Evening at the Met   \n",
       "\n",
       "                         originalTitle  isAdult  startYear  endYear  \\\n",
       "0              The Face of Tutankhamun    False       1992      NaN   \n",
       "1                            Intrusion    False       2015      NaN   \n",
       "2  The Indian Wars: A Change of Worlds    False       2016      NaN   \n",
       "3                         Royal Rumble    False       2020      NaN   \n",
       "4      Robin Williams: Live at the Met    False       1986      NaN   \n",
       "\n",
       "   runtimeMinutes                         genres  averageRating  numVotes  \n",
       "0             197            Documentary,History            8.2        27  \n",
       "1             140         Drama,Mystery,Thriller            7.0        60  \n",
       "2             357  Biography,Documentary,History            5.1        36  \n",
       "3             252                   Action,Sport            7.5       357  \n",
       "4              65             Comedy,Documentary            8.4      1357  "
      ]
     },
     "execution_count": 129,
     "metadata": {},
     "output_type": "execute_result"
    }
   ],
   "source": [
    "%%bigquery\n",
    "SELECT * FROM datamart.TitleBasics WHERE isAdult IS FALSE LIMIT 5"
   ]
  },
  {
   "cell_type": "markdown",
   "id": "sacred-freeware",
   "metadata": {},
   "source": [
    "#### **The primary key for this table is tconst. check for any records with the same primary key**"
   ]
  },
  {
   "cell_type": "code",
   "execution_count": 34,
   "id": "funded-objective",
   "metadata": {},
   "outputs": [
    {
     "data": {
      "text/html": [
       "<div>\n",
       "<style scoped>\n",
       "    .dataframe tbody tr th:only-of-type {\n",
       "        vertical-align: middle;\n",
       "    }\n",
       "\n",
       "    .dataframe tbody tr th {\n",
       "        vertical-align: top;\n",
       "    }\n",
       "\n",
       "    .dataframe thead th {\n",
       "        text-align: right;\n",
       "    }\n",
       "</style>\n",
       "<table border=\"1\" class=\"dataframe\">\n",
       "  <thead>\n",
       "    <tr style=\"text-align: right;\">\n",
       "      <th></th>\n",
       "      <th>record_count</th>\n",
       "    </tr>\n",
       "  </thead>\n",
       "  <tbody>\n",
       "  </tbody>\n",
       "</table>\n",
       "</div>"
      ],
      "text/plain": [
       "Empty DataFrame\n",
       "Columns: [record_count]\n",
       "Index: []"
      ]
     },
     "execution_count": 34,
     "metadata": {},
     "output_type": "execute_result"
    }
   ],
   "source": [
    "%%bigquery\n",
    "SELECT count(*) as record_count FROM datamart.TitleBasics GROUP BY tconst HAVING count(*) > 1"
   ]
  },
  {
   "cell_type": "markdown",
   "id": "liked-ordinary",
   "metadata": {},
   "source": [
    "#### **Create the TitleAkas table and convert ordering to INT and isOriginalTitle to BOOL**"
   ]
  },
  {
   "cell_type": "code",
   "execution_count": 132,
   "id": "classified-encounter",
   "metadata": {},
   "outputs": [
    {
     "data": {
      "text/html": [
       "<div>\n",
       "<style scoped>\n",
       "    .dataframe tbody tr th:only-of-type {\n",
       "        vertical-align: middle;\n",
       "    }\n",
       "\n",
       "    .dataframe tbody tr th {\n",
       "        vertical-align: top;\n",
       "    }\n",
       "\n",
       "    .dataframe thead th {\n",
       "        text-align: right;\n",
       "    }\n",
       "</style>\n",
       "<table border=\"1\" class=\"dataframe\">\n",
       "  <thead>\n",
       "    <tr style=\"text-align: right;\">\n",
       "      <th></th>\n",
       "    </tr>\n",
       "  </thead>\n",
       "  <tbody>\n",
       "  </tbody>\n",
       "</table>\n",
       "</div>"
      ],
      "text/plain": [
       "Empty DataFrame\n",
       "Columns: []\n",
       "Index: []"
      ]
     },
     "execution_count": 132,
     "metadata": {},
     "output_type": "execute_result"
    }
   ],
   "source": [
    "%%bigquery\n",
    "CREATE TABLE datamart.TitleAkas AS\n",
    "SELECT titleId, CAST(ordering as INT64) as ordering, title, region, language, types, attributes, FALSE as isOriginalTitle FROM imdb_staging.TitleAkas WHERE isOriginalTitle = \"0\""
   ]
  },
  {
   "cell_type": "code",
   "execution_count": 135,
   "id": "designed-grenada",
   "metadata": {},
   "outputs": [
    {
     "data": {
      "text/html": [
       "<div>\n",
       "<style scoped>\n",
       "    .dataframe tbody tr th:only-of-type {\n",
       "        vertical-align: middle;\n",
       "    }\n",
       "\n",
       "    .dataframe tbody tr th {\n",
       "        vertical-align: top;\n",
       "    }\n",
       "\n",
       "    .dataframe thead th {\n",
       "        text-align: right;\n",
       "    }\n",
       "</style>\n",
       "<table border=\"1\" class=\"dataframe\">\n",
       "  <thead>\n",
       "    <tr style=\"text-align: right;\">\n",
       "      <th></th>\n",
       "    </tr>\n",
       "  </thead>\n",
       "  <tbody>\n",
       "  </tbody>\n",
       "</table>\n",
       "</div>"
      ],
      "text/plain": [
       "Empty DataFrame\n",
       "Columns: []\n",
       "Index: []"
      ]
     },
     "execution_count": 135,
     "metadata": {},
     "output_type": "execute_result"
    }
   ],
   "source": [
    "%%bigquery\n",
    "INSERT INTO datamart.TitleAkas\n",
    "SELECT titleId, CAST(ordering as INT64) as ordering, title, region, language, types, attributes, TRUE as isOriginalTitle FROM imdb_staging.TitleAkas WHERE isOriginalTitle = \"1\""
   ]
  },
  {
   "cell_type": "code",
   "execution_count": 144,
   "id": "august-operations",
   "metadata": {},
   "outputs": [
    {
     "data": {
      "text/html": [
       "<div>\n",
       "<style scoped>\n",
       "    .dataframe tbody tr th:only-of-type {\n",
       "        vertical-align: middle;\n",
       "    }\n",
       "\n",
       "    .dataframe tbody tr th {\n",
       "        vertical-align: top;\n",
       "    }\n",
       "\n",
       "    .dataframe thead th {\n",
       "        text-align: right;\n",
       "    }\n",
       "</style>\n",
       "<table border=\"1\" class=\"dataframe\">\n",
       "  <thead>\n",
       "    <tr style=\"text-align: right;\">\n",
       "      <th></th>\n",
       "    </tr>\n",
       "  </thead>\n",
       "  <tbody>\n",
       "  </tbody>\n",
       "</table>\n",
       "</div>"
      ],
      "text/plain": [
       "Empty DataFrame\n",
       "Columns: []\n",
       "Index: []"
      ]
     },
     "execution_count": 144,
     "metadata": {},
     "output_type": "execute_result"
    }
   ],
   "source": [
    "%%bigquery\n",
    "INSERT INTO datamart.TitleAkas\n",
    "SELECT titleId, CAST(ordering as INT64) as ordering, title, region, language, types, attributes, NULL as isOriginalTitle FROM imdb_staging.TitleAkas WHERE isOriginalTitle = \"\\\\N\""
   ]
  },
  {
   "cell_type": "markdown",
   "id": "finished-archives",
   "metadata": {},
   "source": [
    "**Remove orphaned records**"
   ]
  },
  {
   "cell_type": "code",
   "execution_count": 8,
   "id": "interested-prison",
   "metadata": {},
   "outputs": [
    {
     "data": {
      "text/html": [
       "<div>\n",
       "<style scoped>\n",
       "    .dataframe tbody tr th:only-of-type {\n",
       "        vertical-align: middle;\n",
       "    }\n",
       "\n",
       "    .dataframe tbody tr th {\n",
       "        vertical-align: top;\n",
       "    }\n",
       "\n",
       "    .dataframe thead th {\n",
       "        text-align: right;\n",
       "    }\n",
       "</style>\n",
       "<table border=\"1\" class=\"dataframe\">\n",
       "  <thead>\n",
       "    <tr style=\"text-align: right;\">\n",
       "      <th></th>\n",
       "    </tr>\n",
       "  </thead>\n",
       "  <tbody>\n",
       "  </tbody>\n",
       "</table>\n",
       "</div>"
      ],
      "text/plain": [
       "Empty DataFrame\n",
       "Columns: []\n",
       "Index: []"
      ]
     },
     "execution_count": 8,
     "metadata": {},
     "output_type": "execute_result"
    }
   ],
   "source": [
    "%%bigquery\n",
    "DELETE FROM datamart.TitleAkas t\n",
    "WHERE NOT EXISTS(SELECT * FROM datamart.TitleBasics b WHERE t.titleId = b.tconst)"
   ]
  },
  {
   "cell_type": "markdown",
   "id": "expressed-sweden",
   "metadata": {},
   "source": [
    "**Check if the data is loaded correctly**"
   ]
  },
  {
   "cell_type": "code",
   "execution_count": 145,
   "id": "hawaiian-going",
   "metadata": {},
   "outputs": [
    {
     "data": {
      "text/html": [
       "<div>\n",
       "<style scoped>\n",
       "    .dataframe tbody tr th:only-of-type {\n",
       "        vertical-align: middle;\n",
       "    }\n",
       "\n",
       "    .dataframe tbody tr th {\n",
       "        vertical-align: top;\n",
       "    }\n",
       "\n",
       "    .dataframe thead th {\n",
       "        text-align: right;\n",
       "    }\n",
       "</style>\n",
       "<table border=\"1\" class=\"dataframe\">\n",
       "  <thead>\n",
       "    <tr style=\"text-align: right;\">\n",
       "      <th></th>\n",
       "      <th>titleId</th>\n",
       "      <th>ordering</th>\n",
       "      <th>title</th>\n",
       "      <th>region</th>\n",
       "      <th>language</th>\n",
       "      <th>types</th>\n",
       "      <th>attributes</th>\n",
       "      <th>isOriginalTitle</th>\n",
       "    </tr>\n",
       "  </thead>\n",
       "  <tbody>\n",
       "    <tr>\n",
       "      <th>0</th>\n",
       "      <td>tt7040678</td>\n",
       "      <td>3</td>\n",
       "      <td>Namoro À Distância</td>\n",
       "      <td>BR</td>\n",
       "      <td>\\N</td>\n",
       "      <td>original</td>\n",
       "      <td>\\N</td>\n",
       "      <td>True</td>\n",
       "    </tr>\n",
       "    <tr>\n",
       "      <th>1</th>\n",
       "      <td>tt4537986</td>\n",
       "      <td>2</td>\n",
       "      <td>Zhui bu</td>\n",
       "      <td>CN</td>\n",
       "      <td>cmn</td>\n",
       "      <td>original</td>\n",
       "      <td>\\N</td>\n",
       "      <td>True</td>\n",
       "    </tr>\n",
       "    <tr>\n",
       "      <th>2</th>\n",
       "      <td>tt9317864</td>\n",
       "      <td>1</td>\n",
       "      <td>Min sang til far</td>\n",
       "      <td>DK</td>\n",
       "      <td>da</td>\n",
       "      <td>original</td>\n",
       "      <td>\\N</td>\n",
       "      <td>True</td>\n",
       "    </tr>\n",
       "    <tr>\n",
       "      <th>3</th>\n",
       "      <td>tt2838166</td>\n",
       "      <td>5</td>\n",
       "      <td>Who is coming</td>\n",
       "      <td>GB</td>\n",
       "      <td>\\N</td>\n",
       "      <td>original</td>\n",
       "      <td>\\N</td>\n",
       "      <td>True</td>\n",
       "    </tr>\n",
       "    <tr>\n",
       "      <th>4</th>\n",
       "      <td>tt4089772</td>\n",
       "      <td>2</td>\n",
       "      <td>Si tou hang jeh</td>\n",
       "      <td>HK</td>\n",
       "      <td>yue</td>\n",
       "      <td>original</td>\n",
       "      <td>\\N</td>\n",
       "      <td>True</td>\n",
       "    </tr>\n",
       "  </tbody>\n",
       "</table>\n",
       "</div>"
      ],
      "text/plain": [
       "     titleId  ordering               title region language     types  \\\n",
       "0  tt7040678         3  Namoro À Distância     BR       \\N  original   \n",
       "1  tt4537986         2             Zhui bu     CN      cmn  original   \n",
       "2  tt9317864         1    Min sang til far     DK       da  original   \n",
       "3  tt2838166         5       Who is coming     GB       \\N  original   \n",
       "4  tt4089772         2     Si tou hang jeh     HK      yue  original   \n",
       "\n",
       "  attributes  isOriginalTitle  \n",
       "0         \\N             True  \n",
       "1         \\N             True  \n",
       "2         \\N             True  \n",
       "3         \\N             True  \n",
       "4         \\N             True  "
      ]
     },
     "execution_count": 145,
     "metadata": {},
     "output_type": "execute_result"
    }
   ],
   "source": [
    "%%bigquery\n",
    "SELECT * FROM datamart.TitleAkas WHERE isOriginalTitle IS TRUE LIMIT 5"
   ]
  },
  {
   "cell_type": "code",
   "execution_count": 148,
   "id": "facial-projection",
   "metadata": {},
   "outputs": [
    {
     "data": {
      "text/html": [
       "<div>\n",
       "<style scoped>\n",
       "    .dataframe tbody tr th:only-of-type {\n",
       "        vertical-align: middle;\n",
       "    }\n",
       "\n",
       "    .dataframe tbody tr th {\n",
       "        vertical-align: top;\n",
       "    }\n",
       "\n",
       "    .dataframe thead th {\n",
       "        text-align: right;\n",
       "    }\n",
       "</style>\n",
       "<table border=\"1\" class=\"dataframe\">\n",
       "  <thead>\n",
       "    <tr style=\"text-align: right;\">\n",
       "      <th></th>\n",
       "      <th>titleId</th>\n",
       "      <th>ordering</th>\n",
       "      <th>title</th>\n",
       "      <th>region</th>\n",
       "      <th>language</th>\n",
       "      <th>types</th>\n",
       "      <th>attributes</th>\n",
       "      <th>isOriginalTitle</th>\n",
       "    </tr>\n",
       "  </thead>\n",
       "  <tbody>\n",
       "    <tr>\n",
       "      <th>0</th>\n",
       "      <td>tt1841747</td>\n",
       "      <td>1</td>\n",
       "      <td>Moments of Fiction</td>\n",
       "      <td>AE</td>\n",
       "      <td>\\N</td>\n",
       "      <td>\\N</td>\n",
       "      <td>\\N</td>\n",
       "      <td>None</td>\n",
       "    </tr>\n",
       "    <tr>\n",
       "      <th>1</th>\n",
       "      <td>tt1993290</td>\n",
       "      <td>1</td>\n",
       "      <td>Briquettes Into Bridges</td>\n",
       "      <td>AF</td>\n",
       "      <td>\\N</td>\n",
       "      <td>\\N</td>\n",
       "      <td>\\N</td>\n",
       "      <td>None</td>\n",
       "    </tr>\n",
       "    <tr>\n",
       "      <th>2</th>\n",
       "      <td>tt2460072</td>\n",
       "      <td>1</td>\n",
       "      <td>Sobre la distancia</td>\n",
       "      <td>AR</td>\n",
       "      <td>\\N</td>\n",
       "      <td>\\N</td>\n",
       "      <td>\\N</td>\n",
       "      <td>None</td>\n",
       "    </tr>\n",
       "    <tr>\n",
       "      <th>3</th>\n",
       "      <td>tt2363209</td>\n",
       "      <td>1</td>\n",
       "      <td>Guiso de iguana</td>\n",
       "      <td>AR</td>\n",
       "      <td>\\N</td>\n",
       "      <td>\\N</td>\n",
       "      <td>\\N</td>\n",
       "      <td>None</td>\n",
       "    </tr>\n",
       "    <tr>\n",
       "      <th>4</th>\n",
       "      <td>tt5185838</td>\n",
       "      <td>1</td>\n",
       "      <td>La guerra por el metro cuadrado</td>\n",
       "      <td>AR</td>\n",
       "      <td>\\N</td>\n",
       "      <td>\\N</td>\n",
       "      <td>\\N</td>\n",
       "      <td>None</td>\n",
       "    </tr>\n",
       "  </tbody>\n",
       "</table>\n",
       "</div>"
      ],
      "text/plain": [
       "     titleId  ordering                            title region language types  \\\n",
       "0  tt1841747         1               Moments of Fiction     AE       \\N    \\N   \n",
       "1  tt1993290         1          Briquettes Into Bridges     AF       \\N    \\N   \n",
       "2  tt2460072         1               Sobre la distancia     AR       \\N    \\N   \n",
       "3  tt2363209         1                  Guiso de iguana     AR       \\N    \\N   \n",
       "4  tt5185838         1  La guerra por el metro cuadrado     AR       \\N    \\N   \n",
       "\n",
       "  attributes isOriginalTitle  \n",
       "0         \\N            None  \n",
       "1         \\N            None  \n",
       "2         \\N            None  \n",
       "3         \\N            None  \n",
       "4         \\N            None  "
      ]
     },
     "execution_count": 148,
     "metadata": {},
     "output_type": "execute_result"
    }
   ],
   "source": [
    "%%bigquery\n",
    "SELECT * FROM datamart.TitleAkas LIMIT 5"
   ]
  },
  {
   "cell_type": "markdown",
   "id": "twelve-whole",
   "metadata": {},
   "source": [
    "#### **The primary key for this table is the combination of titleId and ordering. check for any records with the same primary key**"
   ]
  },
  {
   "cell_type": "code",
   "execution_count": 46,
   "id": "respected-birmingham",
   "metadata": {},
   "outputs": [
    {
     "data": {
      "text/html": [
       "<div>\n",
       "<style scoped>\n",
       "    .dataframe tbody tr th:only-of-type {\n",
       "        vertical-align: middle;\n",
       "    }\n",
       "\n",
       "    .dataframe tbody tr th {\n",
       "        vertical-align: top;\n",
       "    }\n",
       "\n",
       "    .dataframe thead th {\n",
       "        text-align: right;\n",
       "    }\n",
       "</style>\n",
       "<table border=\"1\" class=\"dataframe\">\n",
       "  <thead>\n",
       "    <tr style=\"text-align: right;\">\n",
       "      <th></th>\n",
       "      <th>record_count</th>\n",
       "    </tr>\n",
       "  </thead>\n",
       "  <tbody>\n",
       "  </tbody>\n",
       "</table>\n",
       "</div>"
      ],
      "text/plain": [
       "Empty DataFrame\n",
       "Columns: [record_count]\n",
       "Index: []"
      ]
     },
     "execution_count": 46,
     "metadata": {},
     "output_type": "execute_result"
    }
   ],
   "source": [
    "%%bigquery\n",
    "SELECT count(*) as record_count FROM datamart.TitleAkas GROUP BY titleId, ordering HAVING count(*) > 1"
   ]
  },
  {
   "cell_type": "markdown",
   "id": "cordless-robert",
   "metadata": {},
   "source": [
    "#### **Create TitleEpisode table and convert seasonNumber and episodeNumber to INT**"
   ]
  },
  {
   "cell_type": "code",
   "execution_count": 150,
   "id": "personal-paste",
   "metadata": {},
   "outputs": [
    {
     "data": {
      "text/html": [
       "<div>\n",
       "<style scoped>\n",
       "    .dataframe tbody tr th:only-of-type {\n",
       "        vertical-align: middle;\n",
       "    }\n",
       "\n",
       "    .dataframe tbody tr th {\n",
       "        vertical-align: top;\n",
       "    }\n",
       "\n",
       "    .dataframe thead th {\n",
       "        text-align: right;\n",
       "    }\n",
       "</style>\n",
       "<table border=\"1\" class=\"dataframe\">\n",
       "  <thead>\n",
       "    <tr style=\"text-align: right;\">\n",
       "      <th></th>\n",
       "    </tr>\n",
       "  </thead>\n",
       "  <tbody>\n",
       "  </tbody>\n",
       "</table>\n",
       "</div>"
      ],
      "text/plain": [
       "Empty DataFrame\n",
       "Columns: []\n",
       "Index: []"
      ]
     },
     "execution_count": 150,
     "metadata": {},
     "output_type": "execute_result"
    }
   ],
   "source": [
    "%%bigquery\n",
    "CREATE TABLE datamart.TitleEpisode AS\n",
    "SELECT tconst, parentTconst, CAST(seasonNumber as INT64) as seasonNumber, CAST(episodeNumber as INT64) as episodeNumber FROM imdb_staging.TitleEpisode WHERE seasonNumber != \"\\\\N\" AND episodeNumber != \"\\\\N\""
   ]
  },
  {
   "cell_type": "code",
   "execution_count": 151,
   "id": "coupled-trademark",
   "metadata": {},
   "outputs": [
    {
     "data": {
      "text/html": [
       "<div>\n",
       "<style scoped>\n",
       "    .dataframe tbody tr th:only-of-type {\n",
       "        vertical-align: middle;\n",
       "    }\n",
       "\n",
       "    .dataframe tbody tr th {\n",
       "        vertical-align: top;\n",
       "    }\n",
       "\n",
       "    .dataframe thead th {\n",
       "        text-align: right;\n",
       "    }\n",
       "</style>\n",
       "<table border=\"1\" class=\"dataframe\">\n",
       "  <thead>\n",
       "    <tr style=\"text-align: right;\">\n",
       "      <th></th>\n",
       "    </tr>\n",
       "  </thead>\n",
       "  <tbody>\n",
       "  </tbody>\n",
       "</table>\n",
       "</div>"
      ],
      "text/plain": [
       "Empty DataFrame\n",
       "Columns: []\n",
       "Index: []"
      ]
     },
     "execution_count": 151,
     "metadata": {},
     "output_type": "execute_result"
    }
   ],
   "source": [
    "%%bigquery\n",
    "INSERT INTO datamart.TitleEpisode\n",
    "SELECT tconst, parentTconst, NULL as seasonNumber, CAST(episodeNumber as INT64) as episodeNumber FROM imdb_staging.TitleEpisode WHERE seasonNumber = \"\\\\N\" AND episodeNumber != \"\\\\N\""
   ]
  },
  {
   "cell_type": "code",
   "execution_count": 152,
   "id": "spread-wallpaper",
   "metadata": {},
   "outputs": [
    {
     "data": {
      "text/html": [
       "<div>\n",
       "<style scoped>\n",
       "    .dataframe tbody tr th:only-of-type {\n",
       "        vertical-align: middle;\n",
       "    }\n",
       "\n",
       "    .dataframe tbody tr th {\n",
       "        vertical-align: top;\n",
       "    }\n",
       "\n",
       "    .dataframe thead th {\n",
       "        text-align: right;\n",
       "    }\n",
       "</style>\n",
       "<table border=\"1\" class=\"dataframe\">\n",
       "  <thead>\n",
       "    <tr style=\"text-align: right;\">\n",
       "      <th></th>\n",
       "    </tr>\n",
       "  </thead>\n",
       "  <tbody>\n",
       "  </tbody>\n",
       "</table>\n",
       "</div>"
      ],
      "text/plain": [
       "Empty DataFrame\n",
       "Columns: []\n",
       "Index: []"
      ]
     },
     "execution_count": 152,
     "metadata": {},
     "output_type": "execute_result"
    }
   ],
   "source": [
    "%%bigquery\n",
    "INSERT INTO datamart.TitleEpisode\n",
    "SELECT tconst, parentTconst, CAST(seasonNumber as INT64) as seasonNumber, NULL as episodeNumber FROM imdb_staging.TitleEpisode WHERE seasonNumber != \"\\\\N\" AND episodeNumber = \"\\\\N\""
   ]
  },
  {
   "cell_type": "code",
   "execution_count": 153,
   "id": "amended-expression",
   "metadata": {},
   "outputs": [
    {
     "data": {
      "text/html": [
       "<div>\n",
       "<style scoped>\n",
       "    .dataframe tbody tr th:only-of-type {\n",
       "        vertical-align: middle;\n",
       "    }\n",
       "\n",
       "    .dataframe tbody tr th {\n",
       "        vertical-align: top;\n",
       "    }\n",
       "\n",
       "    .dataframe thead th {\n",
       "        text-align: right;\n",
       "    }\n",
       "</style>\n",
       "<table border=\"1\" class=\"dataframe\">\n",
       "  <thead>\n",
       "    <tr style=\"text-align: right;\">\n",
       "      <th></th>\n",
       "    </tr>\n",
       "  </thead>\n",
       "  <tbody>\n",
       "  </tbody>\n",
       "</table>\n",
       "</div>"
      ],
      "text/plain": [
       "Empty DataFrame\n",
       "Columns: []\n",
       "Index: []"
      ]
     },
     "execution_count": 153,
     "metadata": {},
     "output_type": "execute_result"
    }
   ],
   "source": [
    "%%bigquery\n",
    "INSERT INTO datamart.TitleEpisode\n",
    "SELECT tconst, parentTconst, NULL as seasonNumber, NULL as episodeNumber FROM imdb_staging.TitleEpisode WHERE seasonNumber = \"\\\\N\" AND episodeNumber = \"\\\\N\""
   ]
  },
  {
   "cell_type": "markdown",
   "id": "different-andrews",
   "metadata": {},
   "source": [
    "**remove orphaned records**"
   ]
  },
  {
   "cell_type": "code",
   "execution_count": 16,
   "id": "distinct-bumper",
   "metadata": {},
   "outputs": [
    {
     "data": {
      "text/html": [
       "<div>\n",
       "<style scoped>\n",
       "    .dataframe tbody tr th:only-of-type {\n",
       "        vertical-align: middle;\n",
       "    }\n",
       "\n",
       "    .dataframe tbody tr th {\n",
       "        vertical-align: top;\n",
       "    }\n",
       "\n",
       "    .dataframe thead th {\n",
       "        text-align: right;\n",
       "    }\n",
       "</style>\n",
       "<table border=\"1\" class=\"dataframe\">\n",
       "  <thead>\n",
       "    <tr style=\"text-align: right;\">\n",
       "      <th></th>\n",
       "    </tr>\n",
       "  </thead>\n",
       "  <tbody>\n",
       "  </tbody>\n",
       "</table>\n",
       "</div>"
      ],
      "text/plain": [
       "Empty DataFrame\n",
       "Columns: []\n",
       "Index: []"
      ]
     },
     "execution_count": 16,
     "metadata": {},
     "output_type": "execute_result"
    }
   ],
   "source": [
    "%%bigquery\n",
    "DELETE FROM datamart.TitleEpisode e\n",
    "WHERE NOT EXISTS(SELECT * FROM datamart.TitleBasics b WHERE e.tconst = b.tconst)"
   ]
  },
  {
   "cell_type": "markdown",
   "id": "loaded-marriage",
   "metadata": {},
   "source": [
    "**check**"
   ]
  },
  {
   "cell_type": "code",
   "execution_count": 154,
   "id": "respiratory-seafood",
   "metadata": {},
   "outputs": [
    {
     "data": {
      "text/html": [
       "<div>\n",
       "<style scoped>\n",
       "    .dataframe tbody tr th:only-of-type {\n",
       "        vertical-align: middle;\n",
       "    }\n",
       "\n",
       "    .dataframe tbody tr th {\n",
       "        vertical-align: top;\n",
       "    }\n",
       "\n",
       "    .dataframe thead th {\n",
       "        text-align: right;\n",
       "    }\n",
       "</style>\n",
       "<table border=\"1\" class=\"dataframe\">\n",
       "  <thead>\n",
       "    <tr style=\"text-align: right;\">\n",
       "      <th></th>\n",
       "      <th>tconst</th>\n",
       "      <th>parentTconst</th>\n",
       "      <th>seasonNumber</th>\n",
       "      <th>episodeNumber</th>\n",
       "    </tr>\n",
       "  </thead>\n",
       "  <tbody>\n",
       "    <tr>\n",
       "      <th>0</th>\n",
       "      <td>tt0076269</td>\n",
       "      <td>tt0159876</td>\n",
       "      <td>NaN</td>\n",
       "      <td>NaN</td>\n",
       "    </tr>\n",
       "    <tr>\n",
       "      <th>1</th>\n",
       "      <td>tt0093923</td>\n",
       "      <td>tt0974356</td>\n",
       "      <td>NaN</td>\n",
       "      <td>NaN</td>\n",
       "    </tr>\n",
       "    <tr>\n",
       "      <th>2</th>\n",
       "      <td>tt0102145</td>\n",
       "      <td>tt2138025</td>\n",
       "      <td>NaN</td>\n",
       "      <td>NaN</td>\n",
       "    </tr>\n",
       "    <tr>\n",
       "      <th>3</th>\n",
       "      <td>tt0116907</td>\n",
       "      <td>tt0159876</td>\n",
       "      <td>NaN</td>\n",
       "      <td>NaN</td>\n",
       "    </tr>\n",
       "    <tr>\n",
       "      <th>4</th>\n",
       "      <td>tt0154507</td>\n",
       "      <td>tt0386922</td>\n",
       "      <td>NaN</td>\n",
       "      <td>NaN</td>\n",
       "    </tr>\n",
       "  </tbody>\n",
       "</table>\n",
       "</div>"
      ],
      "text/plain": [
       "      tconst parentTconst  seasonNumber  episodeNumber\n",
       "0  tt0076269    tt0159876           NaN            NaN\n",
       "1  tt0093923    tt0974356           NaN            NaN\n",
       "2  tt0102145    tt2138025           NaN            NaN\n",
       "3  tt0116907    tt0159876           NaN            NaN\n",
       "4  tt0154507    tt0386922           NaN            NaN"
      ]
     },
     "execution_count": 154,
     "metadata": {},
     "output_type": "execute_result"
    }
   ],
   "source": [
    "%%bigquery\n",
    "SELECT * FROM datamart.TitleEpisode LIMIT 5"
   ]
  },
  {
   "cell_type": "code",
   "execution_count": 155,
   "id": "speaking-orchestra",
   "metadata": {},
   "outputs": [
    {
     "data": {
      "text/html": [
       "<div>\n",
       "<style scoped>\n",
       "    .dataframe tbody tr th:only-of-type {\n",
       "        vertical-align: middle;\n",
       "    }\n",
       "\n",
       "    .dataframe tbody tr th {\n",
       "        vertical-align: top;\n",
       "    }\n",
       "\n",
       "    .dataframe thead th {\n",
       "        text-align: right;\n",
       "    }\n",
       "</style>\n",
       "<table border=\"1\" class=\"dataframe\">\n",
       "  <thead>\n",
       "    <tr style=\"text-align: right;\">\n",
       "      <th></th>\n",
       "      <th>tconst</th>\n",
       "      <th>parentTconst</th>\n",
       "      <th>seasonNumber</th>\n",
       "      <th>episodeNumber</th>\n",
       "    </tr>\n",
       "  </thead>\n",
       "  <tbody>\n",
       "    <tr>\n",
       "      <th>0</th>\n",
       "      <td>tt0509203</td>\n",
       "      <td>tt0065272</td>\n",
       "      <td>35</td>\n",
       "      <td>58</td>\n",
       "    </tr>\n",
       "    <tr>\n",
       "      <th>1</th>\n",
       "      <td>tt0511562</td>\n",
       "      <td>tt0049993</td>\n",
       "      <td>15</td>\n",
       "      <td>40</td>\n",
       "    </tr>\n",
       "    <tr>\n",
       "      <th>2</th>\n",
       "      <td>tt0524692</td>\n",
       "      <td>tt0084987</td>\n",
       "      <td>18</td>\n",
       "      <td>64</td>\n",
       "    </tr>\n",
       "    <tr>\n",
       "      <th>3</th>\n",
       "      <td>tt0524891</td>\n",
       "      <td>tt0084987</td>\n",
       "      <td>20</td>\n",
       "      <td>73</td>\n",
       "    </tr>\n",
       "    <tr>\n",
       "      <th>4</th>\n",
       "      <td>tt0525109</td>\n",
       "      <td>tt0084987</td>\n",
       "      <td>16</td>\n",
       "      <td>81</td>\n",
       "    </tr>\n",
       "  </tbody>\n",
       "</table>\n",
       "</div>"
      ],
      "text/plain": [
       "      tconst parentTconst  seasonNumber  episodeNumber\n",
       "0  tt0509203    tt0065272            35             58\n",
       "1  tt0511562    tt0049993            15             40\n",
       "2  tt0524692    tt0084987            18             64\n",
       "3  tt0524891    tt0084987            20             73\n",
       "4  tt0525109    tt0084987            16             81"
      ]
     },
     "execution_count": 155,
     "metadata": {},
     "output_type": "execute_result"
    }
   ],
   "source": [
    "%%bigquery\n",
    "SELECT * FROM datamart.TitleEpisode WHERE seasonNumber IS NOT NULL AND episodeNumber IS NOT NULL LIMIT 5"
   ]
  },
  {
   "cell_type": "markdown",
   "id": "educated-property",
   "metadata": {},
   "source": [
    "#### **The primary key for this table is tconst. check for any records with the same primary key**"
   ]
  },
  {
   "cell_type": "code",
   "execution_count": 48,
   "id": "spare-coordinate",
   "metadata": {},
   "outputs": [
    {
     "data": {
      "text/html": [
       "<div>\n",
       "<style scoped>\n",
       "    .dataframe tbody tr th:only-of-type {\n",
       "        vertical-align: middle;\n",
       "    }\n",
       "\n",
       "    .dataframe tbody tr th {\n",
       "        vertical-align: top;\n",
       "    }\n",
       "\n",
       "    .dataframe thead th {\n",
       "        text-align: right;\n",
       "    }\n",
       "</style>\n",
       "<table border=\"1\" class=\"dataframe\">\n",
       "  <thead>\n",
       "    <tr style=\"text-align: right;\">\n",
       "      <th></th>\n",
       "      <th>record_count</th>\n",
       "    </tr>\n",
       "  </thead>\n",
       "  <tbody>\n",
       "  </tbody>\n",
       "</table>\n",
       "</div>"
      ],
      "text/plain": [
       "Empty DataFrame\n",
       "Columns: [record_count]\n",
       "Index: []"
      ]
     },
     "execution_count": 48,
     "metadata": {},
     "output_type": "execute_result"
    }
   ],
   "source": [
    "%%bigquery\n",
    "SELECT count(*) as record_count FROM datamart.TitleEpisode GROUP BY tconst HAVING count(*) > 1"
   ]
  },
  {
   "cell_type": "markdown",
   "id": "instant-girlfriend",
   "metadata": {},
   "source": [
    "#### **Create the HasDirector table and join with TitleBasics to add the primarytitle and remove any orphaned records**"
   ]
  },
  {
   "cell_type": "code",
   "execution_count": 2,
   "id": "substantial-bundle",
   "metadata": {},
   "outputs": [
    {
     "data": {
      "text/html": [
       "<div>\n",
       "<style scoped>\n",
       "    .dataframe tbody tr th:only-of-type {\n",
       "        vertical-align: middle;\n",
       "    }\n",
       "\n",
       "    .dataframe tbody tr th {\n",
       "        vertical-align: top;\n",
       "    }\n",
       "\n",
       "    .dataframe thead th {\n",
       "        text-align: right;\n",
       "    }\n",
       "</style>\n",
       "<table border=\"1\" class=\"dataframe\">\n",
       "  <thead>\n",
       "    <tr style=\"text-align: right;\">\n",
       "      <th></th>\n",
       "    </tr>\n",
       "  </thead>\n",
       "  <tbody>\n",
       "  </tbody>\n",
       "</table>\n",
       "</div>"
      ],
      "text/plain": [
       "Empty DataFrame\n",
       "Columns: []\n",
       "Index: []"
      ]
     },
     "execution_count": 2,
     "metadata": {},
     "output_type": "execute_result"
    }
   ],
   "source": [
    "%%bigquery\n",
    "CREATE TABLE datamart.HasDirector AS\n",
    "SELECT c.tconst, t.primaryTitle, c.directors \n",
    "FROM imdb_staging.TitleCrew c\n",
    "JOIN imdb_staging.TitleBasics t\n",
    "ON t.tconst = c.tconst"
   ]
  },
  {
   "cell_type": "markdown",
   "id": "particular-siemens",
   "metadata": {},
   "source": [
    "**Check**"
   ]
  },
  {
   "cell_type": "code",
   "execution_count": 6,
   "id": "promotional-excitement",
   "metadata": {},
   "outputs": [
    {
     "data": {
      "text/html": [
       "<div>\n",
       "<style scoped>\n",
       "    .dataframe tbody tr th:only-of-type {\n",
       "        vertical-align: middle;\n",
       "    }\n",
       "\n",
       "    .dataframe tbody tr th {\n",
       "        vertical-align: top;\n",
       "    }\n",
       "\n",
       "    .dataframe thead th {\n",
       "        text-align: right;\n",
       "    }\n",
       "</style>\n",
       "<table border=\"1\" class=\"dataframe\">\n",
       "  <thead>\n",
       "    <tr style=\"text-align: right;\">\n",
       "      <th></th>\n",
       "      <th>tconst</th>\n",
       "      <th>primaryTitle</th>\n",
       "      <th>directors</th>\n",
       "    </tr>\n",
       "  </thead>\n",
       "  <tbody>\n",
       "    <tr>\n",
       "      <th>0</th>\n",
       "      <td>tt2386381</td>\n",
       "      <td>!Next?</td>\n",
       "      <td>nm4133405</td>\n",
       "    </tr>\n",
       "    <tr>\n",
       "      <th>1</th>\n",
       "      <td>tt2071912</td>\n",
       "      <td>!Que ve el Bisbe!</td>\n",
       "      <td>nm1355949</td>\n",
       "    </tr>\n",
       "    <tr>\n",
       "      <th>2</th>\n",
       "      <td>tt1699720</td>\n",
       "      <td>!Women Art Revolution</td>\n",
       "      <td>nm0380961</td>\n",
       "    </tr>\n",
       "    <tr>\n",
       "      <th>3</th>\n",
       "      <td>tt3690350</td>\n",
       "      <td>\"#RichKids of Beverly Hills\" Star EJ Johnson/C...</td>\n",
       "      <td>nm2083822</td>\n",
       "    </tr>\n",
       "    <tr>\n",
       "      <th>4</th>\n",
       "      <td>tt3698022</td>\n",
       "      <td>\"#selfie\" by The Chainsmokers</td>\n",
       "      <td>nm4386928</td>\n",
       "    </tr>\n",
       "  </tbody>\n",
       "</table>\n",
       "</div>"
      ],
      "text/plain": [
       "      tconst                                       primaryTitle  directors\n",
       "0  tt2386381                                             !Next?  nm4133405\n",
       "1  tt2071912                                  !Que ve el Bisbe!  nm1355949\n",
       "2  tt1699720                              !Women Art Revolution  nm0380961\n",
       "3  tt3690350  \"#RichKids of Beverly Hills\" Star EJ Johnson/C...  nm2083822\n",
       "4  tt3698022                      \"#selfie\" by The Chainsmokers  nm4386928"
      ]
     },
     "execution_count": 6,
     "metadata": {},
     "output_type": "execute_result"
    }
   ],
   "source": [
    "%%bigquery\n",
    "SELECT * FROM datamart.HasDirector ORDER BY primaryTitle LIMIT 5"
   ]
  },
  {
   "cell_type": "markdown",
   "id": "perfect-design",
   "metadata": {},
   "source": [
    "#### **The primary key for this table is tconst. check for any records with the same primary key**"
   ]
  },
  {
   "cell_type": "code",
   "execution_count": 49,
   "id": "stupid-organ",
   "metadata": {},
   "outputs": [
    {
     "data": {
      "text/html": [
       "<div>\n",
       "<style scoped>\n",
       "    .dataframe tbody tr th:only-of-type {\n",
       "        vertical-align: middle;\n",
       "    }\n",
       "\n",
       "    .dataframe tbody tr th {\n",
       "        vertical-align: top;\n",
       "    }\n",
       "\n",
       "    .dataframe thead th {\n",
       "        text-align: right;\n",
       "    }\n",
       "</style>\n",
       "<table border=\"1\" class=\"dataframe\">\n",
       "  <thead>\n",
       "    <tr style=\"text-align: right;\">\n",
       "      <th></th>\n",
       "      <th>record_count</th>\n",
       "    </tr>\n",
       "  </thead>\n",
       "  <tbody>\n",
       "  </tbody>\n",
       "</table>\n",
       "</div>"
      ],
      "text/plain": [
       "Empty DataFrame\n",
       "Columns: [record_count]\n",
       "Index: []"
      ]
     },
     "execution_count": 49,
     "metadata": {},
     "output_type": "execute_result"
    }
   ],
   "source": [
    "%%bigquery\n",
    "SELECT count(*) as record_count FROM datamart.HasDirector GROUP BY tconst HAVING count(*) > 1"
   ]
  },
  {
   "cell_type": "markdown",
   "id": "destroyed-router",
   "metadata": {},
   "source": [
    "#### **Create the HasWriter table and join with TitleBasics to add the primarytitle and remove any orphaned records**"
   ]
  },
  {
   "cell_type": "code",
   "execution_count": 4,
   "id": "first-testimony",
   "metadata": {},
   "outputs": [
    {
     "data": {
      "text/html": [
       "<div>\n",
       "<style scoped>\n",
       "    .dataframe tbody tr th:only-of-type {\n",
       "        vertical-align: middle;\n",
       "    }\n",
       "\n",
       "    .dataframe tbody tr th {\n",
       "        vertical-align: top;\n",
       "    }\n",
       "\n",
       "    .dataframe thead th {\n",
       "        text-align: right;\n",
       "    }\n",
       "</style>\n",
       "<table border=\"1\" class=\"dataframe\">\n",
       "  <thead>\n",
       "    <tr style=\"text-align: right;\">\n",
       "      <th></th>\n",
       "    </tr>\n",
       "  </thead>\n",
       "  <tbody>\n",
       "  </tbody>\n",
       "</table>\n",
       "</div>"
      ],
      "text/plain": [
       "Empty DataFrame\n",
       "Columns: []\n",
       "Index: []"
      ]
     },
     "execution_count": 4,
     "metadata": {},
     "output_type": "execute_result"
    }
   ],
   "source": [
    "%%bigquery\n",
    "CREATE TABLE datamart.HasWriter AS\n",
    "SELECT c.tconst, t.primaryTitle, c.writers \n",
    "FROM imdb_staging.TitleCrew c\n",
    "JOIN imdb_staging.TitleBasics t\n",
    "ON t.tconst = c.tconst"
   ]
  },
  {
   "cell_type": "markdown",
   "id": "equal-massage",
   "metadata": {},
   "source": [
    "**Check**"
   ]
  },
  {
   "cell_type": "code",
   "execution_count": 7,
   "id": "characteristic-testament",
   "metadata": {},
   "outputs": [
    {
     "data": {
      "text/html": [
       "<div>\n",
       "<style scoped>\n",
       "    .dataframe tbody tr th:only-of-type {\n",
       "        vertical-align: middle;\n",
       "    }\n",
       "\n",
       "    .dataframe tbody tr th {\n",
       "        vertical-align: top;\n",
       "    }\n",
       "\n",
       "    .dataframe thead th {\n",
       "        text-align: right;\n",
       "    }\n",
       "</style>\n",
       "<table border=\"1\" class=\"dataframe\">\n",
       "  <thead>\n",
       "    <tr style=\"text-align: right;\">\n",
       "      <th></th>\n",
       "      <th>tconst</th>\n",
       "      <th>primaryTitle</th>\n",
       "      <th>writers</th>\n",
       "    </tr>\n",
       "  </thead>\n",
       "  <tbody>\n",
       "    <tr>\n",
       "      <th>0</th>\n",
       "      <td>tt2386381</td>\n",
       "      <td>!Next?</td>\n",
       "      <td>\\N</td>\n",
       "    </tr>\n",
       "    <tr>\n",
       "      <th>1</th>\n",
       "      <td>tt2071912</td>\n",
       "      <td>!Que ve el Bisbe!</td>\n",
       "      <td>nm1313785,nm4756203</td>\n",
       "    </tr>\n",
       "    <tr>\n",
       "      <th>2</th>\n",
       "      <td>tt1699720</td>\n",
       "      <td>!Women Art Revolution</td>\n",
       "      <td>\\N</td>\n",
       "    </tr>\n",
       "    <tr>\n",
       "      <th>3</th>\n",
       "      <td>tt3690350</td>\n",
       "      <td>\"#RichKids of Beverly Hills\" Star EJ Johnson/C...</td>\n",
       "      <td>\\N</td>\n",
       "    </tr>\n",
       "    <tr>\n",
       "      <th>4</th>\n",
       "      <td>tt3698022</td>\n",
       "      <td>\"#selfie\" by The Chainsmokers</td>\n",
       "      <td>nm4386928</td>\n",
       "    </tr>\n",
       "  </tbody>\n",
       "</table>\n",
       "</div>"
      ],
      "text/plain": [
       "      tconst                                       primaryTitle  \\\n",
       "0  tt2386381                                             !Next?   \n",
       "1  tt2071912                                  !Que ve el Bisbe!   \n",
       "2  tt1699720                              !Women Art Revolution   \n",
       "3  tt3690350  \"#RichKids of Beverly Hills\" Star EJ Johnson/C...   \n",
       "4  tt3698022                      \"#selfie\" by The Chainsmokers   \n",
       "\n",
       "               writers  \n",
       "0                   \\N  \n",
       "1  nm1313785,nm4756203  \n",
       "2                   \\N  \n",
       "3                   \\N  \n",
       "4            nm4386928  "
      ]
     },
     "execution_count": 7,
     "metadata": {},
     "output_type": "execute_result"
    }
   ],
   "source": [
    "%%bigquery\n",
    "SELECT * FROM datamart.HasWriter ORDER BY primaryTitle LIMIT 5"
   ]
  },
  {
   "cell_type": "markdown",
   "id": "random-wales",
   "metadata": {},
   "source": [
    "#### **The primary key for this table is tconst. check for any records with the same primary key**"
   ]
  },
  {
   "cell_type": "code",
   "execution_count": 51,
   "id": "ignored-wisdom",
   "metadata": {},
   "outputs": [
    {
     "data": {
      "text/html": [
       "<div>\n",
       "<style scoped>\n",
       "    .dataframe tbody tr th:only-of-type {\n",
       "        vertical-align: middle;\n",
       "    }\n",
       "\n",
       "    .dataframe tbody tr th {\n",
       "        vertical-align: top;\n",
       "    }\n",
       "\n",
       "    .dataframe thead th {\n",
       "        text-align: right;\n",
       "    }\n",
       "</style>\n",
       "<table border=\"1\" class=\"dataframe\">\n",
       "  <thead>\n",
       "    <tr style=\"text-align: right;\">\n",
       "      <th></th>\n",
       "      <th>record_count</th>\n",
       "    </tr>\n",
       "  </thead>\n",
       "  <tbody>\n",
       "  </tbody>\n",
       "</table>\n",
       "</div>"
      ],
      "text/plain": [
       "Empty DataFrame\n",
       "Columns: [record_count]\n",
       "Index: []"
      ]
     },
     "execution_count": 51,
     "metadata": {},
     "output_type": "execute_result"
    }
   ],
   "source": [
    "%%bigquery\n",
    "SELECT count(*) as record_count FROM datamart.HasWriter GROUP BY tconst HAVING count(*) > 1"
   ]
  },
  {
   "cell_type": "markdown",
   "id": "incomplete-navigation",
   "metadata": {},
   "source": [
    "#### **Create the TitlePrincipals table and join with TitleBasics and NameBasics to add the primaryTitle, primaryName, and remove orphaned records**"
   ]
  },
  {
   "cell_type": "code",
   "execution_count": 90,
   "id": "perceived-crack",
   "metadata": {},
   "outputs": [
    {
     "data": {
      "text/html": [
       "<div>\n",
       "<style scoped>\n",
       "    .dataframe tbody tr th:only-of-type {\n",
       "        vertical-align: middle;\n",
       "    }\n",
       "\n",
       "    .dataframe tbody tr th {\n",
       "        vertical-align: top;\n",
       "    }\n",
       "\n",
       "    .dataframe thead th {\n",
       "        text-align: right;\n",
       "    }\n",
       "</style>\n",
       "<table border=\"1\" class=\"dataframe\">\n",
       "  <thead>\n",
       "    <tr style=\"text-align: right;\">\n",
       "      <th></th>\n",
       "    </tr>\n",
       "  </thead>\n",
       "  <tbody>\n",
       "  </tbody>\n",
       "</table>\n",
       "</div>"
      ],
      "text/plain": [
       "Empty DataFrame\n",
       "Columns: []\n",
       "Index: []"
      ]
     },
     "execution_count": 90,
     "metadata": {},
     "output_type": "execute_result"
    }
   ],
   "source": [
    "%%bigquery\n",
    "CREATE TABLE datamart.TitlePrincipals AS\n",
    "SELECT p.tconst, t.primaryTitle, p.nconst, n.primaryName, CAST(p.ordering as INT64) as ordering, p.category, p.job, p.characters\n",
    "FROM imdb_staging.TitlePrincipals p\n",
    "JOIN imdb_staging.TitleBasics t\n",
    "ON t.tconst = p.tconst\n",
    "JOIN imdb_staging.NameBasics n\n",
    "ON p.nconst = n.nconst"
   ]
  },
  {
   "cell_type": "markdown",
   "id": "biological-crisis",
   "metadata": {},
   "source": [
    "**check**"
   ]
  },
  {
   "cell_type": "code",
   "execution_count": 91,
   "id": "exotic-intensity",
   "metadata": {},
   "outputs": [
    {
     "data": {
      "text/html": [
       "<div>\n",
       "<style scoped>\n",
       "    .dataframe tbody tr th:only-of-type {\n",
       "        vertical-align: middle;\n",
       "    }\n",
       "\n",
       "    .dataframe tbody tr th {\n",
       "        vertical-align: top;\n",
       "    }\n",
       "\n",
       "    .dataframe thead th {\n",
       "        text-align: right;\n",
       "    }\n",
       "</style>\n",
       "<table border=\"1\" class=\"dataframe\">\n",
       "  <thead>\n",
       "    <tr style=\"text-align: right;\">\n",
       "      <th></th>\n",
       "      <th>tconst</th>\n",
       "      <th>primaryTitle</th>\n",
       "      <th>nconst</th>\n",
       "      <th>primaryName</th>\n",
       "      <th>ordering</th>\n",
       "      <th>category</th>\n",
       "      <th>job</th>\n",
       "      <th>characters</th>\n",
       "    </tr>\n",
       "  </thead>\n",
       "  <tbody>\n",
       "    <tr>\n",
       "      <th>0</th>\n",
       "      <td>tt11325996</td>\n",
       "      <td>Episode #1.1304</td>\n",
       "      <td>nm1532250</td>\n",
       "      <td>Ediberto Lima</td>\n",
       "      <td>2</td>\n",
       "      <td>director</td>\n",
       "      <td>\\N</td>\n",
       "      <td>\\N</td>\n",
       "    </tr>\n",
       "    <tr>\n",
       "      <th>1</th>\n",
       "      <td>tt4555146</td>\n",
       "      <td>Montgomery</td>\n",
       "      <td>nm0294975</td>\n",
       "      <td>Robert N. Fried</td>\n",
       "      <td>7</td>\n",
       "      <td>writer</td>\n",
       "      <td>\\N</td>\n",
       "      <td>\\N</td>\n",
       "    </tr>\n",
       "    <tr>\n",
       "      <th>2</th>\n",
       "      <td>tt3044534</td>\n",
       "      <td>Episode dated 24 July 2013</td>\n",
       "      <td>nm1202084</td>\n",
       "      <td>Jason Brandt</td>\n",
       "      <td>7</td>\n",
       "      <td>composer</td>\n",
       "      <td>\\N</td>\n",
       "      <td>\\N</td>\n",
       "    </tr>\n",
       "    <tr>\n",
       "      <th>3</th>\n",
       "      <td>tt10280490</td>\n",
       "      <td>Episode #1.32</td>\n",
       "      <td>nm8401844</td>\n",
       "      <td>Tiannan Cai</td>\n",
       "      <td>1</td>\n",
       "      <td>composer</td>\n",
       "      <td>\\N</td>\n",
       "      <td>\\N</td>\n",
       "    </tr>\n",
       "    <tr>\n",
       "      <th>4</th>\n",
       "      <td>tt1153542</td>\n",
       "      <td>Sara</td>\n",
       "      <td>nm0062197</td>\n",
       "      <td>Basia Baumann</td>\n",
       "      <td>5</td>\n",
       "      <td>director</td>\n",
       "      <td>\\N</td>\n",
       "      <td>\\N</td>\n",
       "    </tr>\n",
       "  </tbody>\n",
       "</table>\n",
       "</div>"
      ],
      "text/plain": [
       "       tconst                primaryTitle     nconst      primaryName  \\\n",
       "0  tt11325996             Episode #1.1304  nm1532250    Ediberto Lima   \n",
       "1   tt4555146                  Montgomery  nm0294975  Robert N. Fried   \n",
       "2   tt3044534  Episode dated 24 July 2013  nm1202084     Jason Brandt   \n",
       "3  tt10280490               Episode #1.32  nm8401844      Tiannan Cai   \n",
       "4   tt1153542                        Sara  nm0062197    Basia Baumann   \n",
       "\n",
       "   ordering  category job characters  \n",
       "0         2  director  \\N         \\N  \n",
       "1         7    writer  \\N         \\N  \n",
       "2         7  composer  \\N         \\N  \n",
       "3         1  composer  \\N         \\N  \n",
       "4         5  director  \\N         \\N  "
      ]
     },
     "execution_count": 91,
     "metadata": {},
     "output_type": "execute_result"
    }
   ],
   "source": [
    "%%bigquery\n",
    "SELECT * FROM datamart.TitlePrincipals LIMIT 5"
   ]
  },
  {
   "cell_type": "markdown",
   "id": "compliant-dining",
   "metadata": {},
   "source": [
    "#### **The primary key for this table is the combination of tconst and nconst. check for any records with the same primary key**"
   ]
  },
  {
   "cell_type": "code",
   "execution_count": 92,
   "id": "optimum-copper",
   "metadata": {},
   "outputs": [
    {
     "data": {
      "text/html": [
       "<div>\n",
       "<style scoped>\n",
       "    .dataframe tbody tr th:only-of-type {\n",
       "        vertical-align: middle;\n",
       "    }\n",
       "\n",
       "    .dataframe tbody tr th {\n",
       "        vertical-align: top;\n",
       "    }\n",
       "\n",
       "    .dataframe thead th {\n",
       "        text-align: right;\n",
       "    }\n",
       "</style>\n",
       "<table border=\"1\" class=\"dataframe\">\n",
       "  <thead>\n",
       "    <tr style=\"text-align: right;\">\n",
       "      <th></th>\n",
       "      <th>tconst</th>\n",
       "      <th>nconst</th>\n",
       "    </tr>\n",
       "  </thead>\n",
       "  <tbody>\n",
       "    <tr>\n",
       "      <th>0</th>\n",
       "      <td>tt0007388</td>\n",
       "      <td>nm0121364</td>\n",
       "    </tr>\n",
       "    <tr>\n",
       "      <th>1</th>\n",
       "      <td>tt0007702</td>\n",
       "      <td>nm0017629</td>\n",
       "    </tr>\n",
       "    <tr>\n",
       "      <th>2</th>\n",
       "      <td>tt0025628</td>\n",
       "      <td>nm0572762</td>\n",
       "    </tr>\n",
       "    <tr>\n",
       "      <th>3</th>\n",
       "      <td>tt0037841</td>\n",
       "      <td>nm0143419</td>\n",
       "    </tr>\n",
       "    <tr>\n",
       "      <th>4</th>\n",
       "      <td>tt0037961</td>\n",
       "      <td>nm0829725</td>\n",
       "    </tr>\n",
       "    <tr>\n",
       "      <th>...</th>\n",
       "      <td>...</td>\n",
       "      <td>...</td>\n",
       "    </tr>\n",
       "    <tr>\n",
       "      <th>1027</th>\n",
       "      <td>tt9839146</td>\n",
       "      <td>nm4381859</td>\n",
       "    </tr>\n",
       "    <tr>\n",
       "      <th>1028</th>\n",
       "      <td>tt9859758</td>\n",
       "      <td>nm9361072</td>\n",
       "    </tr>\n",
       "    <tr>\n",
       "      <th>1029</th>\n",
       "      <td>tt9871732</td>\n",
       "      <td>nm5149255</td>\n",
       "    </tr>\n",
       "    <tr>\n",
       "      <th>1030</th>\n",
       "      <td>tt9886982</td>\n",
       "      <td>nm9555390</td>\n",
       "    </tr>\n",
       "    <tr>\n",
       "      <th>1031</th>\n",
       "      <td>tt9914214</td>\n",
       "      <td>nm5058533</td>\n",
       "    </tr>\n",
       "  </tbody>\n",
       "</table>\n",
       "<p>1032 rows × 2 columns</p>\n",
       "</div>"
      ],
      "text/plain": [
       "         tconst     nconst\n",
       "0     tt0007388  nm0121364\n",
       "1     tt0007702  nm0017629\n",
       "2     tt0025628  nm0572762\n",
       "3     tt0037841  nm0143419\n",
       "4     tt0037961  nm0829725\n",
       "...         ...        ...\n",
       "1027  tt9839146  nm4381859\n",
       "1028  tt9859758  nm9361072\n",
       "1029  tt9871732  nm5149255\n",
       "1030  tt9886982  nm9555390\n",
       "1031  tt9914214  nm5058533\n",
       "\n",
       "[1032 rows x 2 columns]"
      ]
     },
     "execution_count": 92,
     "metadata": {},
     "output_type": "execute_result"
    }
   ],
   "source": [
    "%%bigquery\n",
    "SELECT tconst, nconst FROM datamart.TitlePrincipals GROUP BY tconst,nconst HAVING count(*) > 1 ORDER BY tconst"
   ]
  },
  {
   "cell_type": "code",
   "execution_count": 93,
   "id": "final-ethernet",
   "metadata": {},
   "outputs": [
    {
     "data": {
      "text/html": [
       "<div>\n",
       "<style scoped>\n",
       "    .dataframe tbody tr th:only-of-type {\n",
       "        vertical-align: middle;\n",
       "    }\n",
       "\n",
       "    .dataframe tbody tr th {\n",
       "        vertical-align: top;\n",
       "    }\n",
       "\n",
       "    .dataframe thead th {\n",
       "        text-align: right;\n",
       "    }\n",
       "</style>\n",
       "<table border=\"1\" class=\"dataframe\">\n",
       "  <thead>\n",
       "    <tr style=\"text-align: right;\">\n",
       "      <th></th>\n",
       "    </tr>\n",
       "  </thead>\n",
       "  <tbody>\n",
       "  </tbody>\n",
       "</table>\n",
       "</div>"
      ],
      "text/plain": [
       "Empty DataFrame\n",
       "Columns: []\n",
       "Index: []"
      ]
     },
     "execution_count": 93,
     "metadata": {},
     "output_type": "execute_result"
    }
   ],
   "source": [
    "%%bigquery\n",
    "DELETE FROM datamart.TitlePrincipals a WHERE EXISTS (SELECT * FROM datamart.TitlePrincipals b WHERE a.tconst = b.tconst AND a.nconst = b.nconst AND a.characters = b.characters AND a.ordering != b.ordering )"
   ]
  },
  {
   "cell_type": "code",
   "execution_count": 94,
   "id": "elementary-beverage",
   "metadata": {},
   "outputs": [
    {
     "data": {
      "text/html": [
       "<div>\n",
       "<style scoped>\n",
       "    .dataframe tbody tr th:only-of-type {\n",
       "        vertical-align: middle;\n",
       "    }\n",
       "\n",
       "    .dataframe tbody tr th {\n",
       "        vertical-align: top;\n",
       "    }\n",
       "\n",
       "    .dataframe thead th {\n",
       "        text-align: right;\n",
       "    }\n",
       "</style>\n",
       "<table border=\"1\" class=\"dataframe\">\n",
       "  <thead>\n",
       "    <tr style=\"text-align: right;\">\n",
       "      <th></th>\n",
       "      <th>tconst</th>\n",
       "      <th>nconst</th>\n",
       "    </tr>\n",
       "  </thead>\n",
       "  <tbody>\n",
       "    <tr>\n",
       "      <th>0</th>\n",
       "      <td>tt0037841</td>\n",
       "      <td>nm0143419</td>\n",
       "    </tr>\n",
       "    <tr>\n",
       "      <th>1</th>\n",
       "      <td>tt0108730</td>\n",
       "      <td>nm1470442</td>\n",
       "    </tr>\n",
       "    <tr>\n",
       "      <th>2</th>\n",
       "      <td>tt0195459</td>\n",
       "      <td>nm5766778</td>\n",
       "    </tr>\n",
       "    <tr>\n",
       "      <th>3</th>\n",
       "      <td>tt0280355</td>\n",
       "      <td>nm0222013</td>\n",
       "    </tr>\n",
       "    <tr>\n",
       "      <th>4</th>\n",
       "      <td>tt0428634</td>\n",
       "      <td>nm0391073</td>\n",
       "    </tr>\n",
       "    <tr>\n",
       "      <th>5</th>\n",
       "      <td>tt0466616</td>\n",
       "      <td>nm6730054</td>\n",
       "    </tr>\n",
       "    <tr>\n",
       "      <th>6</th>\n",
       "      <td>tt10115148</td>\n",
       "      <td>nm10587928</td>\n",
       "    </tr>\n",
       "    <tr>\n",
       "      <th>7</th>\n",
       "      <td>tt10461760</td>\n",
       "      <td>nm10053313</td>\n",
       "    </tr>\n",
       "    <tr>\n",
       "      <th>8</th>\n",
       "      <td>tt11448574</td>\n",
       "      <td>nm11033610</td>\n",
       "    </tr>\n",
       "    <tr>\n",
       "      <th>9</th>\n",
       "      <td>tt12650378</td>\n",
       "      <td>nm11713459</td>\n",
       "    </tr>\n",
       "    <tr>\n",
       "      <th>10</th>\n",
       "      <td>tt14069126</td>\n",
       "      <td>nm12321361</td>\n",
       "    </tr>\n",
       "    <tr>\n",
       "      <th>11</th>\n",
       "      <td>tt1815702</td>\n",
       "      <td>nm4116010</td>\n",
       "    </tr>\n",
       "    <tr>\n",
       "      <th>12</th>\n",
       "      <td>tt1954936</td>\n",
       "      <td>nm4495049</td>\n",
       "    </tr>\n",
       "    <tr>\n",
       "      <th>13</th>\n",
       "      <td>tt2041418</td>\n",
       "      <td>nm4591153</td>\n",
       "    </tr>\n",
       "    <tr>\n",
       "      <th>14</th>\n",
       "      <td>tt2085959</td>\n",
       "      <td>nm4725612</td>\n",
       "    </tr>\n",
       "    <tr>\n",
       "      <th>15</th>\n",
       "      <td>tt2123320</td>\n",
       "      <td>nm4792482</td>\n",
       "    </tr>\n",
       "    <tr>\n",
       "      <th>16</th>\n",
       "      <td>tt2123320</td>\n",
       "      <td>nm4792185</td>\n",
       "    </tr>\n",
       "    <tr>\n",
       "      <th>17</th>\n",
       "      <td>tt2179041</td>\n",
       "      <td>nm4184304</td>\n",
       "    </tr>\n",
       "    <tr>\n",
       "      <th>18</th>\n",
       "      <td>tt2419366</td>\n",
       "      <td>nm5294813</td>\n",
       "    </tr>\n",
       "    <tr>\n",
       "      <th>19</th>\n",
       "      <td>tt2548838</td>\n",
       "      <td>nm2840457</td>\n",
       "    </tr>\n",
       "    <tr>\n",
       "      <th>20</th>\n",
       "      <td>tt3103298</td>\n",
       "      <td>nm5820080</td>\n",
       "    </tr>\n",
       "    <tr>\n",
       "      <th>21</th>\n",
       "      <td>tt3818444</td>\n",
       "      <td>nm6583385</td>\n",
       "    </tr>\n",
       "    <tr>\n",
       "      <th>22</th>\n",
       "      <td>tt5132664</td>\n",
       "      <td>nm7333041</td>\n",
       "    </tr>\n",
       "    <tr>\n",
       "      <th>23</th>\n",
       "      <td>tt5597084</td>\n",
       "      <td>nm4397882</td>\n",
       "    </tr>\n",
       "    <tr>\n",
       "      <th>24</th>\n",
       "      <td>tt6275614</td>\n",
       "      <td>nm6289482</td>\n",
       "    </tr>\n",
       "    <tr>\n",
       "      <th>25</th>\n",
       "      <td>tt6662644</td>\n",
       "      <td>nm7178469</td>\n",
       "    </tr>\n",
       "    <tr>\n",
       "      <th>26</th>\n",
       "      <td>tt7217010</td>\n",
       "      <td>nm9177464</td>\n",
       "    </tr>\n",
       "    <tr>\n",
       "      <th>27</th>\n",
       "      <td>tt7239384</td>\n",
       "      <td>nm9192490</td>\n",
       "    </tr>\n",
       "    <tr>\n",
       "      <th>28</th>\n",
       "      <td>tt7611190</td>\n",
       "      <td>nm9377497</td>\n",
       "    </tr>\n",
       "    <tr>\n",
       "      <th>29</th>\n",
       "      <td>tt7886860</td>\n",
       "      <td>nm9562694</td>\n",
       "    </tr>\n",
       "  </tbody>\n",
       "</table>\n",
       "</div>"
      ],
      "text/plain": [
       "        tconst      nconst\n",
       "0    tt0037841   nm0143419\n",
       "1    tt0108730   nm1470442\n",
       "2    tt0195459   nm5766778\n",
       "3    tt0280355   nm0222013\n",
       "4    tt0428634   nm0391073\n",
       "5    tt0466616   nm6730054\n",
       "6   tt10115148  nm10587928\n",
       "7   tt10461760  nm10053313\n",
       "8   tt11448574  nm11033610\n",
       "9   tt12650378  nm11713459\n",
       "10  tt14069126  nm12321361\n",
       "11   tt1815702   nm4116010\n",
       "12   tt1954936   nm4495049\n",
       "13   tt2041418   nm4591153\n",
       "14   tt2085959   nm4725612\n",
       "15   tt2123320   nm4792482\n",
       "16   tt2123320   nm4792185\n",
       "17   tt2179041   nm4184304\n",
       "18   tt2419366   nm5294813\n",
       "19   tt2548838   nm2840457\n",
       "20   tt3103298   nm5820080\n",
       "21   tt3818444   nm6583385\n",
       "22   tt5132664   nm7333041\n",
       "23   tt5597084   nm4397882\n",
       "24   tt6275614   nm6289482\n",
       "25   tt6662644   nm7178469\n",
       "26   tt7217010   nm9177464\n",
       "27   tt7239384   nm9192490\n",
       "28   tt7611190   nm9377497\n",
       "29   tt7886860   nm9562694"
      ]
     },
     "execution_count": 94,
     "metadata": {},
     "output_type": "execute_result"
    }
   ],
   "source": [
    "%%bigquery\n",
    "SELECT tconst, nconst FROM datamart.TitlePrincipals GROUP BY tconst,nconst HAVING count(*) > 1 ORDER BY tconst"
   ]
  },
  {
   "cell_type": "markdown",
   "id": "logical-variance",
   "metadata": {},
   "source": [
    "**The duplicates remaining are records where the same actor played multiple characters in the same title or have one record with a value for character and one record with a null value for character.** \n",
    "\n",
    "**Delete the duplicate with the less detailed or null value for character**"
   ]
  },
  {
   "cell_type": "code",
   "execution_count": 95,
   "id": "considered-joyce",
   "metadata": {},
   "outputs": [
    {
     "data": {
      "text/html": [
       "<div>\n",
       "<style scoped>\n",
       "    .dataframe tbody tr th:only-of-type {\n",
       "        vertical-align: middle;\n",
       "    }\n",
       "\n",
       "    .dataframe tbody tr th {\n",
       "        vertical-align: top;\n",
       "    }\n",
       "\n",
       "    .dataframe thead th {\n",
       "        text-align: right;\n",
       "    }\n",
       "</style>\n",
       "<table border=\"1\" class=\"dataframe\">\n",
       "  <thead>\n",
       "    <tr style=\"text-align: right;\">\n",
       "      <th></th>\n",
       "    </tr>\n",
       "  </thead>\n",
       "  <tbody>\n",
       "  </tbody>\n",
       "</table>\n",
       "</div>"
      ],
      "text/plain": [
       "Empty DataFrame\n",
       "Columns: []\n",
       "Index: []"
      ]
     },
     "execution_count": 95,
     "metadata": {},
     "output_type": "execute_result"
    }
   ],
   "source": [
    "%%bigquery\n",
    "DELETE FROM datamart.TitlePrincipals a WHERE EXISTS (SELECT * FROM datamart.TitlePrincipals b WHERE a.tconst = b.tconst AND a.nconst = b.nconst AND LENGTH(a.characters) < LENGTH(b.characters) AND a.ordering != b.ordering )"
   ]
  },
  {
   "cell_type": "code",
   "execution_count": 96,
   "id": "appreciated-bread",
   "metadata": {},
   "outputs": [
    {
     "data": {
      "text/html": [
       "<div>\n",
       "<style scoped>\n",
       "    .dataframe tbody tr th:only-of-type {\n",
       "        vertical-align: middle;\n",
       "    }\n",
       "\n",
       "    .dataframe tbody tr th {\n",
       "        vertical-align: top;\n",
       "    }\n",
       "\n",
       "    .dataframe thead th {\n",
       "        text-align: right;\n",
       "    }\n",
       "</style>\n",
       "<table border=\"1\" class=\"dataframe\">\n",
       "  <thead>\n",
       "    <tr style=\"text-align: right;\">\n",
       "      <th></th>\n",
       "      <th>tconst</th>\n",
       "      <th>nconst</th>\n",
       "    </tr>\n",
       "  </thead>\n",
       "  <tbody>\n",
       "    <tr>\n",
       "      <th>0</th>\n",
       "      <td>tt0037841</td>\n",
       "      <td>nm0143419</td>\n",
       "    </tr>\n",
       "    <tr>\n",
       "      <th>1</th>\n",
       "      <td>tt0195459</td>\n",
       "      <td>nm5766778</td>\n",
       "    </tr>\n",
       "    <tr>\n",
       "      <th>2</th>\n",
       "      <td>tt11448574</td>\n",
       "      <td>nm11033610</td>\n",
       "    </tr>\n",
       "  </tbody>\n",
       "</table>\n",
       "</div>"
      ],
      "text/plain": [
       "       tconst      nconst\n",
       "0   tt0037841   nm0143419\n",
       "1   tt0195459   nm5766778\n",
       "2  tt11448574  nm11033610"
      ]
     },
     "execution_count": 96,
     "metadata": {},
     "output_type": "execute_result"
    }
   ],
   "source": [
    "%%bigquery\n",
    "SELECT tconst, nconst FROM datamart.TitlePrincipals GROUP BY tconst,nconst HAVING count(*) > 1 ORDER BY tconst"
   ]
  },
  {
   "cell_type": "markdown",
   "id": "cutting-competition",
   "metadata": {},
   "source": [
    "**Fix the remaining three**"
   ]
  },
  {
   "cell_type": "code",
   "execution_count": 88,
   "id": "comprehensive-forum",
   "metadata": {},
   "outputs": [
    {
     "data": {
      "text/html": [
       "<div>\n",
       "<style scoped>\n",
       "    .dataframe tbody tr th:only-of-type {\n",
       "        vertical-align: middle;\n",
       "    }\n",
       "\n",
       "    .dataframe tbody tr th {\n",
       "        vertical-align: top;\n",
       "    }\n",
       "\n",
       "    .dataframe thead th {\n",
       "        text-align: right;\n",
       "    }\n",
       "</style>\n",
       "<table border=\"1\" class=\"dataframe\">\n",
       "  <thead>\n",
       "    <tr style=\"text-align: right;\">\n",
       "      <th></th>\n",
       "      <th>tconst</th>\n",
       "      <th>primaryTitle</th>\n",
       "      <th>nconst</th>\n",
       "      <th>primaryName</th>\n",
       "      <th>ordering</th>\n",
       "      <th>category</th>\n",
       "      <th>job</th>\n",
       "      <th>characters</th>\n",
       "    </tr>\n",
       "  </thead>\n",
       "  <tbody>\n",
       "    <tr>\n",
       "      <th>0</th>\n",
       "      <td>tt0037841</td>\n",
       "      <td>The Jury Goes Round 'n' Round</td>\n",
       "      <td>nm0143419</td>\n",
       "      <td>Elberta Hunter</td>\n",
       "      <td>9</td>\n",
       "      <td>actress</td>\n",
       "      <td>\\N</td>\n",
       "      <td>[\"Tall Juror\"]</td>\n",
       "    </tr>\n",
       "    <tr>\n",
       "      <th>1</th>\n",
       "      <td>tt0037841</td>\n",
       "      <td>The Jury Goes Round 'n' Round</td>\n",
       "      <td>nm0143419</td>\n",
       "      <td>Elberta Hunter</td>\n",
       "      <td>10</td>\n",
       "      <td>actress</td>\n",
       "      <td>\\N</td>\n",
       "      <td>[\"Tall juror\"]</td>\n",
       "    </tr>\n",
       "    <tr>\n",
       "      <th>2</th>\n",
       "      <td>tt1482408</td>\n",
       "      <td>California Girl</td>\n",
       "      <td>nm0143419</td>\n",
       "      <td>Elberta Hunter</td>\n",
       "      <td>1</td>\n",
       "      <td>actress</td>\n",
       "      <td>\\N</td>\n",
       "      <td>\\N</td>\n",
       "    </tr>\n",
       "  </tbody>\n",
       "</table>\n",
       "</div>"
      ],
      "text/plain": [
       "      tconst                   primaryTitle     nconst     primaryName  \\\n",
       "0  tt0037841  The Jury Goes Round 'n' Round  nm0143419  Elberta Hunter   \n",
       "1  tt0037841  The Jury Goes Round 'n' Round  nm0143419  Elberta Hunter   \n",
       "2  tt1482408                California Girl  nm0143419  Elberta Hunter   \n",
       "\n",
       "   ordering category job      characters  \n",
       "0         9  actress  \\N  [\"Tall Juror\"]  \n",
       "1        10  actress  \\N  [\"Tall juror\"]  \n",
       "2         1  actress  \\N              \\N  "
      ]
     },
     "execution_count": 88,
     "metadata": {},
     "output_type": "execute_result"
    }
   ],
   "source": [
    "%%bigquery\n",
    "SELECT * FROM datamart.TitlePrincipals WHERE nconst = \"nm0143419\" ORDER BY tconst"
   ]
  },
  {
   "cell_type": "code",
   "execution_count": 97,
   "id": "sticky-debut",
   "metadata": {},
   "outputs": [
    {
     "data": {
      "text/html": [
       "<div>\n",
       "<style scoped>\n",
       "    .dataframe tbody tr th:only-of-type {\n",
       "        vertical-align: middle;\n",
       "    }\n",
       "\n",
       "    .dataframe tbody tr th {\n",
       "        vertical-align: top;\n",
       "    }\n",
       "\n",
       "    .dataframe thead th {\n",
       "        text-align: right;\n",
       "    }\n",
       "</style>\n",
       "<table border=\"1\" class=\"dataframe\">\n",
       "  <thead>\n",
       "    <tr style=\"text-align: right;\">\n",
       "      <th></th>\n",
       "    </tr>\n",
       "  </thead>\n",
       "  <tbody>\n",
       "  </tbody>\n",
       "</table>\n",
       "</div>"
      ],
      "text/plain": [
       "Empty DataFrame\n",
       "Columns: []\n",
       "Index: []"
      ]
     },
     "execution_count": 97,
     "metadata": {},
     "output_type": "execute_result"
    }
   ],
   "source": [
    "%%bigquery\n",
    "DELETE FROM datamart.TitlePrincipals WHERE tconst = \"tt0037841\" AND nconst = \"nm0143419\" AND ordering = 10"
   ]
  },
  {
   "cell_type": "code",
   "execution_count": 98,
   "id": "previous-leader",
   "metadata": {},
   "outputs": [
    {
     "data": {
      "text/html": [
       "<div>\n",
       "<style scoped>\n",
       "    .dataframe tbody tr th:only-of-type {\n",
       "        vertical-align: middle;\n",
       "    }\n",
       "\n",
       "    .dataframe tbody tr th {\n",
       "        vertical-align: top;\n",
       "    }\n",
       "\n",
       "    .dataframe thead th {\n",
       "        text-align: right;\n",
       "    }\n",
       "</style>\n",
       "<table border=\"1\" class=\"dataframe\">\n",
       "  <thead>\n",
       "    <tr style=\"text-align: right;\">\n",
       "      <th></th>\n",
       "      <th>tconst</th>\n",
       "      <th>primaryTitle</th>\n",
       "      <th>nconst</th>\n",
       "      <th>primaryName</th>\n",
       "      <th>ordering</th>\n",
       "      <th>category</th>\n",
       "      <th>job</th>\n",
       "      <th>characters</th>\n",
       "    </tr>\n",
       "  </thead>\n",
       "  <tbody>\n",
       "    <tr>\n",
       "      <th>0</th>\n",
       "      <td>tt0195459</td>\n",
       "      <td>The Fred Waring Show</td>\n",
       "      <td>nm5766778</td>\n",
       "      <td>Joe Marine</td>\n",
       "      <td>10</td>\n",
       "      <td>self</td>\n",
       "      <td>\\N</td>\n",
       "      <td>[\"Self - Singer\",\"Self\"]</td>\n",
       "    </tr>\n",
       "    <tr>\n",
       "      <th>1</th>\n",
       "      <td>tt0195459</td>\n",
       "      <td>The Fred Waring Show</td>\n",
       "      <td>nm5766778</td>\n",
       "      <td>Joe Marine</td>\n",
       "      <td>2</td>\n",
       "      <td>self</td>\n",
       "      <td>\\N</td>\n",
       "      <td>[\"Self\",\"Self - Singer\"]</td>\n",
       "    </tr>\n",
       "    <tr>\n",
       "      <th>2</th>\n",
       "      <td>tt11796756</td>\n",
       "      <td>Bill Lawrence, Micki Marlo, Joe Marine</td>\n",
       "      <td>nm5766778</td>\n",
       "      <td>Joe Marine</td>\n",
       "      <td>3</td>\n",
       "      <td>self</td>\n",
       "      <td>\\N</td>\n",
       "      <td>[\"Self - singer\"]</td>\n",
       "    </tr>\n",
       "    <tr>\n",
       "      <th>3</th>\n",
       "      <td>tt12090372</td>\n",
       "      <td>Richard Rodgers 25th Anniversary Celebration</td>\n",
       "      <td>nm5766778</td>\n",
       "      <td>Joe Marine</td>\n",
       "      <td>5</td>\n",
       "      <td>self</td>\n",
       "      <td>\\N</td>\n",
       "      <td>[\"Self\"]</td>\n",
       "    </tr>\n",
       "    <tr>\n",
       "      <th>4</th>\n",
       "      <td>tt12217950</td>\n",
       "      <td>St. Patrick's Day Tribute</td>\n",
       "      <td>nm5766778</td>\n",
       "      <td>Joe Marine</td>\n",
       "      <td>7</td>\n",
       "      <td>self</td>\n",
       "      <td>\\N</td>\n",
       "      <td>[\"Self\"]</td>\n",
       "    </tr>\n",
       "    <tr>\n",
       "      <th>5</th>\n",
       "      <td>tt12608366</td>\n",
       "      <td>Episode #3.21</td>\n",
       "      <td>nm5766778</td>\n",
       "      <td>Joe Marine</td>\n",
       "      <td>9</td>\n",
       "      <td>self</td>\n",
       "      <td>\\N</td>\n",
       "      <td>[\"Self\"]</td>\n",
       "    </tr>\n",
       "    <tr>\n",
       "      <th>6</th>\n",
       "      <td>tt12817674</td>\n",
       "      <td>Spring Music</td>\n",
       "      <td>nm5766778</td>\n",
       "      <td>Joe Marine</td>\n",
       "      <td>7</td>\n",
       "      <td>self</td>\n",
       "      <td>\\N</td>\n",
       "      <td>[\"Self\"]</td>\n",
       "    </tr>\n",
       "    <tr>\n",
       "      <th>7</th>\n",
       "      <td>tt13612876</td>\n",
       "      <td>The Albins, Joe Marine, Harold &amp; Lola</td>\n",
       "      <td>nm5766778</td>\n",
       "      <td>Joe Marine</td>\n",
       "      <td>7</td>\n",
       "      <td>self</td>\n",
       "      <td>\\N</td>\n",
       "      <td>[\"Self - singer\"]</td>\n",
       "    </tr>\n",
       "    <tr>\n",
       "      <th>8</th>\n",
       "      <td>tt13953000</td>\n",
       "      <td>Episode #3.24</td>\n",
       "      <td>nm5766778</td>\n",
       "      <td>Joe Marine</td>\n",
       "      <td>7</td>\n",
       "      <td>self</td>\n",
       "      <td>\\N</td>\n",
       "      <td>[\"Self\"]</td>\n",
       "    </tr>\n",
       "    <tr>\n",
       "      <th>9</th>\n",
       "      <td>tt14058132</td>\n",
       "      <td>April</td>\n",
       "      <td>nm5766778</td>\n",
       "      <td>Joe Marine</td>\n",
       "      <td>7</td>\n",
       "      <td>self</td>\n",
       "      <td>\\N</td>\n",
       "      <td>[\"Self\"]</td>\n",
       "    </tr>\n",
       "    <tr>\n",
       "      <th>10</th>\n",
       "      <td>tt3016212</td>\n",
       "      <td>Diving Dynasty</td>\n",
       "      <td>nm5766778</td>\n",
       "      <td>Joe Marine</td>\n",
       "      <td>4</td>\n",
       "      <td>actor</td>\n",
       "      <td>\\N</td>\n",
       "      <td>[\"Swimmer\"]</td>\n",
       "    </tr>\n",
       "    <tr>\n",
       "      <th>11</th>\n",
       "      <td>tt3513784</td>\n",
       "      <td>Last show of the season featuring a dramatic m...</td>\n",
       "      <td>nm5766778</td>\n",
       "      <td>Joe Marine</td>\n",
       "      <td>9</td>\n",
       "      <td>self</td>\n",
       "      <td>\\N</td>\n",
       "      <td>[\"Self\"]</td>\n",
       "    </tr>\n",
       "    <tr>\n",
       "      <th>12</th>\n",
       "      <td>tt3589604</td>\n",
       "      <td>Episode #5.14</td>\n",
       "      <td>nm5766778</td>\n",
       "      <td>Joe Marine</td>\n",
       "      <td>8</td>\n",
       "      <td>self</td>\n",
       "      <td>\\N</td>\n",
       "      <td>[\"Self\"]</td>\n",
       "    </tr>\n",
       "    <tr>\n",
       "      <th>13</th>\n",
       "      <td>tt3598398</td>\n",
       "      <td>Episode #5.18</td>\n",
       "      <td>nm5766778</td>\n",
       "      <td>Joe Marine</td>\n",
       "      <td>8</td>\n",
       "      <td>self</td>\n",
       "      <td>\\N</td>\n",
       "      <td>[\"Self\"]</td>\n",
       "    </tr>\n",
       "    <tr>\n",
       "      <th>14</th>\n",
       "      <td>tt8203032</td>\n",
       "      <td>Christmas Show</td>\n",
       "      <td>nm5766778</td>\n",
       "      <td>Joe Marine</td>\n",
       "      <td>3</td>\n",
       "      <td>self</td>\n",
       "      <td>\\N</td>\n",
       "      <td>[\"Self\"]</td>\n",
       "    </tr>\n",
       "  </tbody>\n",
       "</table>\n",
       "</div>"
      ],
      "text/plain": [
       "        tconst                                       primaryTitle     nconst  \\\n",
       "0    tt0195459                               The Fred Waring Show  nm5766778   \n",
       "1    tt0195459                               The Fred Waring Show  nm5766778   \n",
       "2   tt11796756             Bill Lawrence, Micki Marlo, Joe Marine  nm5766778   \n",
       "3   tt12090372       Richard Rodgers 25th Anniversary Celebration  nm5766778   \n",
       "4   tt12217950                          St. Patrick's Day Tribute  nm5766778   \n",
       "5   tt12608366                                      Episode #3.21  nm5766778   \n",
       "6   tt12817674                                       Spring Music  nm5766778   \n",
       "7   tt13612876              The Albins, Joe Marine, Harold & Lola  nm5766778   \n",
       "8   tt13953000                                      Episode #3.24  nm5766778   \n",
       "9   tt14058132                                              April  nm5766778   \n",
       "10   tt3016212                                     Diving Dynasty  nm5766778   \n",
       "11   tt3513784  Last show of the season featuring a dramatic m...  nm5766778   \n",
       "12   tt3589604                                      Episode #5.14  nm5766778   \n",
       "13   tt3598398                                      Episode #5.18  nm5766778   \n",
       "14   tt8203032                                     Christmas Show  nm5766778   \n",
       "\n",
       "   primaryName  ordering category job                characters  \n",
       "0   Joe Marine        10     self  \\N  [\"Self - Singer\",\"Self\"]  \n",
       "1   Joe Marine         2     self  \\N  [\"Self\",\"Self - Singer\"]  \n",
       "2   Joe Marine         3     self  \\N         [\"Self - singer\"]  \n",
       "3   Joe Marine         5     self  \\N                  [\"Self\"]  \n",
       "4   Joe Marine         7     self  \\N                  [\"Self\"]  \n",
       "5   Joe Marine         9     self  \\N                  [\"Self\"]  \n",
       "6   Joe Marine         7     self  \\N                  [\"Self\"]  \n",
       "7   Joe Marine         7     self  \\N         [\"Self - singer\"]  \n",
       "8   Joe Marine         7     self  \\N                  [\"Self\"]  \n",
       "9   Joe Marine         7     self  \\N                  [\"Self\"]  \n",
       "10  Joe Marine         4    actor  \\N               [\"Swimmer\"]  \n",
       "11  Joe Marine         9     self  \\N                  [\"Self\"]  \n",
       "12  Joe Marine         8     self  \\N                  [\"Self\"]  \n",
       "13  Joe Marine         8     self  \\N                  [\"Self\"]  \n",
       "14  Joe Marine         3     self  \\N                  [\"Self\"]  "
      ]
     },
     "execution_count": 98,
     "metadata": {},
     "output_type": "execute_result"
    }
   ],
   "source": [
    "%%bigquery\n",
    "SELECT * FROM datamart.TitlePrincipals WHERE nconst = \"nm5766778\" ORDER BY tconst"
   ]
  },
  {
   "cell_type": "code",
   "execution_count": 104,
   "id": "serial-annual",
   "metadata": {},
   "outputs": [
    {
     "data": {
      "text/html": [
       "<div>\n",
       "<style scoped>\n",
       "    .dataframe tbody tr th:only-of-type {\n",
       "        vertical-align: middle;\n",
       "    }\n",
       "\n",
       "    .dataframe tbody tr th {\n",
       "        vertical-align: top;\n",
       "    }\n",
       "\n",
       "    .dataframe thead th {\n",
       "        text-align: right;\n",
       "    }\n",
       "</style>\n",
       "<table border=\"1\" class=\"dataframe\">\n",
       "  <thead>\n",
       "    <tr style=\"text-align: right;\">\n",
       "      <th></th>\n",
       "    </tr>\n",
       "  </thead>\n",
       "  <tbody>\n",
       "  </tbody>\n",
       "</table>\n",
       "</div>"
      ],
      "text/plain": [
       "Empty DataFrame\n",
       "Columns: []\n",
       "Index: []"
      ]
     },
     "execution_count": 104,
     "metadata": {},
     "output_type": "execute_result"
    }
   ],
   "source": [
    "%%bigquery\n",
    "DELETE FROM datamart.TitlePrincipals WHERE tconst = \"tt0195459\" AND nconst = \"nm5766778\" AND ordering = 10"
   ]
  },
  {
   "cell_type": "code",
   "execution_count": 100,
   "id": "least-cream",
   "metadata": {},
   "outputs": [
    {
     "data": {
      "text/html": [
       "<div>\n",
       "<style scoped>\n",
       "    .dataframe tbody tr th:only-of-type {\n",
       "        vertical-align: middle;\n",
       "    }\n",
       "\n",
       "    .dataframe tbody tr th {\n",
       "        vertical-align: top;\n",
       "    }\n",
       "\n",
       "    .dataframe thead th {\n",
       "        text-align: right;\n",
       "    }\n",
       "</style>\n",
       "<table border=\"1\" class=\"dataframe\">\n",
       "  <thead>\n",
       "    <tr style=\"text-align: right;\">\n",
       "      <th></th>\n",
       "      <th>tconst</th>\n",
       "      <th>primaryTitle</th>\n",
       "      <th>nconst</th>\n",
       "      <th>primaryName</th>\n",
       "      <th>ordering</th>\n",
       "      <th>category</th>\n",
       "      <th>job</th>\n",
       "      <th>characters</th>\n",
       "    </tr>\n",
       "  </thead>\n",
       "  <tbody>\n",
       "    <tr>\n",
       "      <th>0</th>\n",
       "      <td>tt11448574</td>\n",
       "      <td>Death Life</td>\n",
       "      <td>nm11033610</td>\n",
       "      <td>Taboo Acend</td>\n",
       "      <td>2</td>\n",
       "      <td>actor</td>\n",
       "      <td>\\N</td>\n",
       "      <td>[\"Carl\"]</td>\n",
       "    </tr>\n",
       "    <tr>\n",
       "      <th>1</th>\n",
       "      <td>tt11448574</td>\n",
       "      <td>Death Life</td>\n",
       "      <td>nm11033610</td>\n",
       "      <td>Taboo Acend</td>\n",
       "      <td>5</td>\n",
       "      <td>actor</td>\n",
       "      <td>\\N</td>\n",
       "      <td>[\"Jack\"]</td>\n",
       "    </tr>\n",
       "    <tr>\n",
       "      <th>2</th>\n",
       "      <td>tt11525700</td>\n",
       "      <td>The High School</td>\n",
       "      <td>nm11033610</td>\n",
       "      <td>Taboo Acend</td>\n",
       "      <td>1</td>\n",
       "      <td>actor</td>\n",
       "      <td>\\N</td>\n",
       "      <td>[\"Leo Hart\"]</td>\n",
       "    </tr>\n",
       "    <tr>\n",
       "      <th>3</th>\n",
       "      <td>tt11535990</td>\n",
       "      <td>Welcome to Our High School</td>\n",
       "      <td>nm11033610</td>\n",
       "      <td>Taboo Acend</td>\n",
       "      <td>1</td>\n",
       "      <td>actor</td>\n",
       "      <td>\\N</td>\n",
       "      <td>[\"Leo Hart\"]</td>\n",
       "    </tr>\n",
       "    <tr>\n",
       "      <th>4</th>\n",
       "      <td>tt11565178</td>\n",
       "      <td>Voting for School Captain</td>\n",
       "      <td>nm11033610</td>\n",
       "      <td>Taboo Acend</td>\n",
       "      <td>1</td>\n",
       "      <td>actor</td>\n",
       "      <td>\\N</td>\n",
       "      <td>[\"Leo Hart\"]</td>\n",
       "    </tr>\n",
       "    <tr>\n",
       "      <th>5</th>\n",
       "      <td>tt11664394</td>\n",
       "      <td>Year 12 Excursion</td>\n",
       "      <td>nm11033610</td>\n",
       "      <td>Taboo Acend</td>\n",
       "      <td>1</td>\n",
       "      <td>actor</td>\n",
       "      <td>\\N</td>\n",
       "      <td>[\"Leo Hart\"]</td>\n",
       "    </tr>\n",
       "    <tr>\n",
       "      <th>6</th>\n",
       "      <td>tt11670080</td>\n",
       "      <td>Honey</td>\n",
       "      <td>nm11033610</td>\n",
       "      <td>Taboo Acend</td>\n",
       "      <td>1</td>\n",
       "      <td>actor</td>\n",
       "      <td>\\N</td>\n",
       "      <td>[\"Leo Hart\"]</td>\n",
       "    </tr>\n",
       "    <tr>\n",
       "      <th>7</th>\n",
       "      <td>tt11670112</td>\n",
       "      <td>March March</td>\n",
       "      <td>nm11033610</td>\n",
       "      <td>Taboo Acend</td>\n",
       "      <td>1</td>\n",
       "      <td>actor</td>\n",
       "      <td>\\N</td>\n",
       "      <td>[\"Leo Hart\"]</td>\n",
       "    </tr>\n",
       "    <tr>\n",
       "      <th>8</th>\n",
       "      <td>tt11754918</td>\n",
       "      <td>School Musical Auditions</td>\n",
       "      <td>nm11033610</td>\n",
       "      <td>Taboo Acend</td>\n",
       "      <td>1</td>\n",
       "      <td>actor</td>\n",
       "      <td>\\N</td>\n",
       "      <td>[\"Leo Hart\"]</td>\n",
       "    </tr>\n",
       "    <tr>\n",
       "      <th>9</th>\n",
       "      <td>tt11809986</td>\n",
       "      <td>The Gay Debate</td>\n",
       "      <td>nm11033610</td>\n",
       "      <td>Taboo Acend</td>\n",
       "      <td>1</td>\n",
       "      <td>actor</td>\n",
       "      <td>\\N</td>\n",
       "      <td>[\"Leo Hart\"]</td>\n",
       "    </tr>\n",
       "    <tr>\n",
       "      <th>10</th>\n",
       "      <td>tt11809994</td>\n",
       "      <td>Sex Ed Week</td>\n",
       "      <td>nm11033610</td>\n",
       "      <td>Taboo Acend</td>\n",
       "      <td>1</td>\n",
       "      <td>actor</td>\n",
       "      <td>\\N</td>\n",
       "      <td>[\"Leo Hart\"]</td>\n",
       "    </tr>\n",
       "  </tbody>\n",
       "</table>\n",
       "</div>"
      ],
      "text/plain": [
       "        tconst                primaryTitle      nconst  primaryName  ordering  \\\n",
       "0   tt11448574                  Death Life  nm11033610  Taboo Acend         2   \n",
       "1   tt11448574                  Death Life  nm11033610  Taboo Acend         5   \n",
       "2   tt11525700             The High School  nm11033610  Taboo Acend         1   \n",
       "3   tt11535990  Welcome to Our High School  nm11033610  Taboo Acend         1   \n",
       "4   tt11565178   Voting for School Captain  nm11033610  Taboo Acend         1   \n",
       "5   tt11664394           Year 12 Excursion  nm11033610  Taboo Acend         1   \n",
       "6   tt11670080                       Honey  nm11033610  Taboo Acend         1   \n",
       "7   tt11670112                 March March  nm11033610  Taboo Acend         1   \n",
       "8   tt11754918    School Musical Auditions  nm11033610  Taboo Acend         1   \n",
       "9   tt11809986              The Gay Debate  nm11033610  Taboo Acend         1   \n",
       "10  tt11809994                 Sex Ed Week  nm11033610  Taboo Acend         1   \n",
       "\n",
       "   category job    characters  \n",
       "0     actor  \\N      [\"Carl\"]  \n",
       "1     actor  \\N      [\"Jack\"]  \n",
       "2     actor  \\N  [\"Leo Hart\"]  \n",
       "3     actor  \\N  [\"Leo Hart\"]  \n",
       "4     actor  \\N  [\"Leo Hart\"]  \n",
       "5     actor  \\N  [\"Leo Hart\"]  \n",
       "6     actor  \\N  [\"Leo Hart\"]  \n",
       "7     actor  \\N  [\"Leo Hart\"]  \n",
       "8     actor  \\N  [\"Leo Hart\"]  \n",
       "9     actor  \\N  [\"Leo Hart\"]  \n",
       "10    actor  \\N  [\"Leo Hart\"]  "
      ]
     },
     "execution_count": 100,
     "metadata": {},
     "output_type": "execute_result"
    }
   ],
   "source": [
    "%%bigquery\n",
    "SELECT * FROM datamart.TitlePrincipals WHERE nconst = \"nm11033610\" ORDER BY tconst"
   ]
  },
  {
   "cell_type": "code",
   "execution_count": 101,
   "id": "worthy-hardwood",
   "metadata": {},
   "outputs": [
    {
     "data": {
      "text/html": [
       "<div>\n",
       "<style scoped>\n",
       "    .dataframe tbody tr th:only-of-type {\n",
       "        vertical-align: middle;\n",
       "    }\n",
       "\n",
       "    .dataframe tbody tr th {\n",
       "        vertical-align: top;\n",
       "    }\n",
       "\n",
       "    .dataframe thead th {\n",
       "        text-align: right;\n",
       "    }\n",
       "</style>\n",
       "<table border=\"1\" class=\"dataframe\">\n",
       "  <thead>\n",
       "    <tr style=\"text-align: right;\">\n",
       "      <th></th>\n",
       "    </tr>\n",
       "  </thead>\n",
       "  <tbody>\n",
       "  </tbody>\n",
       "</table>\n",
       "</div>"
      ],
      "text/plain": [
       "Empty DataFrame\n",
       "Columns: []\n",
       "Index: []"
      ]
     },
     "execution_count": 101,
     "metadata": {},
     "output_type": "execute_result"
    }
   ],
   "source": [
    "%%bigquery\n",
    "DELETE FROM datamart.TitlePrincipals WHERE tconst = \"tt11448574\" AND nconst = \"nm11033610\" AND ordering = 5"
   ]
  },
  {
   "cell_type": "markdown",
   "id": "intimate-logic",
   "metadata": {},
   "source": [
    "**Check to see if any duplicates remain**"
   ]
  },
  {
   "cell_type": "code",
   "execution_count": 105,
   "id": "responsible-attention",
   "metadata": {},
   "outputs": [
    {
     "data": {
      "text/html": [
       "<div>\n",
       "<style scoped>\n",
       "    .dataframe tbody tr th:only-of-type {\n",
       "        vertical-align: middle;\n",
       "    }\n",
       "\n",
       "    .dataframe tbody tr th {\n",
       "        vertical-align: top;\n",
       "    }\n",
       "\n",
       "    .dataframe thead th {\n",
       "        text-align: right;\n",
       "    }\n",
       "</style>\n",
       "<table border=\"1\" class=\"dataframe\">\n",
       "  <thead>\n",
       "    <tr style=\"text-align: right;\">\n",
       "      <th></th>\n",
       "      <th>tconst</th>\n",
       "      <th>nconst</th>\n",
       "    </tr>\n",
       "  </thead>\n",
       "  <tbody>\n",
       "  </tbody>\n",
       "</table>\n",
       "</div>"
      ],
      "text/plain": [
       "Empty DataFrame\n",
       "Columns: [tconst, nconst]\n",
       "Index: []"
      ]
     },
     "execution_count": 105,
     "metadata": {},
     "output_type": "execute_result"
    }
   ],
   "source": [
    "%%bigquery\n",
    "SELECT tconst, nconst FROM datamart.TitlePrincipals GROUP BY tconst,nconst HAVING count(*) > 1 ORDER BY tconst"
   ]
  },
  {
   "cell_type": "markdown",
   "id": "subject-latino",
   "metadata": {},
   "source": [
    "## Add in Bollywood data"
   ]
  },
  {
   "cell_type": "markdown",
   "id": "identified-point",
   "metadata": {},
   "source": [
    "**These tables will be unable to be added into our main title/name tables until we are able to use apache to create new IDs for them in phase 3**"
   ]
  },
  {
   "cell_type": "code",
   "execution_count": 17,
   "id": "strong-result",
   "metadata": {},
   "outputs": [
    {
     "data": {
      "text/html": [
       "<div>\n",
       "<style scoped>\n",
       "    .dataframe tbody tr th:only-of-type {\n",
       "        vertical-align: middle;\n",
       "    }\n",
       "\n",
       "    .dataframe tbody tr th {\n",
       "        vertical-align: top;\n",
       "    }\n",
       "\n",
       "    .dataframe thead th {\n",
       "        text-align: right;\n",
       "    }\n",
       "</style>\n",
       "<table border=\"1\" class=\"dataframe\">\n",
       "  <thead>\n",
       "    <tr style=\"text-align: right;\">\n",
       "      <th></th>\n",
       "    </tr>\n",
       "  </thead>\n",
       "  <tbody>\n",
       "  </tbody>\n",
       "</table>\n",
       "</div>"
      ],
      "text/plain": [
       "Empty DataFrame\n",
       "Columns: []\n",
       "Index: []"
      ]
     },
     "execution_count": 17,
     "metadata": {},
     "output_type": "execute_result"
    }
   ],
   "source": [
    "%%bigquery\n",
    "CREATE TABLE datamart.BollywoodActors AS\n",
    "SELECT Name, Height_in_cm_ \n",
    "FROM bollywood_staging.Actors"
   ]
  },
  {
   "cell_type": "code",
   "execution_count": 18,
   "id": "charged-planet",
   "metadata": {},
   "outputs": [
    {
     "data": {
      "text/html": [
       "<div>\n",
       "<style scoped>\n",
       "    .dataframe tbody tr th:only-of-type {\n",
       "        vertical-align: middle;\n",
       "    }\n",
       "\n",
       "    .dataframe tbody tr th {\n",
       "        vertical-align: top;\n",
       "    }\n",
       "\n",
       "    .dataframe thead th {\n",
       "        text-align: right;\n",
       "    }\n",
       "</style>\n",
       "<table border=\"1\" class=\"dataframe\">\n",
       "  <thead>\n",
       "    <tr style=\"text-align: right;\">\n",
       "      <th></th>\n",
       "    </tr>\n",
       "  </thead>\n",
       "  <tbody>\n",
       "  </tbody>\n",
       "</table>\n",
       "</div>"
      ],
      "text/plain": [
       "Empty DataFrame\n",
       "Columns: []\n",
       "Index: []"
      ]
     },
     "execution_count": 18,
     "metadata": {},
     "output_type": "execute_result"
    }
   ],
   "source": [
    "%%bigquery\n",
    "CREATE TABLE datamart.BollywoodActresses AS\n",
    "SELECT Name, Height_in_cm_, Debut_aslead_role\n",
    "FROM bollywood_staging.Actress"
   ]
  },
  {
   "cell_type": "code",
   "execution_count": 134,
   "id": "ancient-dining",
   "metadata": {},
   "outputs": [
    {
     "data": {
      "text/html": [
       "<div>\n",
       "<style scoped>\n",
       "    .dataframe tbody tr th:only-of-type {\n",
       "        vertical-align: middle;\n",
       "    }\n",
       "\n",
       "    .dataframe tbody tr th {\n",
       "        vertical-align: top;\n",
       "    }\n",
       "\n",
       "    .dataframe thead th {\n",
       "        text-align: right;\n",
       "    }\n",
       "</style>\n",
       "<table border=\"1\" class=\"dataframe\">\n",
       "  <thead>\n",
       "    <tr style=\"text-align: right;\">\n",
       "      <th></th>\n",
       "    </tr>\n",
       "  </thead>\n",
       "  <tbody>\n",
       "  </tbody>\n",
       "</table>\n",
       "</div>"
      ],
      "text/plain": [
       "Empty DataFrame\n",
       "Columns: []\n",
       "Index: []"
      ]
     },
     "execution_count": 134,
     "metadata": {},
     "output_type": "execute_result"
    }
   ],
   "source": [
    "%%bigquery\n",
    "CREATE TABLE datamart.BollywoodTitle AS\n",
    "SELECT *\n",
    "FROM bollywood_staging.Bollywood"
   ]
  },
  {
   "cell_type": "markdown",
   "id": "aerial-finish",
   "metadata": {},
   "source": [
    "**delete the Highest_Grosser_By_Year_in_crores_ attribute in the BollywoodTitle table because it is 100% NULL**"
   ]
  },
  {
   "cell_type": "code",
   "execution_count": 135,
   "id": "nonprofit-decimal",
   "metadata": {},
   "outputs": [
    {
     "data": {
      "text/html": [
       "<div>\n",
       "<style scoped>\n",
       "    .dataframe tbody tr th:only-of-type {\n",
       "        vertical-align: middle;\n",
       "    }\n",
       "\n",
       "    .dataframe tbody tr th {\n",
       "        vertical-align: top;\n",
       "    }\n",
       "\n",
       "    .dataframe thead th {\n",
       "        text-align: right;\n",
       "    }\n",
       "</style>\n",
       "<table border=\"1\" class=\"dataframe\">\n",
       "  <thead>\n",
       "    <tr style=\"text-align: right;\">\n",
       "      <th></th>\n",
       "    </tr>\n",
       "  </thead>\n",
       "  <tbody>\n",
       "  </tbody>\n",
       "</table>\n",
       "</div>"
      ],
      "text/plain": [
       "Empty DataFrame\n",
       "Columns: []\n",
       "Index: []"
      ]
     },
     "execution_count": 135,
     "metadata": {},
     "output_type": "execute_result"
    }
   ],
   "source": [
    "%%bigquery\n",
    "ALTER TABLE datamart.BollywoodTitle\n",
    "DROP COLUMN Highest_Grosser_By_Year_in_crores_"
   ]
  },
  {
   "cell_type": "markdown",
   "id": "rental-liabilities",
   "metadata": {},
   "source": [
    "**check**"
   ]
  },
  {
   "cell_type": "code",
   "execution_count": 25,
   "id": "minimal-sphere",
   "metadata": {},
   "outputs": [
    {
     "data": {
      "text/html": [
       "<div>\n",
       "<style scoped>\n",
       "    .dataframe tbody tr th:only-of-type {\n",
       "        vertical-align: middle;\n",
       "    }\n",
       "\n",
       "    .dataframe tbody tr th {\n",
       "        vertical-align: top;\n",
       "    }\n",
       "\n",
       "    .dataframe thead th {\n",
       "        text-align: right;\n",
       "    }\n",
       "</style>\n",
       "<table border=\"1\" class=\"dataframe\">\n",
       "  <thead>\n",
       "    <tr style=\"text-align: right;\">\n",
       "      <th></th>\n",
       "      <th>Name</th>\n",
       "      <th>Height_in_cm_</th>\n",
       "      <th>Debut_aslead_role</th>\n",
       "    </tr>\n",
       "  </thead>\n",
       "  <tbody>\n",
       "    <tr>\n",
       "      <th>0</th>\n",
       "      <td>Tanuja Samarth</td>\n",
       "      <td>152</td>\n",
       "      <td>Hamari Yaad Aayegi</td>\n",
       "    </tr>\n",
       "    <tr>\n",
       "      <th>1</th>\n",
       "      <td>Ameesha Patel</td>\n",
       "      <td>152</td>\n",
       "      <td>Kaho Naa... Pyaar Hai</td>\n",
       "    </tr>\n",
       "    <tr>\n",
       "      <th>2</th>\n",
       "      <td>Soha Ali Khan</td>\n",
       "      <td>152</td>\n",
       "      <td>Rang De Basanti</td>\n",
       "    </tr>\n",
       "    <tr>\n",
       "      <th>3</th>\n",
       "      <td>Farida Jalal</td>\n",
       "      <td>155</td>\n",
       "      <td>Laal Patthar</td>\n",
       "    </tr>\n",
       "    <tr>\n",
       "      <th>4</th>\n",
       "      <td>Waheeda Rehman</td>\n",
       "      <td>155</td>\n",
       "      <td>Pyaasa</td>\n",
       "    </tr>\n",
       "  </tbody>\n",
       "</table>\n",
       "</div>"
      ],
      "text/plain": [
       "             Name  Height_in_cm_      Debut_aslead_role\n",
       "0  Tanuja Samarth            152     Hamari Yaad Aayegi\n",
       "1   Ameesha Patel            152  Kaho Naa... Pyaar Hai\n",
       "2   Soha Ali Khan            152        Rang De Basanti\n",
       "3    Farida Jalal            155           Laal Patthar\n",
       "4  Waheeda Rehman            155                 Pyaasa"
      ]
     },
     "execution_count": 25,
     "metadata": {},
     "output_type": "execute_result"
    }
   ],
   "source": [
    "%%bigquery\n",
    "SELECT * FROM datamart.BollywoodActresses LIMIT 5"
   ]
  },
  {
   "cell_type": "markdown",
   "id": "consecutive-richmond",
   "metadata": {},
   "source": [
    "**In its current state, the primary key of this table is Name. Check for any duplicates**"
   ]
  },
  {
   "cell_type": "code",
   "execution_count": 108,
   "id": "ceramic-appeal",
   "metadata": {},
   "outputs": [
    {
     "data": {
      "text/html": [
       "<div>\n",
       "<style scoped>\n",
       "    .dataframe tbody tr th:only-of-type {\n",
       "        vertical-align: middle;\n",
       "    }\n",
       "\n",
       "    .dataframe tbody tr th {\n",
       "        vertical-align: top;\n",
       "    }\n",
       "\n",
       "    .dataframe thead th {\n",
       "        text-align: right;\n",
       "    }\n",
       "</style>\n",
       "<table border=\"1\" class=\"dataframe\">\n",
       "  <thead>\n",
       "    <tr style=\"text-align: right;\">\n",
       "      <th></th>\n",
       "      <th>record_count</th>\n",
       "    </tr>\n",
       "  </thead>\n",
       "  <tbody>\n",
       "  </tbody>\n",
       "</table>\n",
       "</div>"
      ],
      "text/plain": [
       "Empty DataFrame\n",
       "Columns: [record_count]\n",
       "Index: []"
      ]
     },
     "execution_count": 108,
     "metadata": {},
     "output_type": "execute_result"
    }
   ],
   "source": [
    "%%bigquery\n",
    "SELECT count(*) as record_count FROM datamart.BollywoodActresses GROUP BY Name HAVING count(*) > 1 ORDER BY Name"
   ]
  },
  {
   "cell_type": "code",
   "execution_count": 26,
   "id": "bound-cinema",
   "metadata": {},
   "outputs": [
    {
     "data": {
      "text/html": [
       "<div>\n",
       "<style scoped>\n",
       "    .dataframe tbody tr th:only-of-type {\n",
       "        vertical-align: middle;\n",
       "    }\n",
       "\n",
       "    .dataframe tbody tr th {\n",
       "        vertical-align: top;\n",
       "    }\n",
       "\n",
       "    .dataframe thead th {\n",
       "        text-align: right;\n",
       "    }\n",
       "</style>\n",
       "<table border=\"1\" class=\"dataframe\">\n",
       "  <thead>\n",
       "    <tr style=\"text-align: right;\">\n",
       "      <th></th>\n",
       "      <th>Name</th>\n",
       "      <th>Height_in_cm_</th>\n",
       "    </tr>\n",
       "  </thead>\n",
       "  <tbody>\n",
       "    <tr>\n",
       "      <th>0</th>\n",
       "      <td>Aamir Khan</td>\n",
       "      <td>163</td>\n",
       "    </tr>\n",
       "    <tr>\n",
       "      <th>1</th>\n",
       "      <td>Himesh Reshamiya</td>\n",
       "      <td>163</td>\n",
       "    </tr>\n",
       "    <tr>\n",
       "      <th>2</th>\n",
       "      <td>Kamal Haasan</td>\n",
       "      <td>165</td>\n",
       "    </tr>\n",
       "    <tr>\n",
       "      <th>3</th>\n",
       "      <td>Kunal Khemu</td>\n",
       "      <td>166</td>\n",
       "    </tr>\n",
       "    <tr>\n",
       "      <th>4</th>\n",
       "      <td>Shahid Kapoor</td>\n",
       "      <td>167</td>\n",
       "    </tr>\n",
       "  </tbody>\n",
       "</table>\n",
       "</div>"
      ],
      "text/plain": [
       "               Name  Height_in_cm_\n",
       "0        Aamir Khan            163\n",
       "1  Himesh Reshamiya            163\n",
       "2      Kamal Haasan            165\n",
       "3       Kunal Khemu            166\n",
       "4     Shahid Kapoor            167"
      ]
     },
     "execution_count": 26,
     "metadata": {},
     "output_type": "execute_result"
    }
   ],
   "source": [
    "%%bigquery\n",
    "SELECT * FROM datamart.BollywoodActors LIMIT 5"
   ]
  },
  {
   "cell_type": "markdown",
   "id": "restricted-unemployment",
   "metadata": {},
   "source": [
    "**In its current state, the primary key of this table is Name. Check for any duplicates**"
   ]
  },
  {
   "cell_type": "code",
   "execution_count": 136,
   "id": "lightweight-filing",
   "metadata": {},
   "outputs": [
    {
     "data": {
      "text/html": [
       "<div>\n",
       "<style scoped>\n",
       "    .dataframe tbody tr th:only-of-type {\n",
       "        vertical-align: middle;\n",
       "    }\n",
       "\n",
       "    .dataframe tbody tr th {\n",
       "        vertical-align: top;\n",
       "    }\n",
       "\n",
       "    .dataframe thead th {\n",
       "        text-align: right;\n",
       "    }\n",
       "</style>\n",
       "<table border=\"1\" class=\"dataframe\">\n",
       "  <thead>\n",
       "    <tr style=\"text-align: right;\">\n",
       "      <th></th>\n",
       "      <th>record_count</th>\n",
       "    </tr>\n",
       "  </thead>\n",
       "  <tbody>\n",
       "  </tbody>\n",
       "</table>\n",
       "</div>"
      ],
      "text/plain": [
       "Empty DataFrame\n",
       "Columns: [record_count]\n",
       "Index: []"
      ]
     },
     "execution_count": 136,
     "metadata": {},
     "output_type": "execute_result"
    }
   ],
   "source": [
    "%%bigquery\n",
    "SELECT count(*) as record_count FROM datamart.BollywoodActors GROUP BY Name HAVING count(*) > 1 ORDER BY Name"
   ]
  },
  {
   "cell_type": "code",
   "execution_count": 29,
   "id": "amended-radius",
   "metadata": {},
   "outputs": [
    {
     "data": {
      "text/html": [
       "<div>\n",
       "<style scoped>\n",
       "    .dataframe tbody tr th:only-of-type {\n",
       "        vertical-align: middle;\n",
       "    }\n",
       "\n",
       "    .dataframe tbody tr th {\n",
       "        vertical-align: top;\n",
       "    }\n",
       "\n",
       "    .dataframe thead th {\n",
       "        text-align: right;\n",
       "    }\n",
       "</style>\n",
       "<table border=\"1\" class=\"dataframe\">\n",
       "  <thead>\n",
       "    <tr style=\"text-align: right;\">\n",
       "      <th></th>\n",
       "      <th>Year</th>\n",
       "      <th>Title</th>\n",
       "      <th>Director</th>\n",
       "      <th>Cast</th>\n",
       "      <th>Genre</th>\n",
       "      <th>Release_Month</th>\n",
       "      <th>Release_Date</th>\n",
       "    </tr>\n",
       "  </thead>\n",
       "  <tbody>\n",
       "    <tr>\n",
       "      <th>0</th>\n",
       "      <td>1920</td>\n",
       "      <td>Shakuntala</td>\n",
       "      <td>Shree Nath Patankar</td>\n",
       "      <td>unknown</td>\n",
       "      <td>mythology,drama</td>\n",
       "      <td>None</td>\n",
       "      <td>NaN</td>\n",
       "    </tr>\n",
       "    <tr>\n",
       "      <th>1</th>\n",
       "      <td>1921</td>\n",
       "      <td>Belgian Emperor's Visit To India</td>\n",
       "      <td>Nitin Bose</td>\n",
       "      <td>unknown</td>\n",
       "      <td>documentary</td>\n",
       "      <td>None</td>\n",
       "      <td>NaN</td>\n",
       "    </tr>\n",
       "    <tr>\n",
       "      <th>2</th>\n",
       "      <td>1921</td>\n",
       "      <td>King Gopichand a.k.a. Gopichand</td>\n",
       "      <td>Vishnupant Divekar</td>\n",
       "      <td>mama,koregaonkar,hira,bhatt</td>\n",
       "      <td>legend</td>\n",
       "      <td>None</td>\n",
       "      <td>NaN</td>\n",
       "    </tr>\n",
       "    <tr>\n",
       "      <th>3</th>\n",
       "      <td>1921</td>\n",
       "      <td>Bilet Pherat a.k.a. England Returned</td>\n",
       "      <td>Dhirendranath Ganguly</td>\n",
       "      <td>dhirendranath,chakraborty,sushilabala,kunjalal...</td>\n",
       "      <td>social,comedy</td>\n",
       "      <td>None</td>\n",
       "      <td>NaN</td>\n",
       "    </tr>\n",
       "    <tr>\n",
       "      <th>4</th>\n",
       "      <td>1922</td>\n",
       "      <td>Sharmista Devyani</td>\n",
       "      <td>Unknown</td>\n",
       "      <td>unknown</td>\n",
       "      <td>drama,puranic</td>\n",
       "      <td>None</td>\n",
       "      <td>NaN</td>\n",
       "    </tr>\n",
       "  </tbody>\n",
       "</table>\n",
       "</div>"
      ],
      "text/plain": [
       "   Year                                 Title               Director  \\\n",
       "0  1920                            Shakuntala    Shree Nath Patankar   \n",
       "1  1921      Belgian Emperor's Visit To India             Nitin Bose   \n",
       "2  1921       King Gopichand a.k.a. Gopichand     Vishnupant Divekar   \n",
       "3  1921  Bilet Pherat a.k.a. England Returned  Dhirendranath Ganguly   \n",
       "4  1922                     Sharmista Devyani                Unknown   \n",
       "\n",
       "                                                Cast            Genre  \\\n",
       "0                                            unknown  mythology,drama   \n",
       "1                                            unknown      documentary   \n",
       "2                        mama,koregaonkar,hira,bhatt           legend   \n",
       "3  dhirendranath,chakraborty,sushilabala,kunjalal...    social,comedy   \n",
       "4                                            unknown    drama,puranic   \n",
       "\n",
       "  Release_Month  Release_Date  \n",
       "0          None           NaN  \n",
       "1          None           NaN  \n",
       "2          None           NaN  \n",
       "3          None           NaN  \n",
       "4          None           NaN  "
      ]
     },
     "execution_count": 29,
     "metadata": {},
     "output_type": "execute_result"
    }
   ],
   "source": [
    "%%bigquery\n",
    "SELECT * FROM datamart.BollywoodTitle LIMIT 5"
   ]
  },
  {
   "cell_type": "markdown",
   "id": "outer-decade",
   "metadata": {},
   "source": [
    "**In its current state, the primary key of this table is combination of Title, Director, and Year. Check for any duplicates**"
   ]
  },
  {
   "cell_type": "code",
   "execution_count": 137,
   "id": "changed-visibility",
   "metadata": {},
   "outputs": [
    {
     "data": {
      "text/html": [
       "<div>\n",
       "<style scoped>\n",
       "    .dataframe tbody tr th:only-of-type {\n",
       "        vertical-align: middle;\n",
       "    }\n",
       "\n",
       "    .dataframe tbody tr th {\n",
       "        vertical-align: top;\n",
       "    }\n",
       "\n",
       "    .dataframe thead th {\n",
       "        text-align: right;\n",
       "    }\n",
       "</style>\n",
       "<table border=\"1\" class=\"dataframe\">\n",
       "  <thead>\n",
       "    <tr style=\"text-align: right;\">\n",
       "      <th></th>\n",
       "      <th>Title</th>\n",
       "    </tr>\n",
       "  </thead>\n",
       "  <tbody>\n",
       "    <tr>\n",
       "      <th>0</th>\n",
       "      <td>Rog</td>\n",
       "    </tr>\n",
       "  </tbody>\n",
       "</table>\n",
       "</div>"
      ],
      "text/plain": [
       "  Title\n",
       "0   Rog"
      ]
     },
     "execution_count": 137,
     "metadata": {},
     "output_type": "execute_result"
    }
   ],
   "source": [
    "%%bigquery\n",
    "SELECT Title FROM datamart.BollywoodTitle GROUP BY Title, Year, Director HAVING count(*) > 1 ORDER BY Title"
   ]
  },
  {
   "cell_type": "code",
   "execution_count": 138,
   "id": "needed-requirement",
   "metadata": {},
   "outputs": [
    {
     "data": {
      "text/html": [
       "<div>\n",
       "<style scoped>\n",
       "    .dataframe tbody tr th:only-of-type {\n",
       "        vertical-align: middle;\n",
       "    }\n",
       "\n",
       "    .dataframe tbody tr th {\n",
       "        vertical-align: top;\n",
       "    }\n",
       "\n",
       "    .dataframe thead th {\n",
       "        text-align: right;\n",
       "    }\n",
       "</style>\n",
       "<table border=\"1\" class=\"dataframe\">\n",
       "  <thead>\n",
       "    <tr style=\"text-align: right;\">\n",
       "      <th></th>\n",
       "      <th>Year</th>\n",
       "      <th>Title</th>\n",
       "      <th>Director</th>\n",
       "      <th>Cast</th>\n",
       "      <th>Genre</th>\n",
       "      <th>Release_Month</th>\n",
       "      <th>Release_Date</th>\n",
       "    </tr>\n",
       "  </thead>\n",
       "  <tbody>\n",
       "    <tr>\n",
       "      <th>0</th>\n",
       "      <td>2005</td>\n",
       "      <td>Rog</td>\n",
       "      <td>Himanshu Brahmbhatt</td>\n",
       "      <td>khan,irrfan,malik,himanshu,ilene,hamann</td>\n",
       "      <td>drama,thriller</td>\n",
       "      <td>None</td>\n",
       "      <td>NaN</td>\n",
       "    </tr>\n",
       "    <tr>\n",
       "      <th>1</th>\n",
       "      <td>2005</td>\n",
       "      <td>Rog</td>\n",
       "      <td>Himanshu Brahmbhatt</td>\n",
       "      <td>unknown</td>\n",
       "      <td>drama,thriller</td>\n",
       "      <td>None</td>\n",
       "      <td>NaN</td>\n",
       "    </tr>\n",
       "  </tbody>\n",
       "</table>\n",
       "</div>"
      ],
      "text/plain": [
       "   Year Title             Director                                     Cast  \\\n",
       "0  2005   Rog  Himanshu Brahmbhatt  khan,irrfan,malik,himanshu,ilene,hamann   \n",
       "1  2005   Rog  Himanshu Brahmbhatt                                  unknown   \n",
       "\n",
       "            Genre Release_Month  Release_Date  \n",
       "0  drama,thriller          None           NaN  \n",
       "1  drama,thriller          None           NaN  "
      ]
     },
     "execution_count": 138,
     "metadata": {},
     "output_type": "execute_result"
    }
   ],
   "source": [
    "%%bigquery\n",
    "SELECT * FROM datamart.BollywoodTitle WHERE Title = \"Rog\""
   ]
  },
  {
   "cell_type": "markdown",
   "id": "spiritual-operator",
   "metadata": {},
   "source": [
    "**Delete the duplicate that has less information on Cast**"
   ]
  },
  {
   "cell_type": "code",
   "execution_count": 1,
   "id": "above-morrison",
   "metadata": {},
   "outputs": [
    {
     "name": "stdout",
     "output_type": "stream",
     "text": [
      "Executing query with job ID: 0fb66391-9339-4b23-b071-70db29dfa850\n",
      "Query executing: 0.96s"
     ]
    },
    {
     "name": "stderr",
     "output_type": "stream",
     "text": [
      "\n",
      "ERROR:\n",
      " 400 Syntax error: Expected \"(\" but got \"=\" at [1:66]\n",
      "\n",
      "(job ID: 0fb66391-9339-4b23-b071-70db29dfa850)\n",
      "\n",
      "                                  -----Query Job SQL Follows-----                                  \n",
      "\n",
      "    |    .    |    .    |    .    |    .    |    .    |    .    |    .    |    .    |    .    |\n",
      "   1:DELETE FROM datamart.BollywoodTitle WHERE Title = \"Rog\" AND Cast = \"unknown\" AND Year = \"2005\"\n",
      "    |    .    |    .    |    .    |    .    |    .    |    .    |    .    |    .    |    .    |\n"
     ]
    }
   ],
   "source": [
    "%%bigquery\n",
    "DELETE FROM datamart.BollywoodTitle WHERE Title = \"Rog\" AND Cast = \"unknown\" AND Year = \"2005\""
   ]
  },
  {
   "cell_type": "markdown",
   "id": "assumed-greece",
   "metadata": {},
   "source": [
    "**We tried to delete the duplicate but we are getting this error for some reason. We will try to fix this in Phase 3**"
   ]
  },
  {
   "cell_type": "markdown",
   "id": "imposed-illinois",
   "metadata": {},
   "source": [
    "## Write Queries"
   ]
  },
  {
   "cell_type": "markdown",
   "id": "checked-albania",
   "metadata": {},
   "source": [
    "**Get the highest rated film with the highest number of votes for each collection of genres, order by the votes in descending order**"
   ]
  },
  {
   "cell_type": "code",
   "execution_count": 153,
   "id": "based-diagram",
   "metadata": {},
   "outputs": [
    {
     "data": {
      "text/html": [
       "<div>\n",
       "<style scoped>\n",
       "    .dataframe tbody tr th:only-of-type {\n",
       "        vertical-align: middle;\n",
       "    }\n",
       "\n",
       "    .dataframe tbody tr th {\n",
       "        vertical-align: top;\n",
       "    }\n",
       "\n",
       "    .dataframe thead th {\n",
       "        text-align: right;\n",
       "    }\n",
       "</style>\n",
       "<table border=\"1\" class=\"dataframe\">\n",
       "  <thead>\n",
       "    <tr style=\"text-align: right;\">\n",
       "      <th></th>\n",
       "      <th>primaryTitle</th>\n",
       "      <th>genres</th>\n",
       "      <th>averageRating</th>\n",
       "      <th>numVotes</th>\n",
       "    </tr>\n",
       "  </thead>\n",
       "  <tbody>\n",
       "    <tr>\n",
       "      <th>0</th>\n",
       "      <td>Inglourious Basterds</td>\n",
       "      <td>Adventure,Drama,War</td>\n",
       "      <td>8.3</td>\n",
       "      <td>1287439</td>\n",
       "    </tr>\n",
       "    <tr>\n",
       "      <th>1</th>\n",
       "      <td>The Big Lebowski</td>\n",
       "      <td>Comedy,Crime,Sport</td>\n",
       "      <td>8.1</td>\n",
       "      <td>740570</td>\n",
       "    </tr>\n",
       "    <tr>\n",
       "      <th>2</th>\n",
       "      <td>Vertigo</td>\n",
       "      <td>Mystery,Romance,Thriller</td>\n",
       "      <td>8.3</td>\n",
       "      <td>369005</td>\n",
       "    </tr>\n",
       "    <tr>\n",
       "      <th>3</th>\n",
       "      <td>Grave of the Fireflies</td>\n",
       "      <td>Animation,Drama,War</td>\n",
       "      <td>8.5</td>\n",
       "      <td>240211</td>\n",
       "    </tr>\n",
       "    <tr>\n",
       "      <th>4</th>\n",
       "      <td>Sunset Blvd.</td>\n",
       "      <td>Drama,Film-Noir</td>\n",
       "      <td>8.4</td>\n",
       "      <td>204110</td>\n",
       "    </tr>\n",
       "    <tr>\n",
       "      <th>5</th>\n",
       "      <td>The Third Man</td>\n",
       "      <td>Film-Noir,Mystery,Thriller</td>\n",
       "      <td>8.1</td>\n",
       "      <td>160523</td>\n",
       "    </tr>\n",
       "    <tr>\n",
       "      <th>6</th>\n",
       "      <td>The Maltese Falcon</td>\n",
       "      <td>Crime,Film-Noir,Mystery</td>\n",
       "      <td>8.0</td>\n",
       "      <td>150049</td>\n",
       "    </tr>\n",
       "    <tr>\n",
       "      <th>7</th>\n",
       "      <td>Double Indemnity</td>\n",
       "      <td>Crime,Drama,Film-Noir</td>\n",
       "      <td>8.3</td>\n",
       "      <td>145328</td>\n",
       "    </tr>\n",
       "    <tr>\n",
       "      <th>8</th>\n",
       "      <td>Lagaan: Once Upon a Time in India</td>\n",
       "      <td>Drama,Musical,Sport</td>\n",
       "      <td>8.1</td>\n",
       "      <td>105953</td>\n",
       "    </tr>\n",
       "    <tr>\n",
       "      <th>9</th>\n",
       "      <td>Notorious</td>\n",
       "      <td>Drama,Film-Noir,Romance</td>\n",
       "      <td>7.9</td>\n",
       "      <td>93094</td>\n",
       "    </tr>\n",
       "  </tbody>\n",
       "</table>\n",
       "</div>"
      ],
      "text/plain": [
       "                        primaryTitle                      genres  \\\n",
       "0               Inglourious Basterds         Adventure,Drama,War   \n",
       "1                   The Big Lebowski          Comedy,Crime,Sport   \n",
       "2                            Vertigo    Mystery,Romance,Thriller   \n",
       "3             Grave of the Fireflies         Animation,Drama,War   \n",
       "4                       Sunset Blvd.             Drama,Film-Noir   \n",
       "5                      The Third Man  Film-Noir,Mystery,Thriller   \n",
       "6                 The Maltese Falcon     Crime,Film-Noir,Mystery   \n",
       "7                   Double Indemnity       Crime,Drama,Film-Noir   \n",
       "8  Lagaan: Once Upon a Time in India         Drama,Musical,Sport   \n",
       "9                          Notorious     Drama,Film-Noir,Romance   \n",
       "\n",
       "   averageRating  numVotes  \n",
       "0            8.3   1287439  \n",
       "1            8.1    740570  \n",
       "2            8.3    369005  \n",
       "3            8.5    240211  \n",
       "4            8.4    204110  \n",
       "5            8.1    160523  \n",
       "6            8.0    150049  \n",
       "7            8.3    145328  \n",
       "8            8.1    105953  \n",
       "9            7.9     93094  "
      ]
     },
     "execution_count": 153,
     "metadata": {},
     "output_type": "execute_result"
    }
   ],
   "source": [
    "%%bigquery\n",
    "SELECT primaryTitle, genres, averageRating, numVotes \n",
    "FROM datamart.TitleBasics t \n",
    "WHERE averageRating = (SELECT max(averageRating) FROM datamart.TitleBasics a WHERE a.genres = t.genres) \n",
    "AND numVotes = (SELECT max(numVotes) FROM datamart.TitleBasics b WHERE b.genres = t.genres) \n",
    "ORDER BY numVotes DESC LIMIT 10"
   ]
  },
  {
   "cell_type": "markdown",
   "id": "compliant-europe",
   "metadata": {},
   "source": [
    "**Find titles in the \"Comedy,Horror\" genre which have above average ratings for the genre, order by number of votes in descending order**"
   ]
  },
  {
   "cell_type": "code",
   "execution_count": 152,
   "id": "geographic-center",
   "metadata": {},
   "outputs": [
    {
     "data": {
      "text/html": [
       "<div>\n",
       "<style scoped>\n",
       "    .dataframe tbody tr th:only-of-type {\n",
       "        vertical-align: middle;\n",
       "    }\n",
       "\n",
       "    .dataframe tbody tr th {\n",
       "        vertical-align: top;\n",
       "    }\n",
       "\n",
       "    .dataframe thead th {\n",
       "        text-align: right;\n",
       "    }\n",
       "</style>\n",
       "<table border=\"1\" class=\"dataframe\">\n",
       "  <thead>\n",
       "    <tr style=\"text-align: right;\">\n",
       "      <th></th>\n",
       "      <th>primaryTitle</th>\n",
       "      <th>averageRating</th>\n",
       "      <th>numVotes</th>\n",
       "    </tr>\n",
       "  </thead>\n",
       "  <tbody>\n",
       "    <tr>\n",
       "      <th>0</th>\n",
       "      <td>Shaun of the Dead</td>\n",
       "      <td>7.9</td>\n",
       "      <td>516784</td>\n",
       "    </tr>\n",
       "    <tr>\n",
       "      <th>1</th>\n",
       "      <td>Tucker and Dale vs Evil</td>\n",
       "      <td>7.5</td>\n",
       "      <td>166564</td>\n",
       "    </tr>\n",
       "    <tr>\n",
       "      <th>2</th>\n",
       "      <td>Army of Darkness</td>\n",
       "      <td>7.5</td>\n",
       "      <td>163921</td>\n",
       "    </tr>\n",
       "    <tr>\n",
       "      <th>3</th>\n",
       "      <td>What We Do in the Shadows</td>\n",
       "      <td>7.7</td>\n",
       "      <td>160157</td>\n",
       "    </tr>\n",
       "    <tr>\n",
       "      <th>4</th>\n",
       "      <td>Evil Dead II</td>\n",
       "      <td>7.8</td>\n",
       "      <td>149553</td>\n",
       "    </tr>\n",
       "    <tr>\n",
       "      <th>5</th>\n",
       "      <td>The Lost Boys</td>\n",
       "      <td>7.3</td>\n",
       "      <td>125707</td>\n",
       "    </tr>\n",
       "    <tr>\n",
       "      <th>6</th>\n",
       "      <td>Tremors</td>\n",
       "      <td>7.1</td>\n",
       "      <td>121812</td>\n",
       "    </tr>\n",
       "    <tr>\n",
       "      <th>7</th>\n",
       "      <td>Fright Night</td>\n",
       "      <td>6.4</td>\n",
       "      <td>100280</td>\n",
       "    </tr>\n",
       "    <tr>\n",
       "      <th>8</th>\n",
       "      <td>An American Werewolf in London</td>\n",
       "      <td>7.5</td>\n",
       "      <td>94259</td>\n",
       "    </tr>\n",
       "    <tr>\n",
       "      <th>9</th>\n",
       "      <td>Trick 'r Treat</td>\n",
       "      <td>6.8</td>\n",
       "      <td>81640</td>\n",
       "    </tr>\n",
       "  </tbody>\n",
       "</table>\n",
       "</div>"
      ],
      "text/plain": [
       "                     primaryTitle  averageRating  numVotes\n",
       "0               Shaun of the Dead            7.9    516784\n",
       "1         Tucker and Dale vs Evil            7.5    166564\n",
       "2                Army of Darkness            7.5    163921\n",
       "3       What We Do in the Shadows            7.7    160157\n",
       "4                    Evil Dead II            7.8    149553\n",
       "5                   The Lost Boys            7.3    125707\n",
       "6                         Tremors            7.1    121812\n",
       "7                    Fright Night            6.4    100280\n",
       "8  An American Werewolf in London            7.5     94259\n",
       "9                  Trick 'r Treat            6.8     81640"
      ]
     },
     "execution_count": 152,
     "metadata": {},
     "output_type": "execute_result"
    }
   ],
   "source": [
    "%%bigquery\n",
    "SELECT primaryTitle, averageRating, numVotes\n",
    "FROM datamart.TitleBasics t\n",
    "WHERE averageRating > (SELECT avg(averageRating) FROM datamart.TitleBasics a WHERE a.genres = t.genres) AND genres = \"Comedy,Horror\" ORDER BY numVotes DESC LIMIT 10"
   ]
  },
  {
   "cell_type": "markdown",
   "id": "boxed-independence",
   "metadata": {},
   "source": [
    "**Find the 5 shows with the highest amount of episodes**"
   ]
  },
  {
   "cell_type": "code",
   "execution_count": 161,
   "id": "guided-norway",
   "metadata": {},
   "outputs": [
    {
     "data": {
      "text/html": [
       "<div>\n",
       "<style scoped>\n",
       "    .dataframe tbody tr th:only-of-type {\n",
       "        vertical-align: middle;\n",
       "    }\n",
       "\n",
       "    .dataframe tbody tr th {\n",
       "        vertical-align: top;\n",
       "    }\n",
       "\n",
       "    .dataframe thead th {\n",
       "        text-align: right;\n",
       "    }\n",
       "</style>\n",
       "<table border=\"1\" class=\"dataframe\">\n",
       "  <thead>\n",
       "    <tr style=\"text-align: right;\">\n",
       "      <th></th>\n",
       "      <th>episode_count</th>\n",
       "      <th>primaryTitle</th>\n",
       "    </tr>\n",
       "  </thead>\n",
       "  <tbody>\n",
       "    <tr>\n",
       "      <th>0</th>\n",
       "      <td>14269</td>\n",
       "      <td>Days of Our Lives</td>\n",
       "    </tr>\n",
       "    <tr>\n",
       "      <th>1</th>\n",
       "      <td>12277</td>\n",
       "      <td>The Young and the Restless</td>\n",
       "    </tr>\n",
       "    <tr>\n",
       "      <th>2</th>\n",
       "      <td>10204</td>\n",
       "      <td>Coronation Street</td>\n",
       "    </tr>\n",
       "    <tr>\n",
       "      <th>3</th>\n",
       "      <td>9958</td>\n",
       "      <td>The Tonight Show Starring Johnny Carson</td>\n",
       "    </tr>\n",
       "    <tr>\n",
       "      <th>4</th>\n",
       "      <td>9858</td>\n",
       "      <td>Charlie Rose</td>\n",
       "    </tr>\n",
       "  </tbody>\n",
       "</table>\n",
       "</div>"
      ],
      "text/plain": [
       "   episode_count                             primaryTitle\n",
       "0          14269                        Days of Our Lives\n",
       "1          12277               The Young and the Restless\n",
       "2          10204                        Coronation Street\n",
       "3           9958  The Tonight Show Starring Johnny Carson\n",
       "4           9858                             Charlie Rose"
      ]
     },
     "execution_count": 161,
     "metadata": {},
     "output_type": "execute_result"
    }
   ],
   "source": [
    "%%bigquery\n",
    "SELECT a.episode_count, b.primaryTitle FROM (SELECT COUNT(*) as episode_count, parentTconst FROM datamart.TitleEpisode GROUP BY parentTconst) a JOIN datamart.TitleBasics b ON a.parentTconst = b.tconst ORDER BY episode_count DESC LIMIT 5"
   ]
  },
  {
   "cell_type": "markdown",
   "id": "steady-scheduling",
   "metadata": {},
   "source": [
    "**Find the 5 titles with the most alternate regional titles**"
   ]
  },
  {
   "cell_type": "code",
   "execution_count": 173,
   "id": "decreased-breach",
   "metadata": {},
   "outputs": [
    {
     "data": {
      "text/html": [
       "<div>\n",
       "<style scoped>\n",
       "    .dataframe tbody tr th:only-of-type {\n",
       "        vertical-align: middle;\n",
       "    }\n",
       "\n",
       "    .dataframe tbody tr th {\n",
       "        vertical-align: top;\n",
       "    }\n",
       "\n",
       "    .dataframe thead th {\n",
       "        text-align: right;\n",
       "    }\n",
       "</style>\n",
       "<table border=\"1\" class=\"dataframe\">\n",
       "  <thead>\n",
       "    <tr style=\"text-align: right;\">\n",
       "      <th></th>\n",
       "      <th>title_count</th>\n",
       "      <th>primaryTitle</th>\n",
       "    </tr>\n",
       "  </thead>\n",
       "  <tbody>\n",
       "    <tr>\n",
       "      <th>0</th>\n",
       "      <td>159</td>\n",
       "      <td>Pokémon</td>\n",
       "    </tr>\n",
       "    <tr>\n",
       "      <th>1</th>\n",
       "      <td>106</td>\n",
       "      <td>Star Wars: Episode IV - A New Hope</td>\n",
       "    </tr>\n",
       "    <tr>\n",
       "      <th>2</th>\n",
       "      <td>98</td>\n",
       "      <td>The Hollow Forest Chronicles</td>\n",
       "    </tr>\n",
       "    <tr>\n",
       "      <th>3</th>\n",
       "      <td>89</td>\n",
       "      <td>Superhero Landing</td>\n",
       "    </tr>\n",
       "    <tr>\n",
       "      <th>4</th>\n",
       "      <td>88</td>\n",
       "      <td>Sailor Moon</td>\n",
       "    </tr>\n",
       "  </tbody>\n",
       "</table>\n",
       "</div>"
      ],
      "text/plain": [
       "   title_count                        primaryTitle\n",
       "0          159                             Pokémon\n",
       "1          106  Star Wars: Episode IV - A New Hope\n",
       "2           98        The Hollow Forest Chronicles\n",
       "3           89                   Superhero Landing\n",
       "4           88                         Sailor Moon"
      ]
     },
     "execution_count": 173,
     "metadata": {},
     "output_type": "execute_result"
    }
   ],
   "source": [
    "%%bigquery\n",
    "SELECT a.title_count, b.primaryTitle FROM (SELECT count(*) as title_count, titleId FROM datamart.TitleAkas \n",
    "GROUP BY titleId) a JOIN datamart.TitleBasics b ON a.titleId = b.tconst ORDER BY a.title_count DESC LIMIT 5"
   ]
  },
  {
   "cell_type": "markdown",
   "id": "recovered-rabbit",
   "metadata": {},
   "source": [
    "**Find the 5 highest rated genres**"
   ]
  },
  {
   "cell_type": "code",
   "execution_count": 184,
   "id": "threatened-knife",
   "metadata": {},
   "outputs": [
    {
     "data": {
      "text/html": [
       "<div>\n",
       "<style scoped>\n",
       "    .dataframe tbody tr th:only-of-type {\n",
       "        vertical-align: middle;\n",
       "    }\n",
       "\n",
       "    .dataframe tbody tr th {\n",
       "        vertical-align: top;\n",
       "    }\n",
       "\n",
       "    .dataframe thead th {\n",
       "        text-align: right;\n",
       "    }\n",
       "</style>\n",
       "<table border=\"1\" class=\"dataframe\">\n",
       "  <thead>\n",
       "    <tr style=\"text-align: right;\">\n",
       "      <th></th>\n",
       "      <th>genres</th>\n",
       "      <th>average_rating</th>\n",
       "    </tr>\n",
       "  </thead>\n",
       "  <tbody>\n",
       "    <tr>\n",
       "      <th>0</th>\n",
       "      <td>Comedy,History,Western</td>\n",
       "      <td>9.800000</td>\n",
       "    </tr>\n",
       "    <tr>\n",
       "      <th>1</th>\n",
       "      <td>News,Reality-TV,Short</td>\n",
       "      <td>9.700000</td>\n",
       "    </tr>\n",
       "    <tr>\n",
       "      <th>2</th>\n",
       "      <td>Adventure,Music,Mystery</td>\n",
       "      <td>9.621429</td>\n",
       "    </tr>\n",
       "    <tr>\n",
       "      <th>3</th>\n",
       "      <td>Music,Musical,Talk-Show</td>\n",
       "      <td>9.416867</td>\n",
       "    </tr>\n",
       "    <tr>\n",
       "      <th>4</th>\n",
       "      <td>Biography,Comedy,Sport</td>\n",
       "      <td>9.400000</td>\n",
       "    </tr>\n",
       "  </tbody>\n",
       "</table>\n",
       "</div>"
      ],
      "text/plain": [
       "                    genres  average_rating\n",
       "0   Comedy,History,Western        9.800000\n",
       "1    News,Reality-TV,Short        9.700000\n",
       "2  Adventure,Music,Mystery        9.621429\n",
       "3  Music,Musical,Talk-Show        9.416867\n",
       "4   Biography,Comedy,Sport        9.400000"
      ]
     },
     "execution_count": 184,
     "metadata": {},
     "output_type": "execute_result"
    }
   ],
   "source": [
    "%%bigquery\n",
    "select genres, AVG(averageRating) as average_rating FROM datamart.TitleBasics GROUP BY genres ORDER BY AVG(averageRating) DESC LIMIT 5"
   ]
  },
  {
   "cell_type": "markdown",
   "id": "productive-reporter",
   "metadata": {},
   "source": [
    "## Create new dataset and views"
   ]
  },
  {
   "cell_type": "code",
   "execution_count": 3,
   "id": "terminal-yacht",
   "metadata": {},
   "outputs": [
    {
     "name": "stdout",
     "output_type": "stream",
     "text": [
      "Dataset 'authentic-light-303018:reports' successfully created.\n"
     ]
    }
   ],
   "source": [
    "!bq --location=US mk --dataset {\"reports\"}"
   ]
  },
  {
   "cell_type": "markdown",
   "id": "distributed-feeding",
   "metadata": {},
   "source": [
    "**Create a view for the query: \" get the genres with the highest average ratings\"**\n",
    "\n",
    "**Modify the query to LIMIT 25**"
   ]
  },
  {
   "cell_type": "code",
   "execution_count": 11,
   "id": "realistic-routine",
   "metadata": {},
   "outputs": [
    {
     "data": {
      "text/html": [
       "<div>\n",
       "<style scoped>\n",
       "    .dataframe tbody tr th:only-of-type {\n",
       "        vertical-align: middle;\n",
       "    }\n",
       "\n",
       "    .dataframe tbody tr th {\n",
       "        vertical-align: top;\n",
       "    }\n",
       "\n",
       "    .dataframe thead th {\n",
       "        text-align: right;\n",
       "    }\n",
       "</style>\n",
       "<table border=\"1\" class=\"dataframe\">\n",
       "  <thead>\n",
       "    <tr style=\"text-align: right;\">\n",
       "      <th></th>\n",
       "    </tr>\n",
       "  </thead>\n",
       "  <tbody>\n",
       "  </tbody>\n",
       "</table>\n",
       "</div>"
      ],
      "text/plain": [
       "Empty DataFrame\n",
       "Columns: []\n",
       "Index: []"
      ]
     },
     "execution_count": 11,
     "metadata": {},
     "output_type": "execute_result"
    }
   ],
   "source": [
    "%%bigquery\n",
    "CREATE VIEW reports.Highest_Average_Rated_Genres AS\n",
    "select genres, AVG(averageRating) as average_rating FROM datamart.TitleBasics GROUP BY genres ORDER BY AVG(averageRating) DESC LIMIT 25"
   ]
  },
  {
   "cell_type": "markdown",
   "id": "removed-jumping",
   "metadata": {},
   "source": [
    "**check**"
   ]
  },
  {
   "cell_type": "code",
   "execution_count": 12,
   "id": "threatened-convertible",
   "metadata": {},
   "outputs": [
    {
     "data": {
      "text/html": [
       "<div>\n",
       "<style scoped>\n",
       "    .dataframe tbody tr th:only-of-type {\n",
       "        vertical-align: middle;\n",
       "    }\n",
       "\n",
       "    .dataframe tbody tr th {\n",
       "        vertical-align: top;\n",
       "    }\n",
       "\n",
       "    .dataframe thead th {\n",
       "        text-align: right;\n",
       "    }\n",
       "</style>\n",
       "<table border=\"1\" class=\"dataframe\">\n",
       "  <thead>\n",
       "    <tr style=\"text-align: right;\">\n",
       "      <th></th>\n",
       "      <th>genres</th>\n",
       "      <th>average_rating</th>\n",
       "    </tr>\n",
       "  </thead>\n",
       "  <tbody>\n",
       "    <tr>\n",
       "      <th>0</th>\n",
       "      <td>Comedy,History,Western</td>\n",
       "      <td>9.800000</td>\n",
       "    </tr>\n",
       "    <tr>\n",
       "      <th>1</th>\n",
       "      <td>News,Reality-TV,Short</td>\n",
       "      <td>9.700000</td>\n",
       "    </tr>\n",
       "    <tr>\n",
       "      <th>2</th>\n",
       "      <td>Adventure,Music,Mystery</td>\n",
       "      <td>9.621429</td>\n",
       "    </tr>\n",
       "    <tr>\n",
       "      <th>3</th>\n",
       "      <td>Music,Musical,Talk-Show</td>\n",
       "      <td>9.416867</td>\n",
       "    </tr>\n",
       "    <tr>\n",
       "      <th>4</th>\n",
       "      <td>Biography,Comedy,Sport</td>\n",
       "      <td>9.400000</td>\n",
       "    </tr>\n",
       "  </tbody>\n",
       "</table>\n",
       "</div>"
      ],
      "text/plain": [
       "                    genres  average_rating\n",
       "0   Comedy,History,Western        9.800000\n",
       "1    News,Reality-TV,Short        9.700000\n",
       "2  Adventure,Music,Mystery        9.621429\n",
       "3  Music,Musical,Talk-Show        9.416867\n",
       "4   Biography,Comedy,Sport        9.400000"
      ]
     },
     "execution_count": 12,
     "metadata": {},
     "output_type": "execute_result"
    }
   ],
   "source": [
    "%%bigquery\n",
    "SELECT * FROM reports.Highest_Average_Rated_Genres LIMIT 5"
   ]
  },
  {
   "cell_type": "markdown",
   "id": "jewish-yorkshire",
   "metadata": {},
   "source": [
    "**Create view for the query: \"Get the shows with the most episodes\"**\n",
    "\n",
    "**Modify the query to LIMIT 50**"
   ]
  },
  {
   "cell_type": "code",
   "execution_count": 7,
   "id": "large-machine",
   "metadata": {},
   "outputs": [
    {
     "data": {
      "text/html": [
       "<div>\n",
       "<style scoped>\n",
       "    .dataframe tbody tr th:only-of-type {\n",
       "        vertical-align: middle;\n",
       "    }\n",
       "\n",
       "    .dataframe tbody tr th {\n",
       "        vertical-align: top;\n",
       "    }\n",
       "\n",
       "    .dataframe thead th {\n",
       "        text-align: right;\n",
       "    }\n",
       "</style>\n",
       "<table border=\"1\" class=\"dataframe\">\n",
       "  <thead>\n",
       "    <tr style=\"text-align: right;\">\n",
       "      <th></th>\n",
       "    </tr>\n",
       "  </thead>\n",
       "  <tbody>\n",
       "  </tbody>\n",
       "</table>\n",
       "</div>"
      ],
      "text/plain": [
       "Empty DataFrame\n",
       "Columns: []\n",
       "Index: []"
      ]
     },
     "execution_count": 7,
     "metadata": {},
     "output_type": "execute_result"
    }
   ],
   "source": [
    "%%bigquery\n",
    "CREATE VIEW reports.Shows_With_Most_Episodes AS\n",
    "SELECT a.episode_count, b.primaryTitle FROM (SELECT COUNT(*) as episode_count, parentTconst FROM datamart.TitleEpisode GROUP BY parentTconst) a JOIN datamart.TitleBasics b ON a.parentTconst = b.tconst ORDER BY episode_count DESC LIMIT 50"
   ]
  },
  {
   "cell_type": "markdown",
   "id": "grand-lancaster",
   "metadata": {},
   "source": [
    "**Check**"
   ]
  },
  {
   "cell_type": "code",
   "execution_count": 9,
   "id": "casual-warren",
   "metadata": {},
   "outputs": [
    {
     "data": {
      "text/html": [
       "<div>\n",
       "<style scoped>\n",
       "    .dataframe tbody tr th:only-of-type {\n",
       "        vertical-align: middle;\n",
       "    }\n",
       "\n",
       "    .dataframe tbody tr th {\n",
       "        vertical-align: top;\n",
       "    }\n",
       "\n",
       "    .dataframe thead th {\n",
       "        text-align: right;\n",
       "    }\n",
       "</style>\n",
       "<table border=\"1\" class=\"dataframe\">\n",
       "  <thead>\n",
       "    <tr style=\"text-align: right;\">\n",
       "      <th></th>\n",
       "      <th>episode_count</th>\n",
       "      <th>primaryTitle</th>\n",
       "    </tr>\n",
       "  </thead>\n",
       "  <tbody>\n",
       "    <tr>\n",
       "      <th>0</th>\n",
       "      <td>14269</td>\n",
       "      <td>Days of Our Lives</td>\n",
       "    </tr>\n",
       "    <tr>\n",
       "      <th>1</th>\n",
       "      <td>12277</td>\n",
       "      <td>The Young and the Restless</td>\n",
       "    </tr>\n",
       "    <tr>\n",
       "      <th>2</th>\n",
       "      <td>10204</td>\n",
       "      <td>Coronation Street</td>\n",
       "    </tr>\n",
       "    <tr>\n",
       "      <th>3</th>\n",
       "      <td>9958</td>\n",
       "      <td>The Tonight Show Starring Johnny Carson</td>\n",
       "    </tr>\n",
       "    <tr>\n",
       "      <th>4</th>\n",
       "      <td>9858</td>\n",
       "      <td>Charlie Rose</td>\n",
       "    </tr>\n",
       "  </tbody>\n",
       "</table>\n",
       "</div>"
      ],
      "text/plain": [
       "   episode_count                             primaryTitle\n",
       "0          14269                        Days of Our Lives\n",
       "1          12277               The Young and the Restless\n",
       "2          10204                        Coronation Street\n",
       "3           9958  The Tonight Show Starring Johnny Carson\n",
       "4           9858                             Charlie Rose"
      ]
     },
     "execution_count": 9,
     "metadata": {},
     "output_type": "execute_result"
    }
   ],
   "source": [
    "%%bigquery\n",
    "SELECT * FROM reports.Shows_With_Most_Episodes LIMIT 5"
   ]
  }
 ],
 "metadata": {
  "environment": {
   "name": "common-cpu.mnightly-2021-01-20-debian-10-test",
   "type": "gcloud",
   "uri": "gcr.io/deeplearning-platform-release/base-cpu:mnightly-2021-01-20-debian-10-test"
  },
  "kernelspec": {
   "display_name": "Python 3",
   "language": "python",
   "name": "python3"
  },
  "language_info": {
   "codemirror_mode": {
    "name": "ipython",
    "version": 3
   },
   "file_extension": ".py",
   "mimetype": "text/x-python",
   "name": "python",
   "nbconvert_exporter": "python",
   "pygments_lexer": "ipython3",
   "version": "3.7.9"
  }
 },
 "nbformat": 4,
 "nbformat_minor": 5
}
