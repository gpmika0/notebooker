{
 "cells": [
  {
   "cell_type": "markdown",
   "metadata": {},
   "source": [
    "## C S 329E HW 9\n",
    "\n",
    "# Clustering with DBSCAN\n",
    "\n",
    "## Your name here (and your partner's name if you are working in a pair)\n",
    "\n",
    "As we discussed in lecture DBSCAN creates clusters based on the density of the points in the vicinity of the data.  Using small example data sets, we will implement both algorithms and visualize the results.\n",
    "\n",
    "Even though the example data is small and 2 dimensional, write your helper functions to not assume a 2-D data set.  Your plotting code can reference the `x` and `y` column names from the sample data directly. \n",
    "\n",
    "Note that I have added a one or two lines of code to the questions to test your implementations. "
   ]
  },
  {
   "cell_type": "code",
   "execution_count": 1,
   "metadata": {},
   "outputs": [],
   "source": [
    "# Do not import anything else\n",
    "import pandas as pd\n",
    "import matplotlib.pyplot as plt\n",
    "import numpy as np\n",
    "%matplotlib inline\n",
    "from sklearn.cluster import KMeans\n",
    "from sklearn.cluster import DBSCAN # only on last problem"
   ]
  },
  {
   "cell_type": "markdown",
   "metadata": {},
   "source": [
    "# DBSCAN"
   ]
  },
  {
   "cell_type": "markdown",
   "metadata": {},
   "source": [
    "## Q1 Load the Density Data and try K-means\n",
    "\n",
    "Load in the data provided `data_dbscan.csv`, cluster it with k-means algorithm with $k=2$ and visualize the results with a scatter plot, where the color indicates cluster membership. Label your axes, and give the plot a title. Use the [scikit-learn implementation of K-means](https://scikit-learn.org/stable/modules/generated/sklearn.cluster.KMeans.html)."
   ]
  },
  {
   "cell_type": "code",
   "execution_count": 2,
   "metadata": {},
   "outputs": [
    {
     "data": {
      "text/plain": [
       "<matplotlib.legend.Legend at 0x21c4548c790>"
      ]
     },
     "execution_count": 2,
     "metadata": {},
     "output_type": "execute_result"
    },
    {
     "data": {
      "image/png": "[encoded data removed]",
      "text/plain": [
       "<Figure size 432x288 with 1 Axes>"
      ]
     },
     "metadata": {
      "needs_background": "light"
     },
     "output_type": "display_data"
    }
   ],
   "source": [
    "df_dbscan = pd.read_csv('data_dbscan.csv')\n",
    "\n",
    "# Call k_means with k = 2\n",
    "kmeans = KMeans(n_clusters=2).fit(df_dbscan)\n",
    "labels = pd.Series(kmeans.labels_)\n",
    "for label in labels.unique():\n",
    "    df_cluster = df_dbscan[ labels == label ]\n",
    "    plt.scatter(df_cluster['x'], df_cluster['y'], label = 'cluster = '+str(label))\n",
    "plt.legend()"
   ]
  },
  {
   "cell_type": "markdown",
   "metadata": {},
   "source": [
    "## Q2.2 Write function to Implement Range Query\n",
    "\n",
    "Using the [pseudo-code](https://en.wikipedia.org/wiki/DBSCAN#Algorithm) on wikipedia, implement RangeQuery.\n",
    "\n",
    "```\n",
    "RangeQuery(DB, distFunc, Q, eps) {\n",
    "    Neighbors N := empty list\n",
    "    for each point P in database DB {                      /* Scan all points in the database */\n",
    "        if distFunc(Q, P) ≤ eps then {                     /* Compute distance and check epsilon */\n",
    "            N := N ∪ {P}                                   /* Add to result */\n",
    "        }\n",
    "    }\n",
    "    return N\n",
    "}\n",
    "```\n",
    "\n",
    "The \"DB\" parameter is a data frame, `df_data` containing all of the points in our data set, the \"distFunc\" is set as Euclidean distance thus should not be passed in, the point \"Q\", is represented by the index of the data frame, `q_index`, where `df_data.iloc[q_index]` is the actual point, and `eps` is a floating point value that indicates the radius from the point \"Q\" to search for neighbors.  The function will return the slice of `df_data` of all points within `eps` distance of \"Q\" (including \"Q\").  The indices on the slice should be preserved (do not reset_index).  "
   ]
  },
  {
   "cell_type": "code",
   "execution_count": 3,
   "metadata": {},
   "outputs": [],
   "source": [
    "def range_query( df_data, q_index, eps ):\n",
    "    neighbors = []\n",
    "    for idx,row in df_data.iterrows():\n",
    "        dist = np.linalg.norm(df_data.iloc[q_index] - row)\n",
    "        if dist <= eps:\n",
    "            neighbors.append(idx)\n",
    "    return df_data.iloc[neighbors]"
   ]
  },
  {
   "cell_type": "code",
   "execution_count": 4,
   "metadata": {},
   "outputs": [
    {
     "data": {
      "image/png": "[encoded data removed]",
      "text/plain": [
       "<Figure size 432x288 with 1 Axes>"
      ]
     },
     "metadata": {
      "needs_background": "light"
     },
     "output_type": "display_data"
    }
   ],
   "source": [
    "# Test it out\n",
    "df_n = range_query( df_dbscan, 0, 0.1 )\n",
    "plt.plot( df_dbscan['x'], df_dbscan['y'], '.', alpha = 0.5 )\n",
    "plt.plot( df_n['x'], df_n['y'], 'r*')\n",
    "plt.xlabel('x')\n",
    "plt.ylabel('y')\n",
    "plt.title('Testing Range Query')\n",
    "plt.show()"
   ]
  },
  {
   "cell_type": "markdown",
   "metadata": {},
   "source": [
    "## Q2.3 Write a function to implement DBSCAN\n",
    "\n",
    "Using the [pseudo-code](https://en.wikipedia.org/wiki/DBSCAN#Algorithm) on wikipedia, implement DBSCAN. This algorithm uses set notation, I found a handy summary on-line [here](http://www.math.cmu.edu/~bkell/21110-2010s/sets.html) if you need a refresher. \n",
    "\n",
    "```\n",
    "DBSCAN(DB, distFunc, eps, minPts) {\n",
    "    C := 0                                                  /* Cluster counter */\n",
    "    for each point P in database DB {\n",
    "        if label(P) ≠ undefined then continue               /* Previously processed in inner loop */\n",
    "        Neighbors N := RangeQuery(DB, distFunc, P, eps)     /* Find neighbors */\n",
    "        if |N| < minPts then {                              /* Density check */\n",
    "            label(P) := Noise                               /* Label as Noise */\n",
    "            continue\n",
    "        }\n",
    "        C := C + 1                                          /* next cluster label */\n",
    "        label(P) := C                                       /* Label initial point */\n",
    "        SeedSet S := N \\ {P}                                /* Neighbors to expand */\n",
    "        for each point Q in S {                             /* Process every seed point Q */\n",
    "            if label(Q) = Noise then label(Q) := C          /* Change Noise to border point */\n",
    "            if label(Q) ≠ undefined then continue           /* Previously processed (e.g., border point) */\n",
    "            label(Q) := C                                   /* Label neighbor */\n",
    "            Neighbors N := RangeQuery(DB, distFunc, Q, eps) /* Find neighbors */\n",
    "            if |N| ≥ minPts then {                          /* Density check (if Q is a core point) */\n",
    "                S := S ∪ N                                  /* Add new neighbors to seed set */\n",
    "            }\n",
    "        }\n",
    "    }\n",
    "}\n",
    "```\n",
    "\n",
    "The function should accept as parameters \"DB\", a data frame of points to be clustered, `df_data`, no distance function (assuming Euclidean distance), a floating point `eps` that defines the radius, and an integer `minPts`.  The function will return a series of cluster assignments of the same length as `df_data`. If the data is classified as noise, the cluster assignment is $0$, and all of the clusters will have a label of $1-k$, were $k$ is derived in the function and represents the total number of clusters found. \n",
    "\n",
    "Don't forget that [iterrows](https://pandas.pydata.org/pandas-docs/stable/reference/api/pandas.DataFrame.iterrows.html) is a lovely way to loop through a data frame. But if you modify the dataframe within the loop, it doesn't add more iterations to the loop.  For example, if you start with a dataframe of length $n$ and add $3$ rows, then the `iterrows` will stop after $n$ rows. For the inside loop, you'll need to use a native python list to dynamically grow the `SeedSet S`.  You can use the `extend` function to merge 2 lists together. For example:\n",
    "\n",
    "```\n",
    "x = [1,2,3]\n",
    "y = [4,5,6]\n",
    "x.extend(y) # sets x to the list [1, 2, 3, 4, 5, 6]\n",
    "```\n",
    "\n",
    "If you haven't used the [continue](https://docs.python.org/3/tutorial/controlflow.html) statement before, it can be useful in these situations, check out the link. \n",
    "\n",
    "Call `dbscan` with the `df_dbscan` data frame, `eps` set to 0.23, and `min_pts` set to 6 and save the results to `s_cluster_assignments` "
   ]
  },
  {
   "cell_type": "code",
   "execution_count": 5,
   "metadata": {},
   "outputs": [],
   "source": [
    "def dbscan( df_data, eps, min_pts ):\n",
    "    NOISE_LABEL = 0\n",
    "    clust = [-1]*len(df_data)\n",
    "    c = 0\n",
    "    for idx in range(len(df_data)):\n",
    "        if clust[idx] != -1:\n",
    "            continue\n",
    "        n = range_query(df_data, idx, eps)\n",
    "        if len(n) < min_pts:\n",
    "            clust[idx] = NOISE_LABEL\n",
    "            continue\n",
    "        c += 1\n",
    "        clust[idx] = c\n",
    "        df_s = n.drop(idx)\n",
    "        s = df_s.index.tolist()\n",
    "        for i in s:\n",
    "            if clust[i] == NOISE_LABEL:\n",
    "                clust[i] = c\n",
    "            if clust[i] != -1:\n",
    "                continue\n",
    "            clust[i] = c\n",
    "            df_n = range_query(df_data, i, eps)\n",
    "            df_n = df_n.index.tolist()\n",
    "            if len(n) >= min_pts:\n",
    "                new_seed = df_n\n",
    "                for var in new_seed:\n",
    "                    if var not in s:\n",
    "                        s.append(var)\n",
    "    clust_series = pd.Series(clust)\n",
    "    return clust_series"
   ]
  },
  {
   "cell_type": "code",
   "execution_count": 6,
   "metadata": {},
   "outputs": [
    {
     "data": {
      "text/plain": [
       "1    50\n",
       "2    48\n",
       "0     2\n",
       "dtype: int64"
      ]
     },
     "execution_count": 6,
     "metadata": {},
     "output_type": "execute_result"
    }
   ],
   "source": [
    "# Test it out\n",
    "s_cluster_assignment = dbscan( df_dbscan, 0.23, 6)\n",
    "s_cluster_assignment.value_counts()"
   ]
  },
  {
   "cell_type": "markdown",
   "metadata": {},
   "source": [
    "## Q2.4 Plot the Results \n",
    "\n",
    "Plot the points in the `df_dbscan` data frame using a 2-D scatter plot, with a different color for each cluster.  Use the cluster assignments from the previous problem (`s_cluster_assignments`). Label your axes, and give the plot a title."
   ]
  },
  {
   "cell_type": "code",
   "execution_count": 7,
   "metadata": {},
   "outputs": [
    {
     "data": {
      "text/plain": [
       "<matplotlib.legend.Legend at 0x21c476cc1f0>"
      ]
     },
     "execution_count": 7,
     "metadata": {},
     "output_type": "execute_result"
    },
    {
     "data": {
      "image/png": "[encoded data removed]",
      "text/plain": [
       "<Figure size 432x288 with 1 Axes>"
      ]
     },
     "metadata": {
      "needs_background": "light"
     },
     "output_type": "display_data"
    }
   ],
   "source": [
    "# Plot each cluster\n",
    "for label in s_cluster_assignment.unique():\n",
    "    df_cluster = df_dbscan[ s_cluster_assignment == label ]\n",
    "    if label == 0:\n",
    "        plt.scatter(df_cluster['x'], df_cluster['y'], label = 'Noise')\n",
    "    else:\n",
    "        plt.scatter(df_cluster['x'], df_cluster['y'], label = 'cluster = '+str(label))\n",
    "plt.legend()"
   ]
  },
  {
   "cell_type": "markdown",
   "metadata": {},
   "source": [
    "## Q2.5 Compare your results to the scikit-learn library\n",
    "\n",
    "Import DBSCAN from scikit-learn and compare the cluster labels from your implementation to the cluster labels generated from [scikit-learn's DBSCAN](https://scikit-learn.org/stable/modules/generated/sklearn.cluster.DBSCAN.html). Add some commentary about how you think the results compare. Use the same data and values for eps and minPts."
   ]
  },
  {
   "cell_type": "code",
   "execution_count": 8,
   "metadata": {},
   "outputs": [
    {
     "name": "stdout",
     "output_type": "stream",
     "text": [
      " 0    49\n",
      " 1    48\n",
      "-1     3\n",
      "dtype: int64\n"
     ]
    },
    {
     "data": {
      "text/plain": [
       "<matplotlib.legend.Legend at 0x21c47759ca0>"
      ]
     },
     "execution_count": 8,
     "metadata": {},
     "output_type": "execute_result"
    },
    {
     "data": {
      "image/png": "[encoded data removed]",
      "text/plain": [
       "<Figure size 432x288 with 1 Axes>"
      ]
     },
     "metadata": {
      "needs_background": "light"
     },
     "output_type": "display_data"
    }
   ],
   "source": [
    "# check your implementation vs scikit-learn\n",
    "from sklearn.cluster import DBSCAN\n",
    "clustering = DBSCAN(eps=0.23, min_samples=6).fit(df_dbscan)\n",
    "labels = pd.Series(clustering.labels_)\n",
    "print(labels.value_counts())\n",
    "for label in labels.unique():\n",
    "    df_cluster = df_dbscan[ labels == label ]\n",
    "    if label == -1:\n",
    "        plt.scatter(df_cluster['x'], df_cluster['y'], label = 'Noise')\n",
    "    else:\n",
    "        plt.scatter(df_cluster['x'], df_cluster['y'], label = 'cluster = '+str(label))\n",
    "plt.legend()"
   ]
  },
  {
   "cell_type": "markdown",
   "metadata": {},
   "source": [
    "your obervations about scikit-learn's performance vs your implementation's performance here"
   ]
  }
 ],
 "metadata": {
  "kernelspec": {
   "display_name": "Python 3",
   "language": "python",
   "name": "python3"
  },
  "language_info": {
   "codemirror_mode": {
    "name": "ipython",
    "version": 3
   },
   "file_extension": ".py",
   "mimetype": "text/x-python",
   "name": "python",
   "nbconvert_exporter": "python",
   "pygments_lexer": "ipython3",
   "version": "3.8.8"
  }
 },
 "nbformat": 4,
 "nbformat_minor": 4
}
