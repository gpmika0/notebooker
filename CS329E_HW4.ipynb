{
 "cells": [
  {
   "cell_type": "markdown",
   "metadata": {},
   "source": [
    "### C S 329E HW 4\n",
    "\n",
    "## Pair Programming Group Number: 37\n",
    "## Members of Team: Greg Mika, Chase Khan\n",
    "\n",
    "## Decision Tree Classifier\n",
    "\n",
    "\n",
    "For this weeks homework we are going to explore ideas around decision tree implementation!  \n",
    "\n",
    "We will implement some helper functions that would be necessary for a home-grown tree:\n",
    "  - calc_entropy\n",
    "  - calc_gini\n",
    "  \n",
    "and them test them out at given data splits. \n",
    "  \n",
    "And finally, to perform predictive and descriptive analytics we use the [Decision Tree Classifier](https://scikit-learn.org/stable/modules/tree.html#classification) class in the scikit-learn package.\n",
    "\n",
    "  \n",
    "For this assignment, the stopping condition will be the depth of the tree. The impurity measure can be either `Entropy` or `Gini`.\n",
    "\n",
    "To test our tree built from the Decision Tree Classifier class, we will revisit our Melbourne housing data (that has been cleaned and pruned) and use the files:\n",
    "\n",
    "   - `melb_tree_train.csv` for training the decision tree (we'll also see what happens if we use the same data to test as we used to train the data in the last problem)\n",
    "   - `melb_tree_test.csv` for testing the decision tree\n",
    "\n",
    "There are 10 features in these dataframes that we can use to describe and predict the class label housing \"Type\", which is 'h' house, 'u' duplex, or 't' townhome. "
   ]
  },
  {
   "cell_type": "code",
   "execution_count": 1,
   "metadata": {},
   "outputs": [],
   "source": [
    "# import the libraries\n",
    "import pandas as pd\n",
    "import numpy as np\n",
    "import matplotlib.pyplot as plt\n",
    "%matplotlib inline\n",
    "from math import log2\n",
    "from sklearn import tree # you'll probably need to install this - look at Q6 for a link \n",
    "import graphviz # you'll probably need to install this - look at Q6 for a link "
   ]
  },
  {
   "cell_type": "markdown",
   "metadata": {},
   "source": [
    "## Q1 Load the Data\n",
    "Load in the melb_tree_train.csv into a dataframe, and split that dataframe into `df_X`, which contains the features of the data set (everything but `Type`), and `s_y`, the series containing just the class label (just `Type`). The lengths of `df_X` and `s_y` should match."
   ]
  },
  {
   "cell_type": "code",
   "execution_count": 2,
   "metadata": {},
   "outputs": [],
   "source": [
    "df = pd.read_csv('melb_tree_train.csv')\n",
    "df_X = df.drop(columns = 'Type')\n",
    "s_y = df['Type']\n"
   ]
  },
  {
   "cell_type": "markdown",
   "metadata": {},
   "source": [
    "## Q2 Implement a function to calculate entropy \n",
    "Implement a function `calc_entropy` that takes the the class label series, `s_y`, as a parameter. Implement using the definition on p128 in the DM book and only use pandas and log2 libraries"
   ]
  },
  {
   "cell_type": "code",
   "execution_count": 3,
   "metadata": {},
   "outputs": [],
   "source": [
    "# calc_entropy(s_y) definition\n",
    "\n",
    "def calc_entropy(s_y):\n",
    "    dummies = s_y.str.get_dummies()\n",
    "    entropy = 0\n",
    "    for col in dummies.columns:\n",
    "        p = sum(dummies[col])/len(s_y)\n",
    "        entropy -= p*log2(p)\n",
    "    return entropy"
   ]
  },
  {
   "cell_type": "markdown",
   "metadata": {},
   "source": [
    "## Q3 Use the entropy function to\n",
    "  - (a) Calculate the entropy of the entire training set\n",
    "  - (b) Calculate the entropy of the three partitions formed from \n",
    "    * Landsize $\\in$ [0,200]\n",
    "    * Landsize $\\in$ (200,450]\n",
    "    * Landsize $\\in$ (450, $\\infty$)"
   ]
  },
  {
   "cell_type": "code",
   "execution_count": 4,
   "metadata": {},
   "outputs": [
    {
     "data": {
      "text/plain": [
       "1.5825333114261775"
      ]
     },
     "execution_count": 4,
     "metadata": {},
     "output_type": "execute_result"
    }
   ],
   "source": [
    "# The entire data set\n",
    "calc_entropy(s_y)"
   ]
  },
  {
   "cell_type": "code",
   "execution_count": 5,
   "metadata": {},
   "outputs": [
    {
     "data": {
      "text/plain": [
       "1.3456432116206725"
      ]
     },
     "execution_count": 5,
     "metadata": {},
     "output_type": "execute_result"
    }
   ],
   "source": [
    "# Less than or equal to 200\n",
    "split1 = s_y[ df['Landsize'] <= 200]\n",
    "calc_entropy(split1)"
   ]
  },
  {
   "cell_type": "code",
   "execution_count": 6,
   "metadata": {},
   "outputs": [
    {
     "data": {
      "text/plain": [
       "1.4660501816027978"
      ]
     },
     "execution_count": 6,
     "metadata": {},
     "output_type": "execute_result"
    }
   ],
   "source": [
    "# Between 200 and 450\n",
    "split2 = s_y[ (df['Landsize'] <= 450) & (df['Landsize'] > 200) ]\n",
    "calc_entropy(split2)"
   ]
  },
  {
   "cell_type": "code",
   "execution_count": 7,
   "metadata": {},
   "outputs": [
    {
     "data": {
      "text/plain": [
       "1.09954792005911"
      ]
     },
     "execution_count": 7,
     "metadata": {},
     "output_type": "execute_result"
    }
   ],
   "source": [
    "# greater than 450\n",
    "split3 = s_y[ df['Landsize'] > 450]\n",
    "calc_entropy(split3)"
   ]
  },
  {
   "cell_type": "markdown",
   "metadata": {},
   "source": [
    "## Q4 Implement a function to calculate the Gini Index\n",
    "Implement the function `calc_gini` that takes the class label series, `s_y`, as a parameter. Implement using the definition on p128 in the DM book and only use the pandas library."
   ]
  },
  {
   "cell_type": "code",
   "execution_count": 8,
   "metadata": {},
   "outputs": [],
   "source": [
    "def calc_gini( s_y ):\n",
    "    dummies = s_y.str.get_dummies()\n",
    "    gini = 1\n",
    "    for col in dummies.columns:\n",
    "        p = sum(dummies[col])/len(s_y)\n",
    "        gini -= p**2\n",
    "    return gini\n",
    "\n",
    "    "
   ]
  },
  {
   "cell_type": "markdown",
   "metadata": {},
   "source": [
    "## Q5 Use the Gini Index function to\n",
    "  - (a) Calculate the Gini index of the entire training set\n",
    "  - (b) Calculate the Gini index of the three partitions formed from \n",
    "    * Landsize $\\in$ [0,200]\n",
    "    * Landsize $\\in$ (200,450]\n",
    "    * Landsize $\\in$ (450, $\\infty$)"
   ]
  },
  {
   "cell_type": "code",
   "execution_count": 9,
   "metadata": {},
   "outputs": [
    {
     "data": {
      "text/plain": [
       "0.6655601280292637"
      ]
     },
     "execution_count": 9,
     "metadata": {},
     "output_type": "execute_result"
    }
   ],
   "source": [
    "# The entire data set\n",
    "calc_gini(s_y)"
   ]
  },
  {
   "cell_type": "code",
   "execution_count": 10,
   "metadata": {},
   "outputs": [
    {
     "data": {
      "text/plain": [
       "0.5741211482422965"
      ]
     },
     "execution_count": 10,
     "metadata": {},
     "output_type": "execute_result"
    }
   ],
   "source": [
    "# Less than or equal to 200\n",
    "split1 = s_y[ df['Landsize'] <= 200]\n",
    "calc_gini(split1)"
   ]
  },
  {
   "cell_type": "code",
   "execution_count": 11,
   "metadata": {},
   "outputs": [
    {
     "data": {
      "text/plain": [
       "0.6101021682602731"
      ]
     },
     "execution_count": 11,
     "metadata": {},
     "output_type": "execute_result"
    }
   ],
   "source": [
    "# Between 200 and 450\n",
    "split2 = s_y[ (df['Landsize'] <= 450) & (df['Landsize'] > 200) ]\n",
    "calc_gini(split2)"
   ]
  },
  {
   "cell_type": "code",
   "execution_count": 12,
   "metadata": {},
   "outputs": [
    {
     "data": {
      "text/plain": [
       "0.4381934171597633"
      ]
     },
     "execution_count": 12,
     "metadata": {},
     "output_type": "execute_result"
    }
   ],
   "source": [
    "# greater than 450\n",
    "split3 = s_y[ df['Landsize'] > 450]\n",
    "calc_gini(split3)"
   ]
  },
  {
   "cell_type": "markdown",
   "metadata": {},
   "source": [
    "## Q6 Create a decision tree \n",
    "Using [scikit-learn](https://scikit-learn.org/stable/modules/tree.html#tree) create a multi class classifer for the data set using the Entropy impurity measure and a max depth of 3.\n",
    "\n",
    "Note that scikit-learn's algorithm doesn't handle categorical data, so that needs to be preprocessed using an one hot encoding.\n",
    "\n",
    "Display the tree using `export_text` from sklearn.tree, and use that information to write some descriptive analytics on the classification of houses.  For extra fun, use the export_graphviz to draw the graph (see documentation on the [scikit-learn webpage](https://scikit-learn.org/stable/modules/tree.html#classification)). "
   ]
  },
  {
   "cell_type": "code",
   "execution_count": 13,
   "metadata": {},
   "outputs": [
    {
     "data": {
      "text/plain": [
       "DecisionTreeClassifier(criterion='entropy', max_depth=3)"
      ]
     },
     "execution_count": 13,
     "metadata": {},
     "output_type": "execute_result"
    }
   ],
   "source": [
    "# Create Tree\n",
    "from sklearn.tree import export_text\n",
    "\n",
    "#one hot encode the df_X\n",
    "council = df_X['CouncilArea'].str.get_dummies()\n",
    "df_X_hot = df_X.drop(columns = 'CouncilArea')\n",
    "for col in council.columns:\n",
    "    df_X_hot[col] = council[col]\n",
    "\n",
    "\n",
    "decision_tree = tree.DecisionTreeClassifier(criterion = 'entropy', max_depth=3)\n",
    "decision_tree.fit(df_X_hot, s_y)"
   ]
  },
  {
   "cell_type": "code",
   "execution_count": 14,
   "metadata": {},
   "outputs": [
    {
     "name": "stdout",
     "output_type": "stream",
     "text": [
      "|--- YearBuilt <= 1977.50\n",
      "|   |--- Rooms <= 2.50\n",
      "|   |   |--- Price <= 915000.00\n",
      "|   |   |   |--- class: u\n",
      "|   |   |--- Price >  915000.00\n",
      "|   |   |   |--- class: h\n",
      "|   |--- Rooms >  2.50\n",
      "|   |   |--- Landsize <= 429.00\n",
      "|   |   |   |--- class: h\n",
      "|   |   |--- Landsize >  429.00\n",
      "|   |   |   |--- class: h\n",
      "|--- YearBuilt >  1977.50\n",
      "|   |--- BuildingArea <= 104.31\n",
      "|   |   |--- Landsize <= 76.00\n",
      "|   |   |   |--- class: u\n",
      "|   |   |--- Landsize >  76.00\n",
      "|   |   |   |--- class: t\n",
      "|   |--- BuildingArea >  104.31\n",
      "|   |   |--- Landsize <= 391.00\n",
      "|   |   |   |--- class: t\n",
      "|   |   |--- Landsize >  391.00\n",
      "|   |   |   |--- class: h\n",
      "\n"
     ]
    }
   ],
   "source": [
    "# Display text version of the tree\n",
    "s = tree.export_text(decision_tree, feature_names = list(df_X_hot.columns))\n",
    "print(s)"
   ]
  },
  {
   "cell_type": "code",
   "execution_count": 15,
   "metadata": {},
   "outputs": [
    {
     "data": {
      "image/svg+xml": [
       "<?xml version=\"1.0\" encoding=\"UTF-8\" standalone=\"no\"?>\r\n",
       "<!DOCTYPE svg PUBLIC \"-//W3C//DTD SVG 1.1//EN\"\r\n",
       " \"http://www.w3.org/Graphics/SVG/1.1/DTD/svg11.dtd\">\r\n",
       "<!-- Generated by graphviz version 2.38.0 (20140413.2041)\r\n",
       " -->\r\n",
       "<!-- Title: Tree Pages: 1 -->\r\n",
       "<svg width=\"1654pt\" height=\"433pt\"\r\n",
       " viewBox=\"0.00 0.00 1653.50 433.00\" xmlns=\"http://www.w3.org/2000/svg\" xmlns:xlink=\"http://www.w3.org/1999/xlink\">\r\n",
       "<g id=\"graph0\" class=\"graph\" transform=\"scale(1 1) rotate(0) translate(4 429)\">\r\n",
       "<title>Tree</title>\r\n",
       "<polygon fill=\"white\" stroke=\"none\" points=\"-4,4 -4,-429 1649.5,-429 1649.5,4 -4,4\"/>\r\n",
       "<!-- 0 -->\r\n",
       "<g id=\"node1\" class=\"node\"><title>0</title>\r\n",
       "<path fill=\"#ffffff\" stroke=\"black\" d=\"M922,-425C922,-425 748,-425 748,-425 742,-425 736,-419 736,-413 736,-413 736,-354 736,-354 736,-348 742,-342 748,-342 748,-342 922,-342 922,-342 928,-342 934,-348 934,-354 934,-354 934,-413 934,-413 934,-419 928,-425 922,-425\"/>\r\n",
       "<text text-anchor=\"start\" x=\"776.5\" y=\"-409.8\" font-family=\"Helvetica,sans-Serif\" font-size=\"14.00\">YearBuilt ≤ 1977.5</text>\r\n",
       "<text text-anchor=\"start\" x=\"785\" y=\"-394.8\" font-family=\"Helvetica,sans-Serif\" font-size=\"14.00\">entropy = 1.583</text>\r\n",
       "<text text-anchor=\"start\" x=\"775\" y=\"-379.8\" font-family=\"Helvetica,sans-Serif\" font-size=\"14.00\">samples = 100.0%</text>\r\n",
       "<text text-anchor=\"start\" x=\"744\" y=\"-364.8\" font-family=\"Helvetica,sans-Serif\" font-size=\"14.00\">value = [0.306, 0.347, 0.347]</text>\r\n",
       "<text text-anchor=\"start\" x=\"808.5\" y=\"-349.8\" font-family=\"Helvetica,sans-Serif\" font-size=\"14.00\">class = t</text>\r\n",
       "</g>\r\n",
       "<!-- 1 -->\r\n",
       "<g id=\"node2\" class=\"node\"><title>1</title>\r\n",
       "<path fill=\"#fae7da\" stroke=\"black\" d=\"M763,-306C763,-306 589,-306 589,-306 583,-306 577,-300 577,-294 577,-294 577,-235 577,-235 577,-229 583,-223 589,-223 589,-223 763,-223 763,-223 769,-223 775,-229 775,-235 775,-235 775,-294 775,-294 775,-300 769,-306 763,-306\"/>\r\n",
       "<text text-anchor=\"start\" x=\"635\" y=\"-290.8\" font-family=\"Helvetica,sans-Serif\" font-size=\"14.00\">Rooms ≤ 2.5</text>\r\n",
       "<text text-anchor=\"start\" x=\"626\" y=\"-275.8\" font-family=\"Helvetica,sans-Serif\" font-size=\"14.00\">entropy = 1.264</text>\r\n",
       "<text text-anchor=\"start\" x=\"620\" y=\"-260.8\" font-family=\"Helvetica,sans-Serif\" font-size=\"14.00\">samples = 45.7%</text>\r\n",
       "<text text-anchor=\"start\" x=\"585\" y=\"-245.8\" font-family=\"Helvetica,sans-Serif\" font-size=\"14.00\">value = [0.524, 0.062, 0.414]</text>\r\n",
       "<text text-anchor=\"start\" x=\"647.5\" y=\"-230.8\" font-family=\"Helvetica,sans-Serif\" font-size=\"14.00\">class = h</text>\r\n",
       "</g>\r\n",
       "<!-- 0&#45;&gt;1 -->\r\n",
       "<g id=\"edge1\" class=\"edge\"><title>0&#45;&gt;1</title>\r\n",
       "<path fill=\"none\" stroke=\"black\" d=\"M779.836,-341.907C766.763,-332.288 752.719,-321.953 739.315,-312.09\"/>\r\n",
       "<polygon fill=\"black\" stroke=\"black\" points=\"741.196,-309.129 731.067,-306.021 737.047,-314.767 741.196,-309.129\"/>\r\n",
       "<text text-anchor=\"middle\" x=\"734.828\" y=\"-327.036\" font-family=\"Helvetica,sans-Serif\" font-size=\"14.00\">True</text>\r\n",
       "</g>\r\n",
       "<!-- 8 -->\r\n",
       "<g id=\"node9\" class=\"node\"><title>8</title>\r\n",
       "<path fill=\"#adf4ca\" stroke=\"black\" d=\"M1081,-306C1081,-306 907,-306 907,-306 901,-306 895,-300 895,-294 895,-294 895,-235 895,-235 895,-229 901,-223 907,-223 907,-223 1081,-223 1081,-223 1087,-223 1093,-229 1093,-235 1093,-235 1093,-294 1093,-294 1093,-300 1087,-306 1081,-306\"/>\r\n",
       "<text text-anchor=\"start\" x=\"919.5\" y=\"-290.8\" font-family=\"Helvetica,sans-Serif\" font-size=\"14.00\">BuildingArea ≤ 104.315</text>\r\n",
       "<text text-anchor=\"start\" x=\"944\" y=\"-275.8\" font-family=\"Helvetica,sans-Serif\" font-size=\"14.00\">entropy = 1.341</text>\r\n",
       "<text text-anchor=\"start\" x=\"938\" y=\"-260.8\" font-family=\"Helvetica,sans-Serif\" font-size=\"14.00\">samples = 54.3%</text>\r\n",
       "<text text-anchor=\"start\" x=\"903\" y=\"-245.8\" font-family=\"Helvetica,sans-Serif\" font-size=\"14.00\">value = [0.123, 0.586, 0.291]</text>\r\n",
       "<text text-anchor=\"start\" x=\"967.5\" y=\"-230.8\" font-family=\"Helvetica,sans-Serif\" font-size=\"14.00\">class = t</text>\r\n",
       "</g>\r\n",
       "<!-- 0&#45;&gt;8 -->\r\n",
       "<g id=\"edge8\" class=\"edge\"><title>0&#45;&gt;8</title>\r\n",
       "<path fill=\"none\" stroke=\"black\" d=\"M890.164,-341.907C903.237,-332.288 917.281,-321.953 930.685,-312.09\"/>\r\n",
       "<polygon fill=\"black\" stroke=\"black\" points=\"932.953,-314.767 938.933,-306.021 928.804,-309.129 932.953,-314.767\"/>\r\n",
       "<text text-anchor=\"middle\" x=\"935.172\" y=\"-327.036\" font-family=\"Helvetica,sans-Serif\" font-size=\"14.00\">False</text>\r\n",
       "</g>\r\n",
       "<!-- 2 -->\r\n",
       "<g id=\"node3\" class=\"node\"><title>2</title>\r\n",
       "<path fill=\"#a572ed\" stroke=\"black\" d=\"M390,-187C390,-187 216,-187 216,-187 210,-187 204,-181 204,-175 204,-175 204,-116 204,-116 204,-110 210,-104 216,-104 216,-104 390,-104 390,-104 396,-104 402,-110 402,-116 402,-116 402,-175 402,-175 402,-181 396,-187 390,-187\"/>\r\n",
       "<text text-anchor=\"start\" x=\"248\" y=\"-171.8\" font-family=\"Helvetica,sans-Serif\" font-size=\"14.00\">Price ≤ 915000.0</text>\r\n",
       "<text text-anchor=\"start\" x=\"253\" y=\"-156.8\" font-family=\"Helvetica,sans-Serif\" font-size=\"14.00\">entropy = 0.974</text>\r\n",
       "<text text-anchor=\"start\" x=\"247\" y=\"-141.8\" font-family=\"Helvetica,sans-Serif\" font-size=\"14.00\">samples = 22.5%</text>\r\n",
       "<text text-anchor=\"start\" x=\"212\" y=\"-126.8\" font-family=\"Helvetica,sans-Serif\" font-size=\"14.00\">value = [0.181, 0.055, 0.764]</text>\r\n",
       "<text text-anchor=\"start\" x=\"274.5\" y=\"-111.8\" font-family=\"Helvetica,sans-Serif\" font-size=\"14.00\">class = u</text>\r\n",
       "</g>\r\n",
       "<!-- 1&#45;&gt;2 -->\r\n",
       "<g id=\"edge2\" class=\"edge\"><title>1&#45;&gt;2</title>\r\n",
       "<path fill=\"none\" stroke=\"black\" d=\"M576.533,-232.3C525.741,-216.368 463.848,-196.954 411.791,-180.625\"/>\r\n",
       "<polygon fill=\"black\" stroke=\"black\" points=\"412.779,-177.267 402.19,-177.613 410.684,-183.946 412.779,-177.267\"/>\r\n",
       "</g>\r\n",
       "<!-- 5 -->\r\n",
       "<g id=\"node6\" class=\"node\"><title>5</title>\r\n",
       "<path fill=\"#e99558\" stroke=\"black\" d=\"M763,-187C763,-187 589,-187 589,-187 583,-187 577,-181 577,-175 577,-175 577,-116 577,-116 577,-110 583,-104 589,-104 589,-104 763,-104 763,-104 769,-104 775,-110 775,-116 775,-116 775,-175 775,-175 775,-181 769,-187 763,-187\"/>\r\n",
       "<text text-anchor=\"start\" x=\"621.5\" y=\"-171.8\" font-family=\"Helvetica,sans-Serif\" font-size=\"14.00\">Landsize ≤ 429.0</text>\r\n",
       "<text text-anchor=\"start\" x=\"626\" y=\"-156.8\" font-family=\"Helvetica,sans-Serif\" font-size=\"14.00\">entropy = 0.737</text>\r\n",
       "<text text-anchor=\"start\" x=\"620\" y=\"-141.8\" font-family=\"Helvetica,sans-Serif\" font-size=\"14.00\">samples = 23.2%</text>\r\n",
       "<text text-anchor=\"start\" x=\"585\" y=\"-126.8\" font-family=\"Helvetica,sans-Serif\" font-size=\"14.00\">value = [0.856, 0.069, 0.074]</text>\r\n",
       "<text text-anchor=\"start\" x=\"647.5\" y=\"-111.8\" font-family=\"Helvetica,sans-Serif\" font-size=\"14.00\">class = h</text>\r\n",
       "</g>\r\n",
       "<!-- 1&#45;&gt;5 -->\r\n",
       "<g id=\"edge5\" class=\"edge\"><title>1&#45;&gt;5</title>\r\n",
       "<path fill=\"none\" stroke=\"black\" d=\"M676,-222.907C676,-214.649 676,-205.864 676,-197.302\"/>\r\n",
       "<polygon fill=\"black\" stroke=\"black\" points=\"679.5,-197.021 676,-187.021 672.5,-197.021 679.5,-197.021\"/>\r\n",
       "</g>\r\n",
       "<!-- 3 -->\r\n",
       "<g id=\"node4\" class=\"node\"><title>3</title>\r\n",
       "<path fill=\"#8f4fe8\" stroke=\"black\" d=\"M178,-68C178,-68 12,-68 12,-68 6,-68 0,-62 0,-56 0,-56 0,-12 0,-12 0,-6 6,-0 12,-0 12,-0 178,-0 178,-0 184,-0 190,-6 190,-12 190,-12 190,-56 190,-56 190,-62 184,-68 178,-68\"/>\r\n",
       "<text text-anchor=\"start\" x=\"45\" y=\"-52.8\" font-family=\"Helvetica,sans-Serif\" font-size=\"14.00\">entropy = 0.595</text>\r\n",
       "<text text-anchor=\"start\" x=\"39\" y=\"-37.8\" font-family=\"Helvetica,sans-Serif\" font-size=\"14.00\">samples = 18.5%</text>\r\n",
       "<text text-anchor=\"start\" x=\"8\" y=\"-22.8\" font-family=\"Helvetica,sans-Serif\" font-size=\"14.00\">value = [0.06, 0.047, 0.893]</text>\r\n",
       "<text text-anchor=\"start\" x=\"66.5\" y=\"-7.8\" font-family=\"Helvetica,sans-Serif\" font-size=\"14.00\">class = u</text>\r\n",
       "</g>\r\n",
       "<!-- 2&#45;&gt;3 -->\r\n",
       "<g id=\"edge3\" class=\"edge\"><title>2&#45;&gt;3</title>\r\n",
       "<path fill=\"none\" stroke=\"black\" d=\"M225.844,-103.882C206.481,-93.6885 185.786,-82.7936 166.702,-72.7467\"/>\r\n",
       "<polygon fill=\"black\" stroke=\"black\" points=\"168.246,-69.6047 157.767,-68.0433 164.986,-75.7988 168.246,-69.6047\"/>\r\n",
       "</g>\r\n",
       "<!-- 4 -->\r\n",
       "<g id=\"node5\" class=\"node\"><title>4</title>\r\n",
       "<path fill=\"#eda674\" stroke=\"black\" d=\"M386,-68C386,-68 220,-68 220,-68 214,-68 208,-62 208,-56 208,-56 208,-12 208,-12 208,-6 214,-0 220,-0 220,-0 386,-0 386,-0 392,-0 398,-6 398,-12 398,-12 398,-56 398,-56 398,-62 392,-68 386,-68\"/>\r\n",
       "<text text-anchor=\"start\" x=\"257\" y=\"-52.8\" font-family=\"Helvetica,sans-Serif\" font-size=\"14.00\">entropy = 1.05</text>\r\n",
       "<text text-anchor=\"start\" x=\"251.5\" y=\"-37.8\" font-family=\"Helvetica,sans-Serif\" font-size=\"14.00\">samples = 4.0%</text>\r\n",
       "<text text-anchor=\"start\" x=\"216\" y=\"-22.8\" font-family=\"Helvetica,sans-Serif\" font-size=\"14.00\">value = [0.75, 0.094, 0.156]</text>\r\n",
       "<text text-anchor=\"start\" x=\"274.5\" y=\"-7.8\" font-family=\"Helvetica,sans-Serif\" font-size=\"14.00\">class = h</text>\r\n",
       "</g>\r\n",
       "<!-- 2&#45;&gt;4 -->\r\n",
       "<g id=\"edge4\" class=\"edge\"><title>2&#45;&gt;4</title>\r\n",
       "<path fill=\"none\" stroke=\"black\" d=\"M303,-103.726C303,-95.5175 303,-86.8595 303,-78.56\"/>\r\n",
       "<polygon fill=\"black\" stroke=\"black\" points=\"306.5,-78.2996 303,-68.2996 299.5,-78.2996 306.5,-78.2996\"/>\r\n",
       "</g>\r\n",
       "<!-- 6 -->\r\n",
       "<g id=\"node7\" class=\"node\"><title>6</title>\r\n",
       "<path fill=\"#efb285\" stroke=\"black\" d=\"M602,-68C602,-68 428,-68 428,-68 422,-68 416,-62 416,-56 416,-56 416,-12 416,-12 416,-6 422,-0 428,-0 428,-0 602,-0 602,-0 608,-0 614,-6 614,-12 614,-12 614,-56 614,-56 614,-62 608,-68 602,-68\"/>\r\n",
       "<text text-anchor=\"start\" x=\"469\" y=\"-52.8\" font-family=\"Helvetica,sans-Serif\" font-size=\"14.00\">entropy = 1.22</text>\r\n",
       "<text text-anchor=\"start\" x=\"463.5\" y=\"-37.8\" font-family=\"Helvetica,sans-Serif\" font-size=\"14.00\">samples = 8.5%</text>\r\n",
       "<text text-anchor=\"start\" x=\"424\" y=\"-22.8\" font-family=\"Helvetica,sans-Serif\" font-size=\"14.00\">value = [0.681, 0.145, 0.174]</text>\r\n",
       "<text text-anchor=\"start\" x=\"486.5\" y=\"-7.8\" font-family=\"Helvetica,sans-Serif\" font-size=\"14.00\">class = h</text>\r\n",
       "</g>\r\n",
       "<!-- 5&#45;&gt;6 -->\r\n",
       "<g id=\"edge6\" class=\"edge\"><title>5&#45;&gt;6</title>\r\n",
       "<path fill=\"none\" stroke=\"black\" d=\"M616.05,-103.726C601.626,-93.9161 586.258,-83.4644 571.974,-73.7496\"/>\r\n",
       "<polygon fill=\"black\" stroke=\"black\" points=\"573.942,-70.855 563.705,-68.1252 570.005,-76.6431 573.942,-70.855\"/>\r\n",
       "</g>\r\n",
       "<!-- 7 -->\r\n",
       "<g id=\"node8\" class=\"node\"><title>7</title>\r\n",
       "<path fill=\"#e68642\" stroke=\"black\" d=\"M818,-68C818,-68 644,-68 644,-68 638,-68 632,-62 632,-56 632,-56 632,-12 632,-12 632,-6 638,-0 644,-0 644,-0 818,-0 818,-0 824,-0 830,-6 830,-12 830,-12 830,-56 830,-56 830,-62 824,-68 818,-68\"/>\r\n",
       "<text text-anchor=\"start\" x=\"681\" y=\"-52.8\" font-family=\"Helvetica,sans-Serif\" font-size=\"14.00\">entropy = 0.292</text>\r\n",
       "<text text-anchor=\"start\" x=\"675\" y=\"-37.8\" font-family=\"Helvetica,sans-Serif\" font-size=\"14.00\">samples = 14.7%</text>\r\n",
       "<text text-anchor=\"start\" x=\"640\" y=\"-22.8\" font-family=\"Helvetica,sans-Serif\" font-size=\"14.00\">value = [0.958, 0.025, 0.017]</text>\r\n",
       "<text text-anchor=\"start\" x=\"702.5\" y=\"-7.8\" font-family=\"Helvetica,sans-Serif\" font-size=\"14.00\">class = h</text>\r\n",
       "</g>\r\n",
       "<!-- 5&#45;&gt;7 -->\r\n",
       "<g id=\"edge7\" class=\"edge\"><title>5&#45;&gt;7</title>\r\n",
       "<path fill=\"none\" stroke=\"black\" d=\"M696.48,-103.726C700.786,-95.1527 705.339,-86.0891 709.675,-77.4555\"/>\r\n",
       "<polygon fill=\"black\" stroke=\"black\" points=\"712.913,-78.8067 714.274,-68.2996 706.658,-75.6647 712.913,-78.8067\"/>\r\n",
       "</g>\r\n",
       "<!-- 9 -->\r\n",
       "<g id=\"node10\" class=\"node\"><title>9</title>\r\n",
       "<path fill=\"#c8a8f4\" stroke=\"black\" d=\"M1081,-187C1081,-187 907,-187 907,-187 901,-187 895,-181 895,-175 895,-175 895,-116 895,-116 895,-110 901,-104 907,-104 907,-104 1081,-104 1081,-104 1087,-104 1093,-110 1093,-116 1093,-116 1093,-175 1093,-175 1093,-181 1087,-187 1081,-187\"/>\r\n",
       "<text text-anchor=\"start\" x=\"943.5\" y=\"-171.8\" font-family=\"Helvetica,sans-Serif\" font-size=\"14.00\">Landsize ≤ 76.0</text>\r\n",
       "<text text-anchor=\"start\" x=\"944\" y=\"-156.8\" font-family=\"Helvetica,sans-Serif\" font-size=\"14.00\">entropy = 1.118</text>\r\n",
       "<text text-anchor=\"start\" x=\"938\" y=\"-141.8\" font-family=\"Helvetica,sans-Serif\" font-size=\"14.00\">samples = 17.9%</text>\r\n",
       "<text text-anchor=\"start\" x=\"903\" y=\"-126.8\" font-family=\"Helvetica,sans-Serif\" font-size=\"14.00\">value = [0.034, 0.338, 0.628]</text>\r\n",
       "<text text-anchor=\"start\" x=\"965.5\" y=\"-111.8\" font-family=\"Helvetica,sans-Serif\" font-size=\"14.00\">class = u</text>\r\n",
       "</g>\r\n",
       "<!-- 8&#45;&gt;9 -->\r\n",
       "<g id=\"edge9\" class=\"edge\"><title>8&#45;&gt;9</title>\r\n",
       "<path fill=\"none\" stroke=\"black\" d=\"M994,-222.907C994,-214.649 994,-205.864 994,-197.302\"/>\r\n",
       "<polygon fill=\"black\" stroke=\"black\" points=\"997.5,-197.021 994,-187.021 990.5,-197.021 997.5,-197.021\"/>\r\n",
       "</g>\r\n",
       "<!-- 12 -->\r\n",
       "<g id=\"node13\" class=\"node\"><title>12</title>\r\n",
       "<path fill=\"#7eeead\" stroke=\"black\" d=\"M1450,-187C1450,-187 1276,-187 1276,-187 1270,-187 1264,-181 1264,-175 1264,-175 1264,-116 1264,-116 1264,-110 1270,-104 1276,-104 1276,-104 1450,-104 1450,-104 1456,-104 1462,-110 1462,-116 1462,-116 1462,-175 1462,-175 1462,-181 1456,-187 1450,-187\"/>\r\n",
       "<text text-anchor=\"start\" x=\"1308.5\" y=\"-171.8\" font-family=\"Helvetica,sans-Serif\" font-size=\"14.00\">Landsize ≤ 391.0</text>\r\n",
       "<text text-anchor=\"start\" x=\"1313\" y=\"-156.8\" font-family=\"Helvetica,sans-Serif\" font-size=\"14.00\">entropy = 1.158</text>\r\n",
       "<text text-anchor=\"start\" x=\"1307\" y=\"-141.8\" font-family=\"Helvetica,sans-Serif\" font-size=\"14.00\">samples = 36.4%</text>\r\n",
       "<text text-anchor=\"start\" x=\"1272\" y=\"-126.8\" font-family=\"Helvetica,sans-Serif\" font-size=\"14.00\">value = [0.166, 0.708, 0.125]</text>\r\n",
       "<text text-anchor=\"start\" x=\"1336.5\" y=\"-111.8\" font-family=\"Helvetica,sans-Serif\" font-size=\"14.00\">class = t</text>\r\n",
       "</g>\r\n",
       "<!-- 8&#45;&gt;12 -->\r\n",
       "<g id=\"edge12\" class=\"edge\"><title>8&#45;&gt;12</title>\r\n",
       "<path fill=\"none\" stroke=\"black\" d=\"M1093.37,-231.992C1143,-216.255 1203.16,-197.18 1254.05,-181.044\"/>\r\n",
       "<polygon fill=\"black\" stroke=\"black\" points=\"1255.3,-184.321 1263.77,-177.962 1253.18,-177.649 1255.3,-184.321\"/>\r\n",
       "</g>\r\n",
       "<!-- 10 -->\r\n",
       "<g id=\"node11\" class=\"node\"><title>10</title>\r\n",
       "<path fill=\"#9253e8\" stroke=\"black\" d=\"M1018,-68C1018,-68 860,-68 860,-68 854,-68 848,-62 848,-56 848,-56 848,-12 848,-12 848,-6 854,-0 860,-0 860,-0 1018,-0 1018,-0 1024,-0 1030,-6 1030,-12 1030,-12 1030,-56 1030,-56 1030,-62 1024,-68 1018,-68\"/>\r\n",
       "<text text-anchor=\"start\" x=\"889\" y=\"-52.8\" font-family=\"Helvetica,sans-Serif\" font-size=\"14.00\">entropy = 0.523</text>\r\n",
       "<text text-anchor=\"start\" x=\"887.5\" y=\"-37.8\" font-family=\"Helvetica,sans-Serif\" font-size=\"14.00\">samples = 8.4%</text>\r\n",
       "<text text-anchor=\"start\" x=\"856\" y=\"-22.8\" font-family=\"Helvetica,sans-Serif\" font-size=\"14.00\">value = [0.0, 0.118, 0.882]</text>\r\n",
       "<text text-anchor=\"start\" x=\"910.5\" y=\"-7.8\" font-family=\"Helvetica,sans-Serif\" font-size=\"14.00\">class = u</text>\r\n",
       "</g>\r\n",
       "<!-- 9&#45;&gt;10 -->\r\n",
       "<g id=\"edge10\" class=\"edge\"><title>9&#45;&gt;10</title>\r\n",
       "<path fill=\"none\" stroke=\"black\" d=\"M973.52,-103.726C969.214,-95.1527 964.661,-86.0891 960.325,-77.4555\"/>\r\n",
       "<polygon fill=\"black\" stroke=\"black\" points=\"963.342,-75.6647 955.726,-68.2996 957.087,-78.8067 963.342,-75.6647\"/>\r\n",
       "</g>\r\n",
       "<!-- 11 -->\r\n",
       "<g id=\"node12\" class=\"node\"><title>11</title>\r\n",
       "<path fill=\"#d4f9e4\" stroke=\"black\" d=\"M1234,-68C1234,-68 1060,-68 1060,-68 1054,-68 1048,-62 1048,-56 1048,-56 1048,-12 1048,-12 1048,-6 1054,-0 1060,-0 1060,-0 1234,-0 1234,-0 1240,-0 1246,-6 1246,-12 1246,-12 1246,-56 1246,-56 1246,-62 1240,-68 1234,-68\"/>\r\n",
       "<text text-anchor=\"start\" x=\"1097\" y=\"-52.8\" font-family=\"Helvetica,sans-Serif\" font-size=\"14.00\">entropy = 1.269</text>\r\n",
       "<text text-anchor=\"start\" x=\"1095.5\" y=\"-37.8\" font-family=\"Helvetica,sans-Serif\" font-size=\"14.00\">samples = 9.5%</text>\r\n",
       "<text text-anchor=\"start\" x=\"1056\" y=\"-22.8\" font-family=\"Helvetica,sans-Serif\" font-size=\"14.00\">value = [0.065, 0.532, 0.403]</text>\r\n",
       "<text text-anchor=\"start\" x=\"1120.5\" y=\"-7.8\" font-family=\"Helvetica,sans-Serif\" font-size=\"14.00\">class = t</text>\r\n",
       "</g>\r\n",
       "<!-- 9&#45;&gt;11 -->\r\n",
       "<g id=\"edge11\" class=\"edge\"><title>9&#45;&gt;11</title>\r\n",
       "<path fill=\"none\" stroke=\"black\" d=\"M1050.97,-103.726C1064.48,-94.0582 1078.86,-83.767 1092.27,-74.172\"/>\r\n",
       "<polygon fill=\"black\" stroke=\"black\" points=\"1094.38,-76.9657 1100.47,-68.2996 1090.3,-71.2734 1094.38,-76.9657\"/>\r\n",
       "</g>\r\n",
       "<!-- 13 -->\r\n",
       "<g id=\"node14\" class=\"node\"><title>13</title>\r\n",
       "<path fill=\"#69eb9f\" stroke=\"black\" d=\"M1450,-68C1450,-68 1276,-68 1276,-68 1270,-68 1264,-62 1264,-56 1264,-56 1264,-12 1264,-12 1264,-6 1270,-0 1276,-0 1276,-0 1450,-0 1450,-0 1456,-0 1462,-6 1462,-12 1462,-12 1462,-56 1462,-56 1462,-62 1456,-68 1450,-68\"/>\r\n",
       "<text text-anchor=\"start\" x=\"1313\" y=\"-52.8\" font-family=\"Helvetica,sans-Serif\" font-size=\"14.00\">entropy = 0.933</text>\r\n",
       "<text text-anchor=\"start\" x=\"1307\" y=\"-37.8\" font-family=\"Helvetica,sans-Serif\" font-size=\"14.00\">samples = 30.2%</text>\r\n",
       "<text text-anchor=\"start\" x=\"1272\" y=\"-22.8\" font-family=\"Helvetica,sans-Serif\" font-size=\"14.00\">value = [0.073, 0.792, 0.135]</text>\r\n",
       "<text text-anchor=\"start\" x=\"1336.5\" y=\"-7.8\" font-family=\"Helvetica,sans-Serif\" font-size=\"14.00\">class = t</text>\r\n",
       "</g>\r\n",
       "<!-- 12&#45;&gt;13 -->\r\n",
       "<g id=\"edge13\" class=\"edge\"><title>12&#45;&gt;13</title>\r\n",
       "<path fill=\"none\" stroke=\"black\" d=\"M1363,-103.726C1363,-95.5175 1363,-86.8595 1363,-78.56\"/>\r\n",
       "<polygon fill=\"black\" stroke=\"black\" points=\"1366.5,-78.2996 1363,-68.2996 1359.5,-78.2996 1366.5,-78.2996\"/>\r\n",
       "</g>\r\n",
       "<!-- 14 -->\r\n",
       "<g id=\"node15\" class=\"node\"><title>14</title>\r\n",
       "<path fill=\"#f3c5a4\" stroke=\"black\" d=\"M1633.5,-68C1633.5,-68 1492.5,-68 1492.5,-68 1486.5,-68 1480.5,-62 1480.5,-56 1480.5,-56 1480.5,-12 1480.5,-12 1480.5,-6 1486.5,-0 1492.5,-0 1492.5,-0 1633.5,-0 1633.5,-0 1639.5,-0 1645.5,-6 1645.5,-12 1645.5,-12 1645.5,-56 1645.5,-56 1645.5,-62 1639.5,-68 1633.5,-68\"/>\r\n",
       "<text text-anchor=\"start\" x=\"1517\" y=\"-52.8\" font-family=\"Helvetica,sans-Serif\" font-size=\"14.00\">entropy = 1.24</text>\r\n",
       "<text text-anchor=\"start\" x=\"1511.5\" y=\"-37.8\" font-family=\"Helvetica,sans-Serif\" font-size=\"14.00\">samples = 6.2%</text>\r\n",
       "<text text-anchor=\"start\" x=\"1488.5\" y=\"-22.8\" font-family=\"Helvetica,sans-Serif\" font-size=\"14.00\">value = [0.62, 0.3, 0.08]</text>\r\n",
       "<text text-anchor=\"start\" x=\"1534.5\" y=\"-7.8\" font-family=\"Helvetica,sans-Serif\" font-size=\"14.00\">class = h</text>\r\n",
       "</g>\r\n",
       "<!-- 12&#45;&gt;14 -->\r\n",
       "<g id=\"edge14\" class=\"edge\"><title>12&#45;&gt;14</title>\r\n",
       "<path fill=\"none\" stroke=\"black\" d=\"M1437.19,-103.882C1455.72,-93.7346 1475.53,-82.8922 1493.81,-72.8832\"/>\r\n",
       "<polygon fill=\"black\" stroke=\"black\" points=\"1495.56,-75.9157 1502.65,-68.0433 1492.19,-69.7757 1495.56,-75.9157\"/>\r\n",
       "</g>\r\n",
       "</g>\r\n",
       "</svg>\r\n"
      ],
      "text/plain": [
       "<graphviz.files.Source at 0x16709f34970>"
      ]
     },
     "execution_count": 15,
     "metadata": {},
     "output_type": "execute_result"
    }
   ],
   "source": [
    "# Display graphviz version of the tree\n",
    "target_names = list(s_y.str.get_dummies().columns)\n",
    "dot_data = tree.export_graphviz(decision_tree, out_file= None, rounded = True, feature_names=list(df_X_hot.columns), filled=True, special_characters=True, class_names = ['h','t','u'], proportion = True)  \n",
    "graph = graphviz.Source(dot_data)  \n",
    "graph "
   ]
  },
  {
   "cell_type": "markdown",
   "metadata": {},
   "source": [
    "➡️ Answer containing your descriptive analytics in markdown here ⬅️\n",
    "\n",
    "Generally when following the chart, duplexes are smaller and cheaper, while houses have a large land size and many rooms, and townhouses have a small landsize and mid-sized building area. Overall, it is hard to come up with definitive trends based on this table. \n"
   ]
  },
  {
   "cell_type": "markdown",
   "metadata": {},
   "source": [
    "## Q7 Calculate the Accuracy and Display Learning Curve\n",
    "Load in the test data from melb_tree_test.csv.\n",
    "\n",
    "Use the scikit-learn library to create many decision trees, each one with a different configuration (aka Hyperparameters).  You will create 28 different trees by:\n",
    "\n",
    "    - Varying the max depth from 2 to 15 with the Gini Index as the impurity measure\n",
    "    - Varying the max depth from 2 to 15 with the Entropy as the impurity measure\n",
    "\n",
    "Implementation tip: you can create an array of numbers from 2 to 15 by using the numpy function [arange](https://numpy.org/doc/stable/reference/generated/numpy.arange.html).\n",
    "\n",
    "For each of the 28 decistion trees, calculate the error rate by using the data in the: \n",
    "  - Training set, and\n",
    "  - Test set.\n",
    "\n",
    "Display the results graphicaly, and offer an analysis of the trend (or if no trend present, offer a hypotheisis of why).  The max depth should be on the x-axis, and the error rate should be on the y-axis (see figure 3.23 in your DM textbook for a similar style of graph that uses leaf nodes instead of depth for the x-axis). Your plot will include 4 series of data\n",
    "   - Test error (entropy)\n",
    "   - Test error (gini index)\n",
    "   - Training error (entropy)\n",
    "   - Training error (gini index)"
   ]
  },
  {
   "cell_type": "code",
   "execution_count": 16,
   "metadata": {},
   "outputs": [],
   "source": [
    "# Load in the test data\n",
    "df_test = pd.read_csv('melb_tree_test.csv')\n",
    "council = df_test['CouncilArea'].str.get_dummies()\n",
    "df_x_test = df_test.drop(columns = ['Type', 'CouncilArea'])\n",
    "for col in council.columns:\n",
    "    df_x_test[col] = council[col]\n",
    "s_y_test = df_test['Type']"
   ]
  },
  {
   "cell_type": "code",
   "execution_count": 17,
   "metadata": {},
   "outputs": [],
   "source": [
    "# Build the trees using the training data\n",
    "arr = np.arange(2,16)\n",
    "error_test_gini = []\n",
    "error_train_gini = []\n",
    "error_test_entr = []\n",
    "error_train_entr = []\n",
    "\n",
    "for num in arr:\n",
    "    decision_tree = tree.DecisionTreeClassifier(criterion = 'gini', max_depth=num)\n",
    "    decision_tree.fit(df_X_hot, s_y)\n",
    "    s_y_hat = decision_tree.predict(df_X_hot)\n",
    "    err_train = ( s_y != s_y_hat ).sum()/len(s_y_hat)\n",
    "    error_train_gini.append(err_train)\n",
    "    s_y_hat_test = decision_tree.predict(df_x_test)\n",
    "    err_test = (s_y_test != s_y_hat_test).sum()/len(s_y_test)\n",
    "    error_test_gini.append(err_test)\n",
    "    \n",
    "for num in arr:\n",
    "    decision_tree = tree.DecisionTreeClassifier(criterion = 'entropy', max_depth=num)\n",
    "    decision_tree.fit(df_X_hot, s_y)\n",
    "    s_y_hat = decision_tree.predict(df_X_hot)\n",
    "    err_train = ( s_y != s_y_hat ).sum()/len(s_y_hat)\n",
    "    error_train_entr.append(err_train)\n",
    "    s_y_hat_test = decision_tree.predict(df_x_test)\n",
    "    err_test = (s_y_test != s_y_hat_test).sum()/len(s_y_test)\n",
    "    error_test_entr.append(err_test)\n"
   ]
  },
  {
   "cell_type": "code",
   "execution_count": 18,
   "metadata": {},
   "outputs": [
    {
     "data": {
      "text/plain": [
       "Text(0.5, 1.0, 'Comparison of Error and Tree Depth with Different Impurity Methods')"
      ]
     },
     "execution_count": 18,
     "metadata": {},
     "output_type": "execute_result"
    },
    {
     "data": {
      "image/png": "[encoded data removed]",
      "text/plain": [
       "<Figure size 432x288 with 1 Axes>"
      ]
     },
     "metadata": {
      "needs_background": "light"
     },
     "output_type": "display_data"
    }
   ],
   "source": [
    "# Plot the 4 learning curves\n",
    "plt.plot(arr, error_test_gini, label = 'Test error (gini index)')\n",
    "plt.plot(arr, error_train_gini, label = 'Train error (gini index)')\n",
    "plt.plot(arr, error_test_entr, label = 'Test error (entropy)')\n",
    "plt.plot(arr, error_train_entr, label = 'Train error (entropy)')\n",
    "plt.legend()\n",
    "plt.xlabel('Max depth of tree')\n",
    "plt.ylabel('Error rate')\n",
    "plt.title('Comparison of Error and Tree Depth with Different Impurity Methods')"
   ]
  },
  {
   "cell_type": "markdown",
   "metadata": {},
   "source": [
    "➡️ Answer containing your analysis of the trend (or if no trend present, offer a hypotheisis of why) here ⬅️\n",
    "\n",
    "There are a couple of correlations of note in this data.\n",
    "\n",
    "First of all, in both of the Train error graphs, error starts high and continues to lower as the depth of the tree increases. This is becuase the tree is being overfitted to the training data, making it hyper-specific to the training data and eliminating almost all error.\n",
    "\n",
    "In the Test error graphs, error starts high and lowers as the table depth is increased. However, error only lowers to a certain point. After the table gets about 4 layers deep, the error begins to rise. This is because the tree is becoming overfitted to the training data and doesn't accurately represent the trends anymore.\n",
    "\n",
    "There isn't too much different between the relationship between error and depth whether you are using gini index or entropy as your tree method."
   ]
  },
  {
   "cell_type": "code",
   "execution_count": null,
   "metadata": {},
   "outputs": [],
   "source": []
  }
 ],
 "metadata": {
  "kernelspec": {
   "display_name": "Python 3",
   "language": "python",
   "name": "python3"
  },
  "language_info": {
   "codemirror_mode": {
    "name": "ipython",
    "version": 3
   },
   "file_extension": ".py",
   "mimetype": "text/x-python",
   "name": "python",
   "nbconvert_exporter": "python",
   "pygments_lexer": "ipython3",
   "version": "3.8.8"
  }
 },
 "nbformat": 4,
 "nbformat_minor": 4
}
